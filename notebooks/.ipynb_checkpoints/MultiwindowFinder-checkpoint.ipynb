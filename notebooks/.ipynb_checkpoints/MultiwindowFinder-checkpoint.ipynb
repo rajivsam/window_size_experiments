{
 "cells": [
  {
   "cell_type": "code",
   "execution_count": 1,
   "id": "df2b5539",
   "metadata": {
    "tags": []
   },
   "outputs": [],
   "source": [
    "import numpy as np\n",
    "import pandas as pd\n",
    "import matplotlib.pyplot as plt\n",
    "import plotly.express as px\n",
    "import os\n",
    "\n",
    "import plotly.graph_objects as go"
   ]
  },
  {
   "cell_type": "code",
   "execution_count": 21,
   "id": "da1b4392-35d8-4bdf-9a0c-ff490e814580",
   "metadata": {},
   "outputs": [],
   "source": [
    "movingAvgResiduals = []\n",
    "window_sizes = []"
   ]
  },
  {
   "cell_type": "code",
   "execution_count": 26,
   "id": "8193034a",
   "metadata": {
    "tags": []
   },
   "outputs": [],
   "source": [
    "def movmean(ts, w):\n",
    "    \"\"\"\n",
    "    # faster solution of moving ave\n",
    "    moving_avg = np.cumsum(ts, dtype=float)\n",
    "    moving_avg[w:] = moving_avg[w:] - moving_avg[:-w]\n",
    "    return moving_avg[w-1:] / w\n",
    "    \"\"\"\n",
    "\n",
    "        \n",
    "    moving_avg = np.cumsum(ts, dtype=float)\n",
    "    moving_avg[w:] = moving_avg[w:] - moving_avg[:-w]\n",
    "    return moving_avg[w-1:] / w\n",
    "\n",
    "\n",
    "\n",
    "def original_finding_window_size(ts, start, end, step):\n",
    "    \"\"\"\n",
    "    finidng appropriate window size using movemean\n",
    "    \"\"\"\n",
    "    threshold = float('inf')\n",
    "    all_averages = []\n",
    "    \n",
    "    #step size is now parametrized\n",
    "    for w in range(start, end, step):\n",
    " \n",
    "        movingAvg = np.array(movmean(ts, w))\n",
    "        \n",
    "        all_averages.append(movingAvg)\n",
    "        window_sizes.append(w)\n",
    "\n",
    "    \n",
    "\n",
    "    for i, w in enumerate(window_sizes):\n",
    "        moving_avg = all_averages[i][:len(all_averages[-1])]\n",
    "        \n",
    "        movingAvgResidual = np.log(abs(moving_avg - (moving_avg).mean()).sum())\n",
    "\n",
    "        movingAvgResiduals.append(movingAvgResidual)\n",
    "\n",
    "    b = (np.diff(np.sign(np.diff(movingAvgResiduals))) > 0).nonzero()[0] + 1  #local min , RS: This identifies the local minima\n",
    "    reswin = []\n",
    "    try:\n",
    "        for i in range(3):\n",
    "            reswin.append(window_sizes[b[i]]/ (i+1))\n",
    "        reswin = np.array(reswin)\n",
    "        winTime = 0.8 * reswin[0] + 0.15 * reswin[1] + 0.05 * reswin[2] # RS: This seems to be some weighting of the first 3 local minima\n",
    "#         winTime = np.mean(reswin)\n",
    "        conf = np.std(reswin)/  np.sqrt(3)\n",
    "    except:\n",
    "        winTime = window_sizes[b[0]] # RS: If you don't have 3 minima, default to the first, the first is a good estimate anyway.\n",
    "        conf = np.nan\n",
    "#     kn =  windowLocator(window_sizes, movingAvgResiduals) # window size (the reason I choose kn is because when I wanted to be the same name as kneelocator function)\n",
    "#     movingAvgResiduals = list(np.array(movingAvgResiduals[:-1]) - np.array(movingAvgResiduals[1:]))\n",
    "\n",
    "    return winTime, conf, reswin"
   ]
  },
  {
   "cell_type": "code",
   "execution_count": 23,
   "id": "b9e28376-a152-4a10-a510-56cb4f4e82b9",
   "metadata": {},
   "outputs": [],
   "source": [
    "fp = \"../data/data_phase2/001_UCR_Anomaly_35000.txt\"\n",
    "df = pd.read_csv(fp)\n",
    "ts = df.values"
   ]
  },
  {
   "cell_type": "code",
   "execution_count": 28,
   "id": "2bf17845-ac3e-477b-a66c-91ec315fe2b3",
   "metadata": {},
   "outputs": [],
   "source": [
    "# using s and e values in the listing for ALgorithm 1 in the paper.\n",
    "start = 10 \n",
    "end = 1000\n",
    "step = 10\n",
    "winTime, conf, reswin= original_finding_window_size(ts, start, end, step)"
   ]
  },
  {
   "cell_type": "code",
   "execution_count": 29,
   "id": "6b66a4be-b4cc-46f3-b62c-200acfb83e67",
   "metadata": {},
   "outputs": [],
   "source": [
    "dfp = pd.DataFrame.from_records({\"window_size\": window_sizes, \"moving_dist\": movingAvgResiduals})"
   ]
  },
  {
   "cell_type": "code",
   "execution_count": 30,
   "id": "a726e7ff-4965-4e14-9192-bdb3cfafc78e",
   "metadata": {},
   "outputs": [
    {
     "data": {
      "application/vnd.plotly.v1+json": {
       "config": {
        "plotlyServerURL": "https://plot.ly"
       },
       "data": [
        {
         "hovertemplate": "moving_dist=%{y}<br>window_size=%{x}<extra></extra>",
         "legendgroup": "16.005714176983776",
         "line": {
          "color": "#636efa",
          "dash": "solid"
         },
         "marker": {
          "symbol": "circle"
         },
         "mode": "lines+markers",
         "name": "16.005714176983776",
         "orientation": "v",
         "showlegend": true,
         "type": "scatter",
         "x": [
          10
         ],
         "xaxis": "x",
         "y": [
          16.005714176983776
         ],
         "yaxis": "y"
        },
        {
         "hovertemplate": "moving_dist=%{y}<br>window_size=%{x}<extra></extra>",
         "legendgroup": "15.954039114051998",
         "line": {
          "color": "#636efa",
          "dash": "solid"
         },
         "marker": {
          "symbol": "diamond"
         },
         "mode": "lines+markers",
         "name": "15.954039114051998",
         "orientation": "v",
         "showlegend": true,
         "type": "scatter",
         "x": [
          20
         ],
         "xaxis": "x",
         "y": [
          15.954039114051998
         ],
         "yaxis": "y"
        },
        {
         "hovertemplate": "moving_dist=%{y}<br>window_size=%{x}<extra></extra>",
         "legendgroup": "15.905230232164078",
         "line": {
          "color": "#636efa",
          "dash": "solid"
         },
         "marker": {
          "symbol": "square"
         },
         "mode": "lines+markers",
         "name": "15.905230232164078",
         "orientation": "v",
         "showlegend": true,
         "type": "scatter",
         "x": [
          30
         ],
         "xaxis": "x",
         "y": [
          15.905230232164078
         ],
         "yaxis": "y"
        },
        {
         "hovertemplate": "moving_dist=%{y}<br>window_size=%{x}<extra></extra>",
         "legendgroup": "15.855855041564912",
         "line": {
          "color": "#636efa",
          "dash": "solid"
         },
         "marker": {
          "symbol": "x"
         },
         "mode": "lines+markers",
         "name": "15.855855041564912",
         "orientation": "v",
         "showlegend": true,
         "type": "scatter",
         "x": [
          40
         ],
         "xaxis": "x",
         "y": [
          15.855855041564912
         ],
         "yaxis": "y"
        },
        {
         "hovertemplate": "moving_dist=%{y}<br>window_size=%{x}<extra></extra>",
         "legendgroup": "15.80186749915924",
         "line": {
          "color": "#636efa",
          "dash": "solid"
         },
         "marker": {
          "symbol": "cross"
         },
         "mode": "lines+markers",
         "name": "15.80186749915924",
         "orientation": "v",
         "showlegend": true,
         "type": "scatter",
         "x": [
          50
         ],
         "xaxis": "x",
         "y": [
          15.80186749915924
         ],
         "yaxis": "y"
        },
        {
         "hovertemplate": "moving_dist=%{y}<br>window_size=%{x}<extra></extra>",
         "legendgroup": "15.74157330851034",
         "line": {
          "color": "#636efa",
          "dash": "solid"
         },
         "marker": {
          "symbol": "circle"
         },
         "mode": "lines+markers",
         "name": "15.74157330851034",
         "orientation": "v",
         "showlegend": true,
         "type": "scatter",
         "x": [
          60
         ],
         "xaxis": "x",
         "y": [
          15.74157330851034
         ],
         "yaxis": "y"
        },
        {
         "hovertemplate": "moving_dist=%{y}<br>window_size=%{x}<extra></extra>",
         "legendgroup": "15.675265563835696",
         "line": {
          "color": "#636efa",
          "dash": "solid"
         },
         "marker": {
          "symbol": "diamond"
         },
         "mode": "lines+markers",
         "name": "15.675265563835696",
         "orientation": "v",
         "showlegend": true,
         "type": "scatter",
         "x": [
          70
         ],
         "xaxis": "x",
         "y": [
          15.675265563835696
         ],
         "yaxis": "y"
        },
        {
         "hovertemplate": "moving_dist=%{y}<br>window_size=%{x}<extra></extra>",
         "legendgroup": "15.606591144804897",
         "line": {
          "color": "#636efa",
          "dash": "solid"
         },
         "marker": {
          "symbol": "square"
         },
         "mode": "lines+markers",
         "name": "15.606591144804897",
         "orientation": "v",
         "showlegend": true,
         "type": "scatter",
         "x": [
          80
         ],
         "xaxis": "x",
         "y": [
          15.606591144804897
         ],
         "yaxis": "y"
        },
        {
         "hovertemplate": "moving_dist=%{y}<br>window_size=%{x}<extra></extra>",
         "legendgroup": "15.541743851623751",
         "line": {
          "color": "#636efa",
          "dash": "solid"
         },
         "marker": {
          "symbol": "x"
         },
         "mode": "lines+markers",
         "name": "15.541743851623751",
         "orientation": "v",
         "showlegend": true,
         "type": "scatter",
         "x": [
          90
         ],
         "xaxis": "x",
         "y": [
          15.541743851623751
         ],
         "yaxis": "y"
        },
        {
         "hovertemplate": "moving_dist=%{y}<br>window_size=%{x}<extra></extra>",
         "legendgroup": "15.48069003227856",
         "line": {
          "color": "#636efa",
          "dash": "solid"
         },
         "marker": {
          "symbol": "cross"
         },
         "mode": "lines+markers",
         "name": "15.48069003227856",
         "orientation": "v",
         "showlegend": true,
         "type": "scatter",
         "x": [
          100
         ],
         "xaxis": "x",
         "y": [
          15.48069003227856
         ],
         "yaxis": "y"
        },
        {
         "hovertemplate": "moving_dist=%{y}<br>window_size=%{x}<extra></extra>",
         "legendgroup": "15.420725354954634",
         "line": {
          "color": "#636efa",
          "dash": "solid"
         },
         "marker": {
          "symbol": "circle"
         },
         "mode": "lines+markers",
         "name": "15.420725354954634",
         "orientation": "v",
         "showlegend": true,
         "type": "scatter",
         "x": [
          110
         ],
         "xaxis": "x",
         "y": [
          15.420725354954634
         ],
         "yaxis": "y"
        },
        {
         "hovertemplate": "moving_dist=%{y}<br>window_size=%{x}<extra></extra>",
         "legendgroup": "15.361069103395796",
         "line": {
          "color": "#636efa",
          "dash": "solid"
         },
         "marker": {
          "symbol": "diamond"
         },
         "mode": "lines+markers",
         "name": "15.361069103395796",
         "orientation": "v",
         "showlegend": true,
         "type": "scatter",
         "x": [
          120
         ],
         "xaxis": "x",
         "y": [
          15.361069103395796
         ],
         "yaxis": "y"
        },
        {
         "hovertemplate": "moving_dist=%{y}<br>window_size=%{x}<extra></extra>",
         "legendgroup": "15.30060921482649",
         "line": {
          "color": "#636efa",
          "dash": "solid"
         },
         "marker": {
          "symbol": "square"
         },
         "mode": "lines+markers",
         "name": "15.30060921482649",
         "orientation": "v",
         "showlegend": true,
         "type": "scatter",
         "x": [
          130
         ],
         "xaxis": "x",
         "y": [
          15.30060921482649
         ],
         "yaxis": "y"
        },
        {
         "hovertemplate": "moving_dist=%{y}<br>window_size=%{x}<extra></extra>",
         "legendgroup": "15.237960755769048",
         "line": {
          "color": "#636efa",
          "dash": "solid"
         },
         "marker": {
          "symbol": "x"
         },
         "mode": "lines+markers",
         "name": "15.237960755769048",
         "orientation": "v",
         "showlegend": true,
         "type": "scatter",
         "x": [
          140
         ],
         "xaxis": "x",
         "y": [
          15.237960755769048
         ],
         "yaxis": "y"
        },
        {
         "hovertemplate": "moving_dist=%{y}<br>window_size=%{x}<extra></extra>",
         "legendgroup": "15.1713382451084",
         "line": {
          "color": "#636efa",
          "dash": "solid"
         },
         "marker": {
          "symbol": "cross"
         },
         "mode": "lines+markers",
         "name": "15.1713382451084",
         "orientation": "v",
         "showlegend": true,
         "type": "scatter",
         "x": [
          150
         ],
         "xaxis": "x",
         "y": [
          15.1713382451084
         ],
         "yaxis": "y"
        },
        {
         "hovertemplate": "moving_dist=%{y}<br>window_size=%{x}<extra></extra>",
         "legendgroup": "15.100591121455507",
         "line": {
          "color": "#636efa",
          "dash": "solid"
         },
         "marker": {
          "symbol": "circle"
         },
         "mode": "lines+markers",
         "name": "15.100591121455507",
         "orientation": "v",
         "showlegend": true,
         "type": "scatter",
         "x": [
          160
         ],
         "xaxis": "x",
         "y": [
          15.100591121455507
         ],
         "yaxis": "y"
        },
        {
         "hovertemplate": "moving_dist=%{y}<br>window_size=%{x}<extra></extra>",
         "legendgroup": "15.028426728541623",
         "line": {
          "color": "#636efa",
          "dash": "solid"
         },
         "marker": {
          "symbol": "diamond"
         },
         "mode": "lines+markers",
         "name": "15.028426728541623",
         "orientation": "v",
         "showlegend": true,
         "type": "scatter",
         "x": [
          170
         ],
         "xaxis": "x",
         "y": [
          15.028426728541623
         ],
         "yaxis": "y"
        },
        {
         "hovertemplate": "moving_dist=%{y}<br>window_size=%{x}<extra></extra>",
         "legendgroup": "14.95841734957401",
         "line": {
          "color": "#636efa",
          "dash": "solid"
         },
         "marker": {
          "symbol": "square"
         },
         "mode": "lines+markers",
         "name": "14.95841734957401",
         "orientation": "v",
         "showlegend": true,
         "type": "scatter",
         "x": [
          180
         ],
         "xaxis": "x",
         "y": [
          14.95841734957401
         ],
         "yaxis": "y"
        },
        {
         "hovertemplate": "moving_dist=%{y}<br>window_size=%{x}<extra></extra>",
         "legendgroup": "14.89543712078093",
         "line": {
          "color": "#636efa",
          "dash": "solid"
         },
         "marker": {
          "symbol": "x"
         },
         "mode": "lines+markers",
         "name": "14.89543712078093",
         "orientation": "v",
         "showlegend": true,
         "type": "scatter",
         "x": [
          190
         ],
         "xaxis": "x",
         "y": [
          14.89543712078093
         ],
         "yaxis": "y"
        },
        {
         "hovertemplate": "moving_dist=%{y}<br>window_size=%{x}<extra></extra>",
         "legendgroup": "14.848992267886116",
         "line": {
          "color": "#636efa",
          "dash": "solid"
         },
         "marker": {
          "symbol": "cross"
         },
         "mode": "lines+markers",
         "name": "14.848992267886116",
         "orientation": "v",
         "showlegend": true,
         "type": "scatter",
         "x": [
          200
         ],
         "xaxis": "x",
         "y": [
          14.848992267886116
         ],
         "yaxis": "y"
        },
        {
         "hovertemplate": "moving_dist=%{y}<br>window_size=%{x}<extra></extra>",
         "legendgroup": "14.829794208514993",
         "line": {
          "color": "#636efa",
          "dash": "solid"
         },
         "marker": {
          "symbol": "circle"
         },
         "mode": "lines+markers",
         "name": "14.829794208514993",
         "orientation": "v",
         "showlegend": true,
         "type": "scatter",
         "x": [
          210
         ],
         "xaxis": "x",
         "y": [
          14.829794208514993
         ],
         "yaxis": "y"
        },
        {
         "hovertemplate": "moving_dist=%{y}<br>window_size=%{x}<extra></extra>",
         "legendgroup": "14.835598522808365",
         "line": {
          "color": "#636efa",
          "dash": "solid"
         },
         "marker": {
          "symbol": "diamond"
         },
         "mode": "lines+markers",
         "name": "14.835598522808365",
         "orientation": "v",
         "showlegend": true,
         "type": "scatter",
         "x": [
          220
         ],
         "xaxis": "x",
         "y": [
          14.835598522808365
         ],
         "yaxis": "y"
        },
        {
         "hovertemplate": "moving_dist=%{y}<br>window_size=%{x}<extra></extra>",
         "legendgroup": "14.85566768574448",
         "line": {
          "color": "#636efa",
          "dash": "solid"
         },
         "marker": {
          "symbol": "square"
         },
         "mode": "lines+markers",
         "name": "14.85566768574448",
         "orientation": "v",
         "showlegend": true,
         "type": "scatter",
         "x": [
          230
         ],
         "xaxis": "x",
         "y": [
          14.85566768574448
         ],
         "yaxis": "y"
        },
        {
         "hovertemplate": "moving_dist=%{y}<br>window_size=%{x}<extra></extra>",
         "legendgroup": "14.878080810243066",
         "line": {
          "color": "#636efa",
          "dash": "solid"
         },
         "marker": {
          "symbol": "x"
         },
         "mode": "lines+markers",
         "name": "14.878080810243066",
         "orientation": "v",
         "showlegend": true,
         "type": "scatter",
         "x": [
          240
         ],
         "xaxis": "x",
         "y": [
          14.878080810243066
         ],
         "yaxis": "y"
        },
        {
         "hovertemplate": "moving_dist=%{y}<br>window_size=%{x}<extra></extra>",
         "legendgroup": "14.896410103632563",
         "line": {
          "color": "#636efa",
          "dash": "solid"
         },
         "marker": {
          "symbol": "cross"
         },
         "mode": "lines+markers",
         "name": "14.896410103632563",
         "orientation": "v",
         "showlegend": true,
         "type": "scatter",
         "x": [
          250
         ],
         "xaxis": "x",
         "y": [
          14.896410103632563
         ],
         "yaxis": "y"
        },
        {
         "hovertemplate": "moving_dist=%{y}<br>window_size=%{x}<extra></extra>",
         "legendgroup": "14.909195059864448",
         "line": {
          "color": "#636efa",
          "dash": "solid"
         },
         "marker": {
          "symbol": "circle"
         },
         "mode": "lines+markers",
         "name": "14.909195059864448",
         "orientation": "v",
         "showlegend": true,
         "type": "scatter",
         "x": [
          260
         ],
         "xaxis": "x",
         "y": [
          14.909195059864448
         ],
         "yaxis": "y"
        },
        {
         "hovertemplate": "moving_dist=%{y}<br>window_size=%{x}<extra></extra>",
         "legendgroup": "14.91613643587433",
         "line": {
          "color": "#636efa",
          "dash": "solid"
         },
         "marker": {
          "symbol": "diamond"
         },
         "mode": "lines+markers",
         "name": "14.91613643587433",
         "orientation": "v",
         "showlegend": true,
         "type": "scatter",
         "x": [
          270
         ],
         "xaxis": "x",
         "y": [
          14.91613643587433
         ],
         "yaxis": "y"
        },
        {
         "hovertemplate": "moving_dist=%{y}<br>window_size=%{x}<extra></extra>",
         "legendgroup": "14.918034005299248",
         "line": {
          "color": "#636efa",
          "dash": "solid"
         },
         "marker": {
          "symbol": "square"
         },
         "mode": "lines+markers",
         "name": "14.918034005299248",
         "orientation": "v",
         "showlegend": true,
         "type": "scatter",
         "x": [
          280
         ],
         "xaxis": "x",
         "y": [
          14.918034005299248
         ],
         "yaxis": "y"
        },
        {
         "hovertemplate": "moving_dist=%{y}<br>window_size=%{x}<extra></extra>",
         "legendgroup": "14.915901382591931",
         "line": {
          "color": "#636efa",
          "dash": "solid"
         },
         "marker": {
          "symbol": "x"
         },
         "mode": "lines+markers",
         "name": "14.915901382591931",
         "orientation": "v",
         "showlegend": true,
         "type": "scatter",
         "x": [
          290
         ],
         "xaxis": "x",
         "y": [
          14.915901382591931
         ],
         "yaxis": "y"
        },
        {
         "hovertemplate": "moving_dist=%{y}<br>window_size=%{x}<extra></extra>",
         "legendgroup": "14.910542760015932",
         "line": {
          "color": "#636efa",
          "dash": "solid"
         },
         "marker": {
          "symbol": "cross"
         },
         "mode": "lines+markers",
         "name": "14.910542760015932",
         "orientation": "v",
         "showlegend": true,
         "type": "scatter",
         "x": [
          300
         ],
         "xaxis": "x",
         "y": [
          14.910542760015932
         ],
         "yaxis": "y"
        },
        {
         "hovertemplate": "moving_dist=%{y}<br>window_size=%{x}<extra></extra>",
         "legendgroup": "14.901792108802942",
         "line": {
          "color": "#636efa",
          "dash": "solid"
         },
         "marker": {
          "symbol": "circle"
         },
         "mode": "lines+markers",
         "name": "14.901792108802942",
         "orientation": "v",
         "showlegend": true,
         "type": "scatter",
         "x": [
          310
         ],
         "xaxis": "x",
         "y": [
          14.901792108802942
         ],
         "yaxis": "y"
        },
        {
         "hovertemplate": "moving_dist=%{y}<br>window_size=%{x}<extra></extra>",
         "legendgroup": "14.88962309631247",
         "line": {
          "color": "#636efa",
          "dash": "solid"
         },
         "marker": {
          "symbol": "diamond"
         },
         "mode": "lines+markers",
         "name": "14.88962309631247",
         "orientation": "v",
         "showlegend": true,
         "type": "scatter",
         "x": [
          320
         ],
         "xaxis": "x",
         "y": [
          14.88962309631247
         ],
         "yaxis": "y"
        },
        {
         "hovertemplate": "moving_dist=%{y}<br>window_size=%{x}<extra></extra>",
         "legendgroup": "14.874257756266415",
         "line": {
          "color": "#636efa",
          "dash": "solid"
         },
         "marker": {
          "symbol": "square"
         },
         "mode": "lines+markers",
         "name": "14.874257756266415",
         "orientation": "v",
         "showlegend": true,
         "type": "scatter",
         "x": [
          330
         ],
         "xaxis": "x",
         "y": [
          14.874257756266415
         ],
         "yaxis": "y"
        },
        {
         "hovertemplate": "moving_dist=%{y}<br>window_size=%{x}<extra></extra>",
         "legendgroup": "14.855866675138163",
         "line": {
          "color": "#636efa",
          "dash": "solid"
         },
         "marker": {
          "symbol": "x"
         },
         "mode": "lines+markers",
         "name": "14.855866675138163",
         "orientation": "v",
         "showlegend": true,
         "type": "scatter",
         "x": [
          340
         ],
         "xaxis": "x",
         "y": [
          14.855866675138163
         ],
         "yaxis": "y"
        },
        {
         "hovertemplate": "moving_dist=%{y}<br>window_size=%{x}<extra></extra>",
         "legendgroup": "14.834651090410198",
         "line": {
          "color": "#636efa",
          "dash": "solid"
         },
         "marker": {
          "symbol": "cross"
         },
         "mode": "lines+markers",
         "name": "14.834651090410198",
         "orientation": "v",
         "showlegend": true,
         "type": "scatter",
         "x": [
          350
         ],
         "xaxis": "x",
         "y": [
          14.834651090410198
         ],
         "yaxis": "y"
        },
        {
         "hovertemplate": "moving_dist=%{y}<br>window_size=%{x}<extra></extra>",
         "legendgroup": "14.810635622318248",
         "line": {
          "color": "#636efa",
          "dash": "solid"
         },
         "marker": {
          "symbol": "circle"
         },
         "mode": "lines+markers",
         "name": "14.810635622318248",
         "orientation": "v",
         "showlegend": true,
         "type": "scatter",
         "x": [
          360
         ],
         "xaxis": "x",
         "y": [
          14.810635622318248
         ],
         "yaxis": "y"
        },
        {
         "hovertemplate": "moving_dist=%{y}<br>window_size=%{x}<extra></extra>",
         "legendgroup": "14.784705305290826",
         "line": {
          "color": "#636efa",
          "dash": "solid"
         },
         "marker": {
          "symbol": "diamond"
         },
         "mode": "lines+markers",
         "name": "14.784705305290826",
         "orientation": "v",
         "showlegend": true,
         "type": "scatter",
         "x": [
          370
         ],
         "xaxis": "x",
         "y": [
          14.784705305290826
         ],
         "yaxis": "y"
        },
        {
         "hovertemplate": "moving_dist=%{y}<br>window_size=%{x}<extra></extra>",
         "legendgroup": "14.758232999824893",
         "line": {
          "color": "#636efa",
          "dash": "solid"
         },
         "marker": {
          "symbol": "square"
         },
         "mode": "lines+markers",
         "name": "14.758232999824893",
         "orientation": "v",
         "showlegend": true,
         "type": "scatter",
         "x": [
          380
         ],
         "xaxis": "x",
         "y": [
          14.758232999824893
         ],
         "yaxis": "y"
        },
        {
         "hovertemplate": "moving_dist=%{y}<br>window_size=%{x}<extra></extra>",
         "legendgroup": "14.733154313096657",
         "line": {
          "color": "#636efa",
          "dash": "solid"
         },
         "marker": {
          "symbol": "x"
         },
         "mode": "lines+markers",
         "name": "14.733154313096657",
         "orientation": "v",
         "showlegend": true,
         "type": "scatter",
         "x": [
          390
         ],
         "xaxis": "x",
         "y": [
          14.733154313096657
         ],
         "yaxis": "y"
        },
        {
         "hovertemplate": "moving_dist=%{y}<br>window_size=%{x}<extra></extra>",
         "legendgroup": "14.711583928333397",
         "line": {
          "color": "#636efa",
          "dash": "solid"
         },
         "marker": {
          "symbol": "cross"
         },
         "mode": "lines+markers",
         "name": "14.711583928333397",
         "orientation": "v",
         "showlegend": true,
         "type": "scatter",
         "x": [
          400
         ],
         "xaxis": "x",
         "y": [
          14.711583928333397
         ],
         "yaxis": "y"
        },
        {
         "hovertemplate": "moving_dist=%{y}<br>window_size=%{x}<extra></extra>",
         "legendgroup": "14.695308515388351",
         "line": {
          "color": "#636efa",
          "dash": "solid"
         },
         "marker": {
          "symbol": "circle"
         },
         "mode": "lines+markers",
         "name": "14.695308515388351",
         "orientation": "v",
         "showlegend": true,
         "type": "scatter",
         "x": [
          410
         ],
         "xaxis": "x",
         "y": [
          14.695308515388351
         ],
         "yaxis": "y"
        },
        {
         "hovertemplate": "moving_dist=%{y}<br>window_size=%{x}<extra></extra>",
         "legendgroup": "14.685881969261095",
         "line": {
          "color": "#636efa",
          "dash": "solid"
         },
         "marker": {
          "symbol": "diamond"
         },
         "mode": "lines+markers",
         "name": "14.685881969261095",
         "orientation": "v",
         "showlegend": true,
         "type": "scatter",
         "x": [
          420
         ],
         "xaxis": "x",
         "y": [
          14.685881969261095
         ],
         "yaxis": "y"
        },
        {
         "hovertemplate": "moving_dist=%{y}<br>window_size=%{x}<extra></extra>",
         "legendgroup": "14.684363002520461",
         "line": {
          "color": "#636efa",
          "dash": "solid"
         },
         "marker": {
          "symbol": "square"
         },
         "mode": "lines+markers",
         "name": "14.684363002520461",
         "orientation": "v",
         "showlegend": true,
         "type": "scatter",
         "x": [
          430
         ],
         "xaxis": "x",
         "y": [
          14.684363002520461
         ],
         "yaxis": "y"
        },
        {
         "hovertemplate": "moving_dist=%{y}<br>window_size=%{x}<extra></extra>",
         "legendgroup": "14.68853377141653",
         "line": {
          "color": "#636efa",
          "dash": "solid"
         },
         "marker": {
          "symbol": "x"
         },
         "mode": "lines+markers",
         "name": "14.68853377141653",
         "orientation": "v",
         "showlegend": true,
         "type": "scatter",
         "x": [
          440
         ],
         "xaxis": "x",
         "y": [
          14.68853377141653
         ],
         "yaxis": "y"
        },
        {
         "hovertemplate": "moving_dist=%{y}<br>window_size=%{x}<extra></extra>",
         "legendgroup": "14.694123448342802",
         "line": {
          "color": "#636efa",
          "dash": "solid"
         },
         "marker": {
          "symbol": "cross"
         },
         "mode": "lines+markers",
         "name": "14.694123448342802",
         "orientation": "v",
         "showlegend": true,
         "type": "scatter",
         "x": [
          450
         ],
         "xaxis": "x",
         "y": [
          14.694123448342802
         ],
         "yaxis": "y"
        },
        {
         "hovertemplate": "moving_dist=%{y}<br>window_size=%{x}<extra></extra>",
         "legendgroup": "14.698984546968385",
         "line": {
          "color": "#636efa",
          "dash": "solid"
         },
         "marker": {
          "symbol": "circle"
         },
         "mode": "lines+markers",
         "name": "14.698984546968385",
         "orientation": "v",
         "showlegend": true,
         "type": "scatter",
         "x": [
          460
         ],
         "xaxis": "x",
         "y": [
          14.698984546968385
         ],
         "yaxis": "y"
        },
        {
         "hovertemplate": "moving_dist=%{y}<br>window_size=%{x}<extra></extra>",
         "legendgroup": "14.70248617627135",
         "line": {
          "color": "#636efa",
          "dash": "solid"
         },
         "marker": {
          "symbol": "diamond"
         },
         "mode": "lines+markers",
         "name": "14.70248617627135",
         "orientation": "v",
         "showlegend": true,
         "type": "scatter",
         "x": [
          470
         ],
         "xaxis": "x",
         "y": [
          14.70248617627135
         ],
         "yaxis": "y"
        },
        {
         "hovertemplate": "moving_dist=%{y}<br>window_size=%{x}<extra></extra>",
         "legendgroup": "14.704803335839705",
         "line": {
          "color": "#636efa",
          "dash": "solid"
         },
         "marker": {
          "symbol": "square"
         },
         "mode": "lines+markers",
         "name": "14.704803335839705",
         "orientation": "v",
         "showlegend": true,
         "type": "scatter",
         "x": [
          480
         ],
         "xaxis": "x",
         "y": [
          14.704803335839705
         ],
         "yaxis": "y"
        },
        {
         "hovertemplate": "moving_dist=%{y}<br>window_size=%{x}<extra></extra>",
         "legendgroup": "14.705628695970903",
         "line": {
          "color": "#636efa",
          "dash": "solid"
         },
         "marker": {
          "symbol": "x"
         },
         "mode": "lines+markers",
         "name": "14.705628695970903",
         "orientation": "v",
         "showlegend": true,
         "type": "scatter",
         "x": [
          490
         ],
         "xaxis": "x",
         "y": [
          14.705628695970903
         ],
         "yaxis": "y"
        },
        {
         "hovertemplate": "moving_dist=%{y}<br>window_size=%{x}<extra></extra>",
         "legendgroup": "14.704509097586573",
         "line": {
          "color": "#636efa",
          "dash": "solid"
         },
         "marker": {
          "symbol": "cross"
         },
         "mode": "lines+markers",
         "name": "14.704509097586573",
         "orientation": "v",
         "showlegend": true,
         "type": "scatter",
         "x": [
          500
         ],
         "xaxis": "x",
         "y": [
          14.704509097586573
         ],
         "yaxis": "y"
        },
        {
         "hovertemplate": "moving_dist=%{y}<br>window_size=%{x}<extra></extra>",
         "legendgroup": "14.701457423561965",
         "line": {
          "color": "#636efa",
          "dash": "solid"
         },
         "marker": {
          "symbol": "circle"
         },
         "mode": "lines+markers",
         "name": "14.701457423561965",
         "orientation": "v",
         "showlegend": true,
         "type": "scatter",
         "x": [
          510
         ],
         "xaxis": "x",
         "y": [
          14.701457423561965
         ],
         "yaxis": "y"
        },
        {
         "hovertemplate": "moving_dist=%{y}<br>window_size=%{x}<extra></extra>",
         "legendgroup": "14.69664170684445",
         "line": {
          "color": "#636efa",
          "dash": "solid"
         },
         "marker": {
          "symbol": "diamond"
         },
         "mode": "lines+markers",
         "name": "14.69664170684445",
         "orientation": "v",
         "showlegend": true,
         "type": "scatter",
         "x": [
          520
         ],
         "xaxis": "x",
         "y": [
          14.69664170684445
         ],
         "yaxis": "y"
        },
        {
         "hovertemplate": "moving_dist=%{y}<br>window_size=%{x}<extra></extra>",
         "legendgroup": "14.690001819854468",
         "line": {
          "color": "#636efa",
          "dash": "solid"
         },
         "marker": {
          "symbol": "square"
         },
         "mode": "lines+markers",
         "name": "14.690001819854468",
         "orientation": "v",
         "showlegend": true,
         "type": "scatter",
         "x": [
          530
         ],
         "xaxis": "x",
         "y": [
          14.690001819854468
         ],
         "yaxis": "y"
        },
        {
         "hovertemplate": "moving_dist=%{y}<br>window_size=%{x}<extra></extra>",
         "legendgroup": "14.681650149317369",
         "line": {
          "color": "#636efa",
          "dash": "solid"
         },
         "marker": {
          "symbol": "x"
         },
         "mode": "lines+markers",
         "name": "14.681650149317369",
         "orientation": "v",
         "showlegend": true,
         "type": "scatter",
         "x": [
          540
         ],
         "xaxis": "x",
         "y": [
          14.681650149317369
         ],
         "yaxis": "y"
        },
        {
         "hovertemplate": "moving_dist=%{y}<br>window_size=%{x}<extra></extra>",
         "legendgroup": "14.671702937473986",
         "line": {
          "color": "#636efa",
          "dash": "solid"
         },
         "marker": {
          "symbol": "cross"
         },
         "mode": "lines+markers",
         "name": "14.671702937473986",
         "orientation": "v",
         "showlegend": true,
         "type": "scatter",
         "x": [
          550
         ],
         "xaxis": "x",
         "y": [
          14.671702937473986
         ],
         "yaxis": "y"
        },
        {
         "hovertemplate": "moving_dist=%{y}<br>window_size=%{x}<extra></extra>",
         "legendgroup": "14.660217206643726",
         "line": {
          "color": "#636efa",
          "dash": "solid"
         },
         "marker": {
          "symbol": "circle"
         },
         "mode": "lines+markers",
         "name": "14.660217206643726",
         "orientation": "v",
         "showlegend": true,
         "type": "scatter",
         "x": [
          560
         ],
         "xaxis": "x",
         "y": [
          14.660217206643726
         ],
         "yaxis": "y"
        },
        {
         "hovertemplate": "moving_dist=%{y}<br>window_size=%{x}<extra></extra>",
         "legendgroup": "14.647325888021758",
         "line": {
          "color": "#636efa",
          "dash": "solid"
         },
         "marker": {
          "symbol": "diamond"
         },
         "mode": "lines+markers",
         "name": "14.647325888021758",
         "orientation": "v",
         "showlegend": true,
         "type": "scatter",
         "x": [
          570
         ],
         "xaxis": "x",
         "y": [
          14.647325888021758
         ],
         "yaxis": "y"
        },
        {
         "hovertemplate": "moving_dist=%{y}<br>window_size=%{x}<extra></extra>",
         "legendgroup": "14.633622730607085",
         "line": {
          "color": "#636efa",
          "dash": "solid"
         },
         "marker": {
          "symbol": "square"
         },
         "mode": "lines+markers",
         "name": "14.633622730607085",
         "orientation": "v",
         "showlegend": true,
         "type": "scatter",
         "x": [
          580
         ],
         "xaxis": "x",
         "y": [
          14.633622730607085
         ],
         "yaxis": "y"
        },
        {
         "hovertemplate": "moving_dist=%{y}<br>window_size=%{x}<extra></extra>",
         "legendgroup": "14.619945942816331",
         "line": {
          "color": "#636efa",
          "dash": "solid"
         },
         "marker": {
          "symbol": "x"
         },
         "mode": "lines+markers",
         "name": "14.619945942816331",
         "orientation": "v",
         "showlegend": true,
         "type": "scatter",
         "x": [
          590
         ],
         "xaxis": "x",
         "y": [
          14.619945942816331
         ],
         "yaxis": "y"
        },
        {
         "hovertemplate": "moving_dist=%{y}<br>window_size=%{x}<extra></extra>",
         "legendgroup": "14.606625920451728",
         "line": {
          "color": "#636efa",
          "dash": "solid"
         },
         "marker": {
          "symbol": "cross"
         },
         "mode": "lines+markers",
         "name": "14.606625920451728",
         "orientation": "v",
         "showlegend": true,
         "type": "scatter",
         "x": [
          600
         ],
         "xaxis": "x",
         "y": [
          14.606625920451728
         ],
         "yaxis": "y"
        },
        {
         "hovertemplate": "moving_dist=%{y}<br>window_size=%{x}<extra></extra>",
         "legendgroup": "14.594455339349194",
         "line": {
          "color": "#636efa",
          "dash": "solid"
         },
         "marker": {
          "symbol": "circle"
         },
         "mode": "lines+markers",
         "name": "14.594455339349194",
         "orientation": "v",
         "showlegend": true,
         "type": "scatter",
         "x": [
          610
         ],
         "xaxis": "x",
         "y": [
          14.594455339349194
         ],
         "yaxis": "y"
        },
        {
         "hovertemplate": "moving_dist=%{y}<br>window_size=%{x}<extra></extra>",
         "legendgroup": "14.584327657836656",
         "line": {
          "color": "#636efa",
          "dash": "solid"
         },
         "marker": {
          "symbol": "diamond"
         },
         "mode": "lines+markers",
         "name": "14.584327657836656",
         "orientation": "v",
         "showlegend": true,
         "type": "scatter",
         "x": [
          620
         ],
         "xaxis": "x",
         "y": [
          14.584327657836656
         ],
         "yaxis": "y"
        },
        {
         "hovertemplate": "moving_dist=%{y}<br>window_size=%{x}<extra></extra>",
         "legendgroup": "14.577255189687536",
         "line": {
          "color": "#636efa",
          "dash": "solid"
         },
         "marker": {
          "symbol": "square"
         },
         "mode": "lines+markers",
         "name": "14.577255189687536",
         "orientation": "v",
         "showlegend": true,
         "type": "scatter",
         "x": [
          630
         ],
         "xaxis": "x",
         "y": [
          14.577255189687536
         ],
         "yaxis": "y"
        },
        {
         "hovertemplate": "moving_dist=%{y}<br>window_size=%{x}<extra></extra>",
         "legendgroup": "14.573472147448484",
         "line": {
          "color": "#636efa",
          "dash": "solid"
         },
         "marker": {
          "symbol": "x"
         },
         "mode": "lines+markers",
         "name": "14.573472147448484",
         "orientation": "v",
         "showlegend": true,
         "type": "scatter",
         "x": [
          640
         ],
         "xaxis": "x",
         "y": [
          14.573472147448484
         ],
         "yaxis": "y"
        },
        {
         "hovertemplate": "moving_dist=%{y}<br>window_size=%{x}<extra></extra>",
         "legendgroup": "14.572561728919688",
         "line": {
          "color": "#636efa",
          "dash": "solid"
         },
         "marker": {
          "symbol": "cross"
         },
         "mode": "lines+markers",
         "name": "14.572561728919688",
         "orientation": "v",
         "showlegend": true,
         "type": "scatter",
         "x": [
          650
         ],
         "xaxis": "x",
         "y": [
          14.572561728919688
         ],
         "yaxis": "y"
        },
        {
         "hovertemplate": "moving_dist=%{y}<br>window_size=%{x}<extra></extra>",
         "legendgroup": "14.573281895731064",
         "line": {
          "color": "#636efa",
          "dash": "solid"
         },
         "marker": {
          "symbol": "circle"
         },
         "mode": "lines+markers",
         "name": "14.573281895731064",
         "orientation": "v",
         "showlegend": true,
         "type": "scatter",
         "x": [
          660
         ],
         "xaxis": "x",
         "y": [
          14.573281895731064
         ],
         "yaxis": "y"
        },
        {
         "hovertemplate": "moving_dist=%{y}<br>window_size=%{x}<extra></extra>",
         "legendgroup": "14.5746866364552",
         "line": {
          "color": "#636efa",
          "dash": "solid"
         },
         "marker": {
          "symbol": "diamond"
         },
         "mode": "lines+markers",
         "name": "14.5746866364552",
         "orientation": "v",
         "showlegend": true,
         "type": "scatter",
         "x": [
          670
         ],
         "xaxis": "x",
         "y": [
          14.5746866364552
         ],
         "yaxis": "y"
        },
        {
         "hovertemplate": "moving_dist=%{y}<br>window_size=%{x}<extra></extra>",
         "legendgroup": "14.576363266175518",
         "line": {
          "color": "#636efa",
          "dash": "solid"
         },
         "marker": {
          "symbol": "square"
         },
         "mode": "lines+markers",
         "name": "14.576363266175518",
         "orientation": "v",
         "showlegend": true,
         "type": "scatter",
         "x": [
          680
         ],
         "xaxis": "x",
         "y": [
          14.576363266175518
         ],
         "yaxis": "y"
        },
        {
         "hovertemplate": "moving_dist=%{y}<br>window_size=%{x}<extra></extra>",
         "legendgroup": "14.577571165614742",
         "line": {
          "color": "#636efa",
          "dash": "solid"
         },
         "marker": {
          "symbol": "x"
         },
         "mode": "lines+markers",
         "name": "14.577571165614742",
         "orientation": "v",
         "showlegend": true,
         "type": "scatter",
         "x": [
          690
         ],
         "xaxis": "x",
         "y": [
          14.577571165614742
         ],
         "yaxis": "y"
        },
        {
         "hovertemplate": "moving_dist=%{y}<br>window_size=%{x}<extra></extra>",
         "legendgroup": "14.577933187916445",
         "line": {
          "color": "#636efa",
          "dash": "solid"
         },
         "marker": {
          "symbol": "cross"
         },
         "mode": "lines+markers",
         "name": "14.577933187916445",
         "orientation": "v",
         "showlegend": true,
         "type": "scatter",
         "x": [
          700
         ],
         "xaxis": "x",
         "y": [
          14.577933187916445
         ],
         "yaxis": "y"
        },
        {
         "hovertemplate": "moving_dist=%{y}<br>window_size=%{x}<extra></extra>",
         "legendgroup": "14.577525176504231",
         "line": {
          "color": "#636efa",
          "dash": "solid"
         },
         "marker": {
          "symbol": "circle"
         },
         "mode": "lines+markers",
         "name": "14.577525176504231",
         "orientation": "v",
         "showlegend": true,
         "type": "scatter",
         "x": [
          710
         ],
         "xaxis": "x",
         "y": [
          14.577525176504231
         ],
         "yaxis": "y"
        },
        {
         "hovertemplate": "moving_dist=%{y}<br>window_size=%{x}<extra></extra>",
         "legendgroup": "14.575958952276027",
         "line": {
          "color": "#636efa",
          "dash": "solid"
         },
         "marker": {
          "symbol": "diamond"
         },
         "mode": "lines+markers",
         "name": "14.575958952276027",
         "orientation": "v",
         "showlegend": true,
         "type": "scatter",
         "x": [
          720
         ],
         "xaxis": "x",
         "y": [
          14.575958952276027
         ],
         "yaxis": "y"
        },
        {
         "hovertemplate": "moving_dist=%{y}<br>window_size=%{x}<extra></extra>",
         "legendgroup": "14.57303267524142",
         "line": {
          "color": "#636efa",
          "dash": "solid"
         },
         "marker": {
          "symbol": "square"
         },
         "mode": "lines+markers",
         "name": "14.57303267524142",
         "orientation": "v",
         "showlegend": true,
         "type": "scatter",
         "x": [
          730
         ],
         "xaxis": "x",
         "y": [
          14.57303267524142
         ],
         "yaxis": "y"
        },
        {
         "hovertemplate": "moving_dist=%{y}<br>window_size=%{x}<extra></extra>",
         "legendgroup": "14.568714717715944",
         "line": {
          "color": "#636efa",
          "dash": "solid"
         },
         "marker": {
          "symbol": "x"
         },
         "mode": "lines+markers",
         "name": "14.568714717715944",
         "orientation": "v",
         "showlegend": true,
         "type": "scatter",
         "x": [
          740
         ],
         "xaxis": "x",
         "y": [
          14.568714717715944
         ],
         "yaxis": "y"
        },
        {
         "hovertemplate": "moving_dist=%{y}<br>window_size=%{x}<extra></extra>",
         "legendgroup": "14.563168566733504",
         "line": {
          "color": "#636efa",
          "dash": "solid"
         },
         "marker": {
          "symbol": "cross"
         },
         "mode": "lines+markers",
         "name": "14.563168566733504",
         "orientation": "v",
         "showlegend": true,
         "type": "scatter",
         "x": [
          750
         ],
         "xaxis": "x",
         "y": [
          14.563168566733504
         ],
         "yaxis": "y"
        },
        {
         "hovertemplate": "moving_dist=%{y}<br>window_size=%{x}<extra></extra>",
         "legendgroup": "14.556480606540934",
         "line": {
          "color": "#636efa",
          "dash": "solid"
         },
         "marker": {
          "symbol": "circle"
         },
         "mode": "lines+markers",
         "name": "14.556480606540934",
         "orientation": "v",
         "showlegend": true,
         "type": "scatter",
         "x": [
          760
         ],
         "xaxis": "x",
         "y": [
          14.556480606540934
         ],
         "yaxis": "y"
        },
        {
         "hovertemplate": "moving_dist=%{y}<br>window_size=%{x}<extra></extra>",
         "legendgroup": "14.548759103438318",
         "line": {
          "color": "#636efa",
          "dash": "solid"
         },
         "marker": {
          "symbol": "diamond"
         },
         "mode": "lines+markers",
         "name": "14.548759103438318",
         "orientation": "v",
         "showlegend": true,
         "type": "scatter",
         "x": [
          770
         ],
         "xaxis": "x",
         "y": [
          14.548759103438318
         ],
         "yaxis": "y"
        },
        {
         "hovertemplate": "moving_dist=%{y}<br>window_size=%{x}<extra></extra>",
         "legendgroup": "14.54024025540274",
         "line": {
          "color": "#636efa",
          "dash": "solid"
         },
         "marker": {
          "symbol": "square"
         },
         "mode": "lines+markers",
         "name": "14.54024025540274",
         "orientation": "v",
         "showlegend": true,
         "type": "scatter",
         "x": [
          780
         ],
         "xaxis": "x",
         "y": [
          14.54024025540274
         ],
         "yaxis": "y"
        },
        {
         "hovertemplate": "moving_dist=%{y}<br>window_size=%{x}<extra></extra>",
         "legendgroup": "14.53118673961822",
         "line": {
          "color": "#636efa",
          "dash": "solid"
         },
         "marker": {
          "symbol": "x"
         },
         "mode": "lines+markers",
         "name": "14.53118673961822",
         "orientation": "v",
         "showlegend": true,
         "type": "scatter",
         "x": [
          790
         ],
         "xaxis": "x",
         "y": [
          14.53118673961822
         ],
         "yaxis": "y"
        },
        {
         "hovertemplate": "moving_dist=%{y}<br>window_size=%{x}<extra></extra>",
         "legendgroup": "14.521747768719578",
         "line": {
          "color": "#636efa",
          "dash": "solid"
         },
         "marker": {
          "symbol": "cross"
         },
         "mode": "lines+markers",
         "name": "14.521747768719578",
         "orientation": "v",
         "showlegend": true,
         "type": "scatter",
         "x": [
          800
         ],
         "xaxis": "x",
         "y": [
          14.521747768719578
         ],
         "yaxis": "y"
        },
        {
         "hovertemplate": "moving_dist=%{y}<br>window_size=%{x}<extra></extra>",
         "legendgroup": "14.512195193986283",
         "line": {
          "color": "#636efa",
          "dash": "solid"
         },
         "marker": {
          "symbol": "circle"
         },
         "mode": "lines+markers",
         "name": "14.512195193986283",
         "orientation": "v",
         "showlegend": true,
         "type": "scatter",
         "x": [
          810
         ],
         "xaxis": "x",
         "y": [
          14.512195193986283
         ],
         "yaxis": "y"
        },
        {
         "hovertemplate": "moving_dist=%{y}<br>window_size=%{x}<extra></extra>",
         "legendgroup": "14.503108010073733",
         "line": {
          "color": "#636efa",
          "dash": "solid"
         },
         "marker": {
          "symbol": "diamond"
         },
         "mode": "lines+markers",
         "name": "14.503108010073733",
         "orientation": "v",
         "showlegend": true,
         "type": "scatter",
         "x": [
          820
         ],
         "xaxis": "x",
         "y": [
          14.503108010073733
         ],
         "yaxis": "y"
        },
        {
         "hovertemplate": "moving_dist=%{y}<br>window_size=%{x}<extra></extra>",
         "legendgroup": "14.495399444380217",
         "line": {
          "color": "#636efa",
          "dash": "solid"
         },
         "marker": {
          "symbol": "square"
         },
         "mode": "lines+markers",
         "name": "14.495399444380217",
         "orientation": "v",
         "showlegend": true,
         "type": "scatter",
         "x": [
          830
         ],
         "xaxis": "x",
         "y": [
          14.495399444380217
         ],
         "yaxis": "y"
        },
        {
         "hovertemplate": "moving_dist=%{y}<br>window_size=%{x}<extra></extra>",
         "legendgroup": "14.489682537761658",
         "line": {
          "color": "#636efa",
          "dash": "solid"
         },
         "marker": {
          "symbol": "x"
         },
         "mode": "lines+markers",
         "name": "14.489682537761658",
         "orientation": "v",
         "showlegend": true,
         "type": "scatter",
         "x": [
          840
         ],
         "xaxis": "x",
         "y": [
          14.489682537761658
         ],
         "yaxis": "y"
        },
        {
         "hovertemplate": "moving_dist=%{y}<br>window_size=%{x}<extra></extra>",
         "legendgroup": "14.485726486735423",
         "line": {
          "color": "#636efa",
          "dash": "solid"
         },
         "marker": {
          "symbol": "cross"
         },
         "mode": "lines+markers",
         "name": "14.485726486735423",
         "orientation": "v",
         "showlegend": true,
         "type": "scatter",
         "x": [
          850
         ],
         "xaxis": "x",
         "y": [
          14.485726486735423
         ],
         "yaxis": "y"
        },
        {
         "hovertemplate": "moving_dist=%{y}<br>window_size=%{x}<extra></extra>",
         "legendgroup": "14.483325965800013",
         "line": {
          "color": "#636efa",
          "dash": "solid"
         },
         "marker": {
          "symbol": "circle"
         },
         "mode": "lines+markers",
         "name": "14.483325965800013",
         "orientation": "v",
         "showlegend": true,
         "type": "scatter",
         "x": [
          860
         ],
         "xaxis": "x",
         "y": [
          14.483325965800013
         ],
         "yaxis": "y"
        },
        {
         "hovertemplate": "moving_dist=%{y}<br>window_size=%{x}<extra></extra>",
         "legendgroup": "14.482392590232433",
         "line": {
          "color": "#636efa",
          "dash": "solid"
         },
         "marker": {
          "symbol": "diamond"
         },
         "mode": "lines+markers",
         "name": "14.482392590232433",
         "orientation": "v",
         "showlegend": true,
         "type": "scatter",
         "x": [
          870
         ],
         "xaxis": "x",
         "y": [
          14.482392590232433
         ],
         "yaxis": "y"
        },
        {
         "hovertemplate": "moving_dist=%{y}<br>window_size=%{x}<extra></extra>",
         "legendgroup": "14.48189267637006",
         "line": {
          "color": "#636efa",
          "dash": "solid"
         },
         "marker": {
          "symbol": "square"
         },
         "mode": "lines+markers",
         "name": "14.48189267637006",
         "orientation": "v",
         "showlegend": true,
         "type": "scatter",
         "x": [
          880
         ],
         "xaxis": "x",
         "y": [
          14.48189267637006
         ],
         "yaxis": "y"
        },
        {
         "hovertemplate": "moving_dist=%{y}<br>window_size=%{x}<extra></extra>",
         "legendgroup": "14.481359735399597",
         "line": {
          "color": "#636efa",
          "dash": "solid"
         },
         "marker": {
          "symbol": "x"
         },
         "mode": "lines+markers",
         "name": "14.481359735399597",
         "orientation": "v",
         "showlegend": true,
         "type": "scatter",
         "x": [
          890
         ],
         "xaxis": "x",
         "y": [
          14.481359735399597
         ],
         "yaxis": "y"
        },
        {
         "hovertemplate": "moving_dist=%{y}<br>window_size=%{x}<extra></extra>",
         "legendgroup": "14.480993800996755",
         "line": {
          "color": "#636efa",
          "dash": "solid"
         },
         "marker": {
          "symbol": "cross"
         },
         "mode": "lines+markers",
         "name": "14.480993800996755",
         "orientation": "v",
         "showlegend": true,
         "type": "scatter",
         "x": [
          900
         ],
         "xaxis": "x",
         "y": [
          14.480993800996755
         ],
         "yaxis": "y"
        },
        {
         "hovertemplate": "moving_dist=%{y}<br>window_size=%{x}<extra></extra>",
         "legendgroup": "14.480209375169531",
         "line": {
          "color": "#636efa",
          "dash": "solid"
         },
         "marker": {
          "symbol": "circle"
         },
         "mode": "lines+markers",
         "name": "14.480209375169531",
         "orientation": "v",
         "showlegend": true,
         "type": "scatter",
         "x": [
          910
         ],
         "xaxis": "x",
         "y": [
          14.480209375169531
         ],
         "yaxis": "y"
        },
        {
         "hovertemplate": "moving_dist=%{y}<br>window_size=%{x}<extra></extra>",
         "legendgroup": "14.478858696713486",
         "line": {
          "color": "#636efa",
          "dash": "solid"
         },
         "marker": {
          "symbol": "diamond"
         },
         "mode": "lines+markers",
         "name": "14.478858696713486",
         "orientation": "v",
         "showlegend": true,
         "type": "scatter",
         "x": [
          920
         ],
         "xaxis": "x",
         "y": [
          14.478858696713486
         ],
         "yaxis": "y"
        },
        {
         "hovertemplate": "moving_dist=%{y}<br>window_size=%{x}<extra></extra>",
         "legendgroup": "14.476890698679814",
         "line": {
          "color": "#636efa",
          "dash": "solid"
         },
         "marker": {
          "symbol": "square"
         },
         "mode": "lines+markers",
         "name": "14.476890698679814",
         "orientation": "v",
         "showlegend": true,
         "type": "scatter",
         "x": [
          930
         ],
         "xaxis": "x",
         "y": [
          14.476890698679814
         ],
         "yaxis": "y"
        },
        {
         "hovertemplate": "moving_dist=%{y}<br>window_size=%{x}<extra></extra>",
         "legendgroup": "14.47407228118626",
         "line": {
          "color": "#636efa",
          "dash": "solid"
         },
         "marker": {
          "symbol": "x"
         },
         "mode": "lines+markers",
         "name": "14.47407228118626",
         "orientation": "v",
         "showlegend": true,
         "type": "scatter",
         "x": [
          940
         ],
         "xaxis": "x",
         "y": [
          14.47407228118626
         ],
         "yaxis": "y"
        },
        {
         "hovertemplate": "moving_dist=%{y}<br>window_size=%{x}<extra></extra>",
         "legendgroup": "14.470367826711525",
         "line": {
          "color": "#636efa",
          "dash": "solid"
         },
         "marker": {
          "symbol": "cross"
         },
         "mode": "lines+markers",
         "name": "14.470367826711525",
         "orientation": "v",
         "showlegend": true,
         "type": "scatter",
         "x": [
          950
         ],
         "xaxis": "x",
         "y": [
          14.470367826711525
         ],
         "yaxis": "y"
        },
        {
         "hovertemplate": "moving_dist=%{y}<br>window_size=%{x}<extra></extra>",
         "legendgroup": "14.465815508735098",
         "line": {
          "color": "#636efa",
          "dash": "solid"
         },
         "marker": {
          "symbol": "circle"
         },
         "mode": "lines+markers",
         "name": "14.465815508735098",
         "orientation": "v",
         "showlegend": true,
         "type": "scatter",
         "x": [
          960
         ],
         "xaxis": "x",
         "y": [
          14.465815508735098
         ],
         "yaxis": "y"
        },
        {
         "hovertemplate": "moving_dist=%{y}<br>window_size=%{x}<extra></extra>",
         "legendgroup": "14.460421587200354",
         "line": {
          "color": "#636efa",
          "dash": "solid"
         },
         "marker": {
          "symbol": "diamond"
         },
         "mode": "lines+markers",
         "name": "14.460421587200354",
         "orientation": "v",
         "showlegend": true,
         "type": "scatter",
         "x": [
          970
         ],
         "xaxis": "x",
         "y": [
          14.460421587200354
         ],
         "yaxis": "y"
        },
        {
         "hovertemplate": "moving_dist=%{y}<br>window_size=%{x}<extra></extra>",
         "legendgroup": "14.454335393820562",
         "line": {
          "color": "#636efa",
          "dash": "solid"
         },
         "marker": {
          "symbol": "square"
         },
         "mode": "lines+markers",
         "name": "14.454335393820562",
         "orientation": "v",
         "showlegend": true,
         "type": "scatter",
         "x": [
          980
         ],
         "xaxis": "x",
         "y": [
          14.454335393820562
         ],
         "yaxis": "y"
        },
        {
         "hovertemplate": "moving_dist=%{y}<br>window_size=%{x}<extra></extra>",
         "legendgroup": "14.447632501040609",
         "line": {
          "color": "#636efa",
          "dash": "solid"
         },
         "marker": {
          "symbol": "x"
         },
         "mode": "lines+markers",
         "name": "14.447632501040609",
         "orientation": "v",
         "showlegend": true,
         "type": "scatter",
         "x": [
          990
         ],
         "xaxis": "x",
         "y": [
          14.447632501040609
         ],
         "yaxis": "y"
        }
       ],
       "layout": {
        "legend": {
         "title": {
          "text": "moving_dist"
         },
         "tracegroupgap": 0
        },
        "template": {
         "data": {
          "bar": [
           {
            "error_x": {
             "color": "#2a3f5f"
            },
            "error_y": {
             "color": "#2a3f5f"
            },
            "marker": {
             "line": {
              "color": "#E5ECF6",
              "width": 0.5
             },
             "pattern": {
              "fillmode": "overlay",
              "size": 10,
              "solidity": 0.2
             }
            },
            "type": "bar"
           }
          ],
          "barpolar": [
           {
            "marker": {
             "line": {
              "color": "#E5ECF6",
              "width": 0.5
             },
             "pattern": {
              "fillmode": "overlay",
              "size": 10,
              "solidity": 0.2
             }
            },
            "type": "barpolar"
           }
          ],
          "carpet": [
           {
            "aaxis": {
             "endlinecolor": "#2a3f5f",
             "gridcolor": "white",
             "linecolor": "white",
             "minorgridcolor": "white",
             "startlinecolor": "#2a3f5f"
            },
            "baxis": {
             "endlinecolor": "#2a3f5f",
             "gridcolor": "white",
             "linecolor": "white",
             "minorgridcolor": "white",
             "startlinecolor": "#2a3f5f"
            },
            "type": "carpet"
           }
          ],
          "choropleth": [
           {
            "colorbar": {
             "outlinewidth": 0,
             "ticks": ""
            },
            "type": "choropleth"
           }
          ],
          "contour": [
           {
            "colorbar": {
             "outlinewidth": 0,
             "ticks": ""
            },
            "colorscale": [
             [
              0,
              "#0d0887"
             ],
             [
              0.1111111111111111,
              "#46039f"
             ],
             [
              0.2222222222222222,
              "#7201a8"
             ],
             [
              0.3333333333333333,
              "#9c179e"
             ],
             [
              0.4444444444444444,
              "#bd3786"
             ],
             [
              0.5555555555555556,
              "#d8576b"
             ],
             [
              0.6666666666666666,
              "#ed7953"
             ],
             [
              0.7777777777777778,
              "#fb9f3a"
             ],
             [
              0.8888888888888888,
              "#fdca26"
             ],
             [
              1,
              "#f0f921"
             ]
            ],
            "type": "contour"
           }
          ],
          "contourcarpet": [
           {
            "colorbar": {
             "outlinewidth": 0,
             "ticks": ""
            },
            "type": "contourcarpet"
           }
          ],
          "heatmap": [
           {
            "colorbar": {
             "outlinewidth": 0,
             "ticks": ""
            },
            "colorscale": [
             [
              0,
              "#0d0887"
             ],
             [
              0.1111111111111111,
              "#46039f"
             ],
             [
              0.2222222222222222,
              "#7201a8"
             ],
             [
              0.3333333333333333,
              "#9c179e"
             ],
             [
              0.4444444444444444,
              "#bd3786"
             ],
             [
              0.5555555555555556,
              "#d8576b"
             ],
             [
              0.6666666666666666,
              "#ed7953"
             ],
             [
              0.7777777777777778,
              "#fb9f3a"
             ],
             [
              0.8888888888888888,
              "#fdca26"
             ],
             [
              1,
              "#f0f921"
             ]
            ],
            "type": "heatmap"
           }
          ],
          "heatmapgl": [
           {
            "colorbar": {
             "outlinewidth": 0,
             "ticks": ""
            },
            "colorscale": [
             [
              0,
              "#0d0887"
             ],
             [
              0.1111111111111111,
              "#46039f"
             ],
             [
              0.2222222222222222,
              "#7201a8"
             ],
             [
              0.3333333333333333,
              "#9c179e"
             ],
             [
              0.4444444444444444,
              "#bd3786"
             ],
             [
              0.5555555555555556,
              "#d8576b"
             ],
             [
              0.6666666666666666,
              "#ed7953"
             ],
             [
              0.7777777777777778,
              "#fb9f3a"
             ],
             [
              0.8888888888888888,
              "#fdca26"
             ],
             [
              1,
              "#f0f921"
             ]
            ],
            "type": "heatmapgl"
           }
          ],
          "histogram": [
           {
            "marker": {
             "pattern": {
              "fillmode": "overlay",
              "size": 10,
              "solidity": 0.2
             }
            },
            "type": "histogram"
           }
          ],
          "histogram2d": [
           {
            "colorbar": {
             "outlinewidth": 0,
             "ticks": ""
            },
            "colorscale": [
             [
              0,
              "#0d0887"
             ],
             [
              0.1111111111111111,
              "#46039f"
             ],
             [
              0.2222222222222222,
              "#7201a8"
             ],
             [
              0.3333333333333333,
              "#9c179e"
             ],
             [
              0.4444444444444444,
              "#bd3786"
             ],
             [
              0.5555555555555556,
              "#d8576b"
             ],
             [
              0.6666666666666666,
              "#ed7953"
             ],
             [
              0.7777777777777778,
              "#fb9f3a"
             ],
             [
              0.8888888888888888,
              "#fdca26"
             ],
             [
              1,
              "#f0f921"
             ]
            ],
            "type": "histogram2d"
           }
          ],
          "histogram2dcontour": [
           {
            "colorbar": {
             "outlinewidth": 0,
             "ticks": ""
            },
            "colorscale": [
             [
              0,
              "#0d0887"
             ],
             [
              0.1111111111111111,
              "#46039f"
             ],
             [
              0.2222222222222222,
              "#7201a8"
             ],
             [
              0.3333333333333333,
              "#9c179e"
             ],
             [
              0.4444444444444444,
              "#bd3786"
             ],
             [
              0.5555555555555556,
              "#d8576b"
             ],
             [
              0.6666666666666666,
              "#ed7953"
             ],
             [
              0.7777777777777778,
              "#fb9f3a"
             ],
             [
              0.8888888888888888,
              "#fdca26"
             ],
             [
              1,
              "#f0f921"
             ]
            ],
            "type": "histogram2dcontour"
           }
          ],
          "mesh3d": [
           {
            "colorbar": {
             "outlinewidth": 0,
             "ticks": ""
            },
            "type": "mesh3d"
           }
          ],
          "parcoords": [
           {
            "line": {
             "colorbar": {
              "outlinewidth": 0,
              "ticks": ""
             }
            },
            "type": "parcoords"
           }
          ],
          "pie": [
           {
            "automargin": true,
            "type": "pie"
           }
          ],
          "scatter": [
           {
            "fillpattern": {
             "fillmode": "overlay",
             "size": 10,
             "solidity": 0.2
            },
            "type": "scatter"
           }
          ],
          "scatter3d": [
           {
            "line": {
             "colorbar": {
              "outlinewidth": 0,
              "ticks": ""
             }
            },
            "marker": {
             "colorbar": {
              "outlinewidth": 0,
              "ticks": ""
             }
            },
            "type": "scatter3d"
           }
          ],
          "scattercarpet": [
           {
            "marker": {
             "colorbar": {
              "outlinewidth": 0,
              "ticks": ""
             }
            },
            "type": "scattercarpet"
           }
          ],
          "scattergeo": [
           {
            "marker": {
             "colorbar": {
              "outlinewidth": 0,
              "ticks": ""
             }
            },
            "type": "scattergeo"
           }
          ],
          "scattergl": [
           {
            "marker": {
             "colorbar": {
              "outlinewidth": 0,
              "ticks": ""
             }
            },
            "type": "scattergl"
           }
          ],
          "scattermapbox": [
           {
            "marker": {
             "colorbar": {
              "outlinewidth": 0,
              "ticks": ""
             }
            },
            "type": "scattermapbox"
           }
          ],
          "scatterpolar": [
           {
            "marker": {
             "colorbar": {
              "outlinewidth": 0,
              "ticks": ""
             }
            },
            "type": "scatterpolar"
           }
          ],
          "scatterpolargl": [
           {
            "marker": {
             "colorbar": {
              "outlinewidth": 0,
              "ticks": ""
             }
            },
            "type": "scatterpolargl"
           }
          ],
          "scatterternary": [
           {
            "marker": {
             "colorbar": {
              "outlinewidth": 0,
              "ticks": ""
             }
            },
            "type": "scatterternary"
           }
          ],
          "surface": [
           {
            "colorbar": {
             "outlinewidth": 0,
             "ticks": ""
            },
            "colorscale": [
             [
              0,
              "#0d0887"
             ],
             [
              0.1111111111111111,
              "#46039f"
             ],
             [
              0.2222222222222222,
              "#7201a8"
             ],
             [
              0.3333333333333333,
              "#9c179e"
             ],
             [
              0.4444444444444444,
              "#bd3786"
             ],
             [
              0.5555555555555556,
              "#d8576b"
             ],
             [
              0.6666666666666666,
              "#ed7953"
             ],
             [
              0.7777777777777778,
              "#fb9f3a"
             ],
             [
              0.8888888888888888,
              "#fdca26"
             ],
             [
              1,
              "#f0f921"
             ]
            ],
            "type": "surface"
           }
          ],
          "table": [
           {
            "cells": {
             "fill": {
              "color": "#EBF0F8"
             },
             "line": {
              "color": "white"
             }
            },
            "header": {
             "fill": {
              "color": "#C8D4E3"
             },
             "line": {
              "color": "white"
             }
            },
            "type": "table"
           }
          ]
         },
         "layout": {
          "annotationdefaults": {
           "arrowcolor": "#2a3f5f",
           "arrowhead": 0,
           "arrowwidth": 1
          },
          "autotypenumbers": "strict",
          "coloraxis": {
           "colorbar": {
            "outlinewidth": 0,
            "ticks": ""
           }
          },
          "colorscale": {
           "diverging": [
            [
             0,
             "#8e0152"
            ],
            [
             0.1,
             "#c51b7d"
            ],
            [
             0.2,
             "#de77ae"
            ],
            [
             0.3,
             "#f1b6da"
            ],
            [
             0.4,
             "#fde0ef"
            ],
            [
             0.5,
             "#f7f7f7"
            ],
            [
             0.6,
             "#e6f5d0"
            ],
            [
             0.7,
             "#b8e186"
            ],
            [
             0.8,
             "#7fbc41"
            ],
            [
             0.9,
             "#4d9221"
            ],
            [
             1,
             "#276419"
            ]
           ],
           "sequential": [
            [
             0,
             "#0d0887"
            ],
            [
             0.1111111111111111,
             "#46039f"
            ],
            [
             0.2222222222222222,
             "#7201a8"
            ],
            [
             0.3333333333333333,
             "#9c179e"
            ],
            [
             0.4444444444444444,
             "#bd3786"
            ],
            [
             0.5555555555555556,
             "#d8576b"
            ],
            [
             0.6666666666666666,
             "#ed7953"
            ],
            [
             0.7777777777777778,
             "#fb9f3a"
            ],
            [
             0.8888888888888888,
             "#fdca26"
            ],
            [
             1,
             "#f0f921"
            ]
           ],
           "sequentialminus": [
            [
             0,
             "#0d0887"
            ],
            [
             0.1111111111111111,
             "#46039f"
            ],
            [
             0.2222222222222222,
             "#7201a8"
            ],
            [
             0.3333333333333333,
             "#9c179e"
            ],
            [
             0.4444444444444444,
             "#bd3786"
            ],
            [
             0.5555555555555556,
             "#d8576b"
            ],
            [
             0.6666666666666666,
             "#ed7953"
            ],
            [
             0.7777777777777778,
             "#fb9f3a"
            ],
            [
             0.8888888888888888,
             "#fdca26"
            ],
            [
             1,
             "#f0f921"
            ]
           ]
          },
          "colorway": [
           "#636efa",
           "#EF553B",
           "#00cc96",
           "#ab63fa",
           "#FFA15A",
           "#19d3f3",
           "#FF6692",
           "#B6E880",
           "#FF97FF",
           "#FECB52"
          ],
          "font": {
           "color": "#2a3f5f"
          },
          "geo": {
           "bgcolor": "white",
           "lakecolor": "white",
           "landcolor": "#E5ECF6",
           "showlakes": true,
           "showland": true,
           "subunitcolor": "white"
          },
          "hoverlabel": {
           "align": "left"
          },
          "hovermode": "closest",
          "mapbox": {
           "style": "light"
          },
          "paper_bgcolor": "white",
          "plot_bgcolor": "#E5ECF6",
          "polar": {
           "angularaxis": {
            "gridcolor": "white",
            "linecolor": "white",
            "ticks": ""
           },
           "bgcolor": "#E5ECF6",
           "radialaxis": {
            "gridcolor": "white",
            "linecolor": "white",
            "ticks": ""
           }
          },
          "scene": {
           "xaxis": {
            "backgroundcolor": "#E5ECF6",
            "gridcolor": "white",
            "gridwidth": 2,
            "linecolor": "white",
            "showbackground": true,
            "ticks": "",
            "zerolinecolor": "white"
           },
           "yaxis": {
            "backgroundcolor": "#E5ECF6",
            "gridcolor": "white",
            "gridwidth": 2,
            "linecolor": "white",
            "showbackground": true,
            "ticks": "",
            "zerolinecolor": "white"
           },
           "zaxis": {
            "backgroundcolor": "#E5ECF6",
            "gridcolor": "white",
            "gridwidth": 2,
            "linecolor": "white",
            "showbackground": true,
            "ticks": "",
            "zerolinecolor": "white"
           }
          },
          "shapedefaults": {
           "line": {
            "color": "#2a3f5f"
           }
          },
          "ternary": {
           "aaxis": {
            "gridcolor": "white",
            "linecolor": "white",
            "ticks": ""
           },
           "baxis": {
            "gridcolor": "white",
            "linecolor": "white",
            "ticks": ""
           },
           "bgcolor": "#E5ECF6",
           "caxis": {
            "gridcolor": "white",
            "linecolor": "white",
            "ticks": ""
           }
          },
          "title": {
           "x": 0.05
          },
          "xaxis": {
           "automargin": true,
           "gridcolor": "white",
           "linecolor": "white",
           "ticks": "",
           "title": {
            "standoff": 15
           },
           "zerolinecolor": "white",
           "zerolinewidth": 2
          },
          "yaxis": {
           "automargin": true,
           "gridcolor": "white",
           "linecolor": "white",
           "ticks": "",
           "title": {
            "standoff": 15
           },
           "zerolinecolor": "white",
           "zerolinewidth": 2
          }
         }
        },
        "title": {
         "text": "Moving Dist vs Window Size"
        },
        "xaxis": {
         "anchor": "y",
         "domain": [
          0,
          1
         ],
         "title": {
          "text": "window_size"
         }
        },
        "yaxis": {
         "anchor": "x",
         "categoryarray": [
          14.447632501040609,
          14.454335393820562,
          14.460421587200354,
          14.465815508735098,
          14.470367826711525,
          14.47407228118626,
          14.476890698679814,
          14.478858696713486,
          14.480209375169531,
          14.480993800996755,
          14.481359735399597,
          14.48189267637006,
          14.482392590232433,
          14.483325965800013,
          14.485726486735423,
          14.489682537761658,
          14.495399444380217,
          14.503108010073733,
          14.512195193986283,
          14.521747768719578,
          14.53118673961822,
          14.54024025540274,
          14.548759103438318,
          14.556480606540934,
          14.563168566733504,
          14.568714717715944,
          14.57303267524142,
          14.575958952276027,
          14.577525176504231,
          14.577933187916445,
          14.577571165614742,
          14.576363266175518,
          14.5746866364552,
          14.573281895731064,
          14.572561728919688,
          14.573472147448484,
          14.577255189687536,
          14.584327657836656,
          14.594455339349194,
          14.606625920451728,
          14.619945942816331,
          14.633622730607085,
          14.647325888021758,
          14.660217206643726,
          14.671702937473986,
          14.681650149317369,
          14.690001819854468,
          14.69664170684445,
          14.701457423561965,
          14.704509097586573,
          14.705628695970903,
          14.704803335839705,
          14.70248617627135,
          14.698984546968385,
          14.694123448342802,
          14.68853377141653,
          14.684363002520461,
          14.685881969261095,
          14.695308515388351,
          14.711583928333397,
          14.733154313096657,
          14.758232999824893,
          14.784705305290826,
          14.810635622318248,
          14.834651090410198,
          14.855866675138163,
          14.874257756266415,
          14.88962309631247,
          14.901792108802942,
          14.910542760015932,
          14.915901382591931,
          14.918034005299248,
          14.91613643587433,
          14.909195059864448,
          14.896410103632563,
          14.878080810243066,
          14.85566768574448,
          14.835598522808365,
          14.829794208514993,
          14.848992267886116,
          14.89543712078093,
          14.95841734957401,
          15.028426728541623,
          15.100591121455507,
          15.1713382451084,
          15.237960755769048,
          15.30060921482649,
          15.361069103395796,
          15.420725354954634,
          15.48069003227856,
          15.541743851623751,
          15.606591144804897,
          15.675265563835696,
          15.74157330851034,
          15.80186749915924,
          15.855855041564912,
          15.905230232164078,
          15.954039114051998,
          16.005714176983776
         ],
         "categoryorder": "array",
         "domain": [
          0,
          1
         ],
         "title": {
          "text": "moving_dist"
         }
        }
       }
      },
      "image/png": "[encoded data removed]",
      "text/html": [
       "<div>                            <div id=\"5cdc8550-4db6-427b-93bf-37661bf8b26b\" class=\"plotly-graph-div\" style=\"height:525px; width:100%;\"></div>            <script type=\"text/javascript\">                require([\"plotly\"], function(Plotly) {                    window.PLOTLYENV=window.PLOTLYENV || {};                                    if (document.getElementById(\"5cdc8550-4db6-427b-93bf-37661bf8b26b\")) {                    Plotly.newPlot(                        \"5cdc8550-4db6-427b-93bf-37661bf8b26b\",                        [{\"hovertemplate\":\"moving_dist=%{y}\\u003cbr\\u003ewindow_size=%{x}\\u003cextra\\u003e\\u003c\\u002fextra\\u003e\",\"legendgroup\":\"16.005714176983776\",\"line\":{\"color\":\"#636efa\",\"dash\":\"solid\"},\"marker\":{\"symbol\":\"circle\"},\"mode\":\"lines+markers\",\"name\":\"16.005714176983776\",\"orientation\":\"v\",\"showlegend\":true,\"x\":[10],\"xaxis\":\"x\",\"y\":[16.005714176983776],\"yaxis\":\"y\",\"type\":\"scatter\"},{\"hovertemplate\":\"moving_dist=%{y}\\u003cbr\\u003ewindow_size=%{x}\\u003cextra\\u003e\\u003c\\u002fextra\\u003e\",\"legendgroup\":\"15.954039114051998\",\"line\":{\"color\":\"#636efa\",\"dash\":\"solid\"},\"marker\":{\"symbol\":\"diamond\"},\"mode\":\"lines+markers\",\"name\":\"15.954039114051998\",\"orientation\":\"v\",\"showlegend\":true,\"x\":[20],\"xaxis\":\"x\",\"y\":[15.954039114051998],\"yaxis\":\"y\",\"type\":\"scatter\"},{\"hovertemplate\":\"moving_dist=%{y}\\u003cbr\\u003ewindow_size=%{x}\\u003cextra\\u003e\\u003c\\u002fextra\\u003e\",\"legendgroup\":\"15.905230232164078\",\"line\":{\"color\":\"#636efa\",\"dash\":\"solid\"},\"marker\":{\"symbol\":\"square\"},\"mode\":\"lines+markers\",\"name\":\"15.905230232164078\",\"orientation\":\"v\",\"showlegend\":true,\"x\":[30],\"xaxis\":\"x\",\"y\":[15.905230232164078],\"yaxis\":\"y\",\"type\":\"scatter\"},{\"hovertemplate\":\"moving_dist=%{y}\\u003cbr\\u003ewindow_size=%{x}\\u003cextra\\u003e\\u003c\\u002fextra\\u003e\",\"legendgroup\":\"15.855855041564912\",\"line\":{\"color\":\"#636efa\",\"dash\":\"solid\"},\"marker\":{\"symbol\":\"x\"},\"mode\":\"lines+markers\",\"name\":\"15.855855041564912\",\"orientation\":\"v\",\"showlegend\":true,\"x\":[40],\"xaxis\":\"x\",\"y\":[15.855855041564912],\"yaxis\":\"y\",\"type\":\"scatter\"},{\"hovertemplate\":\"moving_dist=%{y}\\u003cbr\\u003ewindow_size=%{x}\\u003cextra\\u003e\\u003c\\u002fextra\\u003e\",\"legendgroup\":\"15.80186749915924\",\"line\":{\"color\":\"#636efa\",\"dash\":\"solid\"},\"marker\":{\"symbol\":\"cross\"},\"mode\":\"lines+markers\",\"name\":\"15.80186749915924\",\"orientation\":\"v\",\"showlegend\":true,\"x\":[50],\"xaxis\":\"x\",\"y\":[15.80186749915924],\"yaxis\":\"y\",\"type\":\"scatter\"},{\"hovertemplate\":\"moving_dist=%{y}\\u003cbr\\u003ewindow_size=%{x}\\u003cextra\\u003e\\u003c\\u002fextra\\u003e\",\"legendgroup\":\"15.74157330851034\",\"line\":{\"color\":\"#636efa\",\"dash\":\"solid\"},\"marker\":{\"symbol\":\"circle\"},\"mode\":\"lines+markers\",\"name\":\"15.74157330851034\",\"orientation\":\"v\",\"showlegend\":true,\"x\":[60],\"xaxis\":\"x\",\"y\":[15.74157330851034],\"yaxis\":\"y\",\"type\":\"scatter\"},{\"hovertemplate\":\"moving_dist=%{y}\\u003cbr\\u003ewindow_size=%{x}\\u003cextra\\u003e\\u003c\\u002fextra\\u003e\",\"legendgroup\":\"15.675265563835696\",\"line\":{\"color\":\"#636efa\",\"dash\":\"solid\"},\"marker\":{\"symbol\":\"diamond\"},\"mode\":\"lines+markers\",\"name\":\"15.675265563835696\",\"orientation\":\"v\",\"showlegend\":true,\"x\":[70],\"xaxis\":\"x\",\"y\":[15.675265563835696],\"yaxis\":\"y\",\"type\":\"scatter\"},{\"hovertemplate\":\"moving_dist=%{y}\\u003cbr\\u003ewindow_size=%{x}\\u003cextra\\u003e\\u003c\\u002fextra\\u003e\",\"legendgroup\":\"15.606591144804897\",\"line\":{\"color\":\"#636efa\",\"dash\":\"solid\"},\"marker\":{\"symbol\":\"square\"},\"mode\":\"lines+markers\",\"name\":\"15.606591144804897\",\"orientation\":\"v\",\"showlegend\":true,\"x\":[80],\"xaxis\":\"x\",\"y\":[15.606591144804897],\"yaxis\":\"y\",\"type\":\"scatter\"},{\"hovertemplate\":\"moving_dist=%{y}\\u003cbr\\u003ewindow_size=%{x}\\u003cextra\\u003e\\u003c\\u002fextra\\u003e\",\"legendgroup\":\"15.541743851623751\",\"line\":{\"color\":\"#636efa\",\"dash\":\"solid\"},\"marker\":{\"symbol\":\"x\"},\"mode\":\"lines+markers\",\"name\":\"15.541743851623751\",\"orientation\":\"v\",\"showlegend\":true,\"x\":[90],\"xaxis\":\"x\",\"y\":[15.541743851623751],\"yaxis\":\"y\",\"type\":\"scatter\"},{\"hovertemplate\":\"moving_dist=%{y}\\u003cbr\\u003ewindow_size=%{x}\\u003cextra\\u003e\\u003c\\u002fextra\\u003e\",\"legendgroup\":\"15.48069003227856\",\"line\":{\"color\":\"#636efa\",\"dash\":\"solid\"},\"marker\":{\"symbol\":\"cross\"},\"mode\":\"lines+markers\",\"name\":\"15.48069003227856\",\"orientation\":\"v\",\"showlegend\":true,\"x\":[100],\"xaxis\":\"x\",\"y\":[15.48069003227856],\"yaxis\":\"y\",\"type\":\"scatter\"},{\"hovertemplate\":\"moving_dist=%{y}\\u003cbr\\u003ewindow_size=%{x}\\u003cextra\\u003e\\u003c\\u002fextra\\u003e\",\"legendgroup\":\"15.420725354954634\",\"line\":{\"color\":\"#636efa\",\"dash\":\"solid\"},\"marker\":{\"symbol\":\"circle\"},\"mode\":\"lines+markers\",\"name\":\"15.420725354954634\",\"orientation\":\"v\",\"showlegend\":true,\"x\":[110],\"xaxis\":\"x\",\"y\":[15.420725354954634],\"yaxis\":\"y\",\"type\":\"scatter\"},{\"hovertemplate\":\"moving_dist=%{y}\\u003cbr\\u003ewindow_size=%{x}\\u003cextra\\u003e\\u003c\\u002fextra\\u003e\",\"legendgroup\":\"15.361069103395796\",\"line\":{\"color\":\"#636efa\",\"dash\":\"solid\"},\"marker\":{\"symbol\":\"diamond\"},\"mode\":\"lines+markers\",\"name\":\"15.361069103395796\",\"orientation\":\"v\",\"showlegend\":true,\"x\":[120],\"xaxis\":\"x\",\"y\":[15.361069103395796],\"yaxis\":\"y\",\"type\":\"scatter\"},{\"hovertemplate\":\"moving_dist=%{y}\\u003cbr\\u003ewindow_size=%{x}\\u003cextra\\u003e\\u003c\\u002fextra\\u003e\",\"legendgroup\":\"15.30060921482649\",\"line\":{\"color\":\"#636efa\",\"dash\":\"solid\"},\"marker\":{\"symbol\":\"square\"},\"mode\":\"lines+markers\",\"name\":\"15.30060921482649\",\"orientation\":\"v\",\"showlegend\":true,\"x\":[130],\"xaxis\":\"x\",\"y\":[15.30060921482649],\"yaxis\":\"y\",\"type\":\"scatter\"},{\"hovertemplate\":\"moving_dist=%{y}\\u003cbr\\u003ewindow_size=%{x}\\u003cextra\\u003e\\u003c\\u002fextra\\u003e\",\"legendgroup\":\"15.237960755769048\",\"line\":{\"color\":\"#636efa\",\"dash\":\"solid\"},\"marker\":{\"symbol\":\"x\"},\"mode\":\"lines+markers\",\"name\":\"15.237960755769048\",\"orientation\":\"v\",\"showlegend\":true,\"x\":[140],\"xaxis\":\"x\",\"y\":[15.237960755769048],\"yaxis\":\"y\",\"type\":\"scatter\"},{\"hovertemplate\":\"moving_dist=%{y}\\u003cbr\\u003ewindow_size=%{x}\\u003cextra\\u003e\\u003c\\u002fextra\\u003e\",\"legendgroup\":\"15.1713382451084\",\"line\":{\"color\":\"#636efa\",\"dash\":\"solid\"},\"marker\":{\"symbol\":\"cross\"},\"mode\":\"lines+markers\",\"name\":\"15.1713382451084\",\"orientation\":\"v\",\"showlegend\":true,\"x\":[150],\"xaxis\":\"x\",\"y\":[15.1713382451084],\"yaxis\":\"y\",\"type\":\"scatter\"},{\"hovertemplate\":\"moving_dist=%{y}\\u003cbr\\u003ewindow_size=%{x}\\u003cextra\\u003e\\u003c\\u002fextra\\u003e\",\"legendgroup\":\"15.100591121455507\",\"line\":{\"color\":\"#636efa\",\"dash\":\"solid\"},\"marker\":{\"symbol\":\"circle\"},\"mode\":\"lines+markers\",\"name\":\"15.100591121455507\",\"orientation\":\"v\",\"showlegend\":true,\"x\":[160],\"xaxis\":\"x\",\"y\":[15.100591121455507],\"yaxis\":\"y\",\"type\":\"scatter\"},{\"hovertemplate\":\"moving_dist=%{y}\\u003cbr\\u003ewindow_size=%{x}\\u003cextra\\u003e\\u003c\\u002fextra\\u003e\",\"legendgroup\":\"15.028426728541623\",\"line\":{\"color\":\"#636efa\",\"dash\":\"solid\"},\"marker\":{\"symbol\":\"diamond\"},\"mode\":\"lines+markers\",\"name\":\"15.028426728541623\",\"orientation\":\"v\",\"showlegend\":true,\"x\":[170],\"xaxis\":\"x\",\"y\":[15.028426728541623],\"yaxis\":\"y\",\"type\":\"scatter\"},{\"hovertemplate\":\"moving_dist=%{y}\\u003cbr\\u003ewindow_size=%{x}\\u003cextra\\u003e\\u003c\\u002fextra\\u003e\",\"legendgroup\":\"14.95841734957401\",\"line\":{\"color\":\"#636efa\",\"dash\":\"solid\"},\"marker\":{\"symbol\":\"square\"},\"mode\":\"lines+markers\",\"name\":\"14.95841734957401\",\"orientation\":\"v\",\"showlegend\":true,\"x\":[180],\"xaxis\":\"x\",\"y\":[14.95841734957401],\"yaxis\":\"y\",\"type\":\"scatter\"},{\"hovertemplate\":\"moving_dist=%{y}\\u003cbr\\u003ewindow_size=%{x}\\u003cextra\\u003e\\u003c\\u002fextra\\u003e\",\"legendgroup\":\"14.89543712078093\",\"line\":{\"color\":\"#636efa\",\"dash\":\"solid\"},\"marker\":{\"symbol\":\"x\"},\"mode\":\"lines+markers\",\"name\":\"14.89543712078093\",\"orientation\":\"v\",\"showlegend\":true,\"x\":[190],\"xaxis\":\"x\",\"y\":[14.89543712078093],\"yaxis\":\"y\",\"type\":\"scatter\"},{\"hovertemplate\":\"moving_dist=%{y}\\u003cbr\\u003ewindow_size=%{x}\\u003cextra\\u003e\\u003c\\u002fextra\\u003e\",\"legendgroup\":\"14.848992267886116\",\"line\":{\"color\":\"#636efa\",\"dash\":\"solid\"},\"marker\":{\"symbol\":\"cross\"},\"mode\":\"lines+markers\",\"name\":\"14.848992267886116\",\"orientation\":\"v\",\"showlegend\":true,\"x\":[200],\"xaxis\":\"x\",\"y\":[14.848992267886116],\"yaxis\":\"y\",\"type\":\"scatter\"},{\"hovertemplate\":\"moving_dist=%{y}\\u003cbr\\u003ewindow_size=%{x}\\u003cextra\\u003e\\u003c\\u002fextra\\u003e\",\"legendgroup\":\"14.829794208514993\",\"line\":{\"color\":\"#636efa\",\"dash\":\"solid\"},\"marker\":{\"symbol\":\"circle\"},\"mode\":\"lines+markers\",\"name\":\"14.829794208514993\",\"orientation\":\"v\",\"showlegend\":true,\"x\":[210],\"xaxis\":\"x\",\"y\":[14.829794208514993],\"yaxis\":\"y\",\"type\":\"scatter\"},{\"hovertemplate\":\"moving_dist=%{y}\\u003cbr\\u003ewindow_size=%{x}\\u003cextra\\u003e\\u003c\\u002fextra\\u003e\",\"legendgroup\":\"14.835598522808365\",\"line\":{\"color\":\"#636efa\",\"dash\":\"solid\"},\"marker\":{\"symbol\":\"diamond\"},\"mode\":\"lines+markers\",\"name\":\"14.835598522808365\",\"orientation\":\"v\",\"showlegend\":true,\"x\":[220],\"xaxis\":\"x\",\"y\":[14.835598522808365],\"yaxis\":\"y\",\"type\":\"scatter\"},{\"hovertemplate\":\"moving_dist=%{y}\\u003cbr\\u003ewindow_size=%{x}\\u003cextra\\u003e\\u003c\\u002fextra\\u003e\",\"legendgroup\":\"14.85566768574448\",\"line\":{\"color\":\"#636efa\",\"dash\":\"solid\"},\"marker\":{\"symbol\":\"square\"},\"mode\":\"lines+markers\",\"name\":\"14.85566768574448\",\"orientation\":\"v\",\"showlegend\":true,\"x\":[230],\"xaxis\":\"x\",\"y\":[14.85566768574448],\"yaxis\":\"y\",\"type\":\"scatter\"},{\"hovertemplate\":\"moving_dist=%{y}\\u003cbr\\u003ewindow_size=%{x}\\u003cextra\\u003e\\u003c\\u002fextra\\u003e\",\"legendgroup\":\"14.878080810243066\",\"line\":{\"color\":\"#636efa\",\"dash\":\"solid\"},\"marker\":{\"symbol\":\"x\"},\"mode\":\"lines+markers\",\"name\":\"14.878080810243066\",\"orientation\":\"v\",\"showlegend\":true,\"x\":[240],\"xaxis\":\"x\",\"y\":[14.878080810243066],\"yaxis\":\"y\",\"type\":\"scatter\"},{\"hovertemplate\":\"moving_dist=%{y}\\u003cbr\\u003ewindow_size=%{x}\\u003cextra\\u003e\\u003c\\u002fextra\\u003e\",\"legendgroup\":\"14.896410103632563\",\"line\":{\"color\":\"#636efa\",\"dash\":\"solid\"},\"marker\":{\"symbol\":\"cross\"},\"mode\":\"lines+markers\",\"name\":\"14.896410103632563\",\"orientation\":\"v\",\"showlegend\":true,\"x\":[250],\"xaxis\":\"x\",\"y\":[14.896410103632563],\"yaxis\":\"y\",\"type\":\"scatter\"},{\"hovertemplate\":\"moving_dist=%{y}\\u003cbr\\u003ewindow_size=%{x}\\u003cextra\\u003e\\u003c\\u002fextra\\u003e\",\"legendgroup\":\"14.909195059864448\",\"line\":{\"color\":\"#636efa\",\"dash\":\"solid\"},\"marker\":{\"symbol\":\"circle\"},\"mode\":\"lines+markers\",\"name\":\"14.909195059864448\",\"orientation\":\"v\",\"showlegend\":true,\"x\":[260],\"xaxis\":\"x\",\"y\":[14.909195059864448],\"yaxis\":\"y\",\"type\":\"scatter\"},{\"hovertemplate\":\"moving_dist=%{y}\\u003cbr\\u003ewindow_size=%{x}\\u003cextra\\u003e\\u003c\\u002fextra\\u003e\",\"legendgroup\":\"14.91613643587433\",\"line\":{\"color\":\"#636efa\",\"dash\":\"solid\"},\"marker\":{\"symbol\":\"diamond\"},\"mode\":\"lines+markers\",\"name\":\"14.91613643587433\",\"orientation\":\"v\",\"showlegend\":true,\"x\":[270],\"xaxis\":\"x\",\"y\":[14.91613643587433],\"yaxis\":\"y\",\"type\":\"scatter\"},{\"hovertemplate\":\"moving_dist=%{y}\\u003cbr\\u003ewindow_size=%{x}\\u003cextra\\u003e\\u003c\\u002fextra\\u003e\",\"legendgroup\":\"14.918034005299248\",\"line\":{\"color\":\"#636efa\",\"dash\":\"solid\"},\"marker\":{\"symbol\":\"square\"},\"mode\":\"lines+markers\",\"name\":\"14.918034005299248\",\"orientation\":\"v\",\"showlegend\":true,\"x\":[280],\"xaxis\":\"x\",\"y\":[14.918034005299248],\"yaxis\":\"y\",\"type\":\"scatter\"},{\"hovertemplate\":\"moving_dist=%{y}\\u003cbr\\u003ewindow_size=%{x}\\u003cextra\\u003e\\u003c\\u002fextra\\u003e\",\"legendgroup\":\"14.915901382591931\",\"line\":{\"color\":\"#636efa\",\"dash\":\"solid\"},\"marker\":{\"symbol\":\"x\"},\"mode\":\"lines+markers\",\"name\":\"14.915901382591931\",\"orientation\":\"v\",\"showlegend\":true,\"x\":[290],\"xaxis\":\"x\",\"y\":[14.915901382591931],\"yaxis\":\"y\",\"type\":\"scatter\"},{\"hovertemplate\":\"moving_dist=%{y}\\u003cbr\\u003ewindow_size=%{x}\\u003cextra\\u003e\\u003c\\u002fextra\\u003e\",\"legendgroup\":\"14.910542760015932\",\"line\":{\"color\":\"#636efa\",\"dash\":\"solid\"},\"marker\":{\"symbol\":\"cross\"},\"mode\":\"lines+markers\",\"name\":\"14.910542760015932\",\"orientation\":\"v\",\"showlegend\":true,\"x\":[300],\"xaxis\":\"x\",\"y\":[14.910542760015932],\"yaxis\":\"y\",\"type\":\"scatter\"},{\"hovertemplate\":\"moving_dist=%{y}\\u003cbr\\u003ewindow_size=%{x}\\u003cextra\\u003e\\u003c\\u002fextra\\u003e\",\"legendgroup\":\"14.901792108802942\",\"line\":{\"color\":\"#636efa\",\"dash\":\"solid\"},\"marker\":{\"symbol\":\"circle\"},\"mode\":\"lines+markers\",\"name\":\"14.901792108802942\",\"orientation\":\"v\",\"showlegend\":true,\"x\":[310],\"xaxis\":\"x\",\"y\":[14.901792108802942],\"yaxis\":\"y\",\"type\":\"scatter\"},{\"hovertemplate\":\"moving_dist=%{y}\\u003cbr\\u003ewindow_size=%{x}\\u003cextra\\u003e\\u003c\\u002fextra\\u003e\",\"legendgroup\":\"14.88962309631247\",\"line\":{\"color\":\"#636efa\",\"dash\":\"solid\"},\"marker\":{\"symbol\":\"diamond\"},\"mode\":\"lines+markers\",\"name\":\"14.88962309631247\",\"orientation\":\"v\",\"showlegend\":true,\"x\":[320],\"xaxis\":\"x\",\"y\":[14.88962309631247],\"yaxis\":\"y\",\"type\":\"scatter\"},{\"hovertemplate\":\"moving_dist=%{y}\\u003cbr\\u003ewindow_size=%{x}\\u003cextra\\u003e\\u003c\\u002fextra\\u003e\",\"legendgroup\":\"14.874257756266415\",\"line\":{\"color\":\"#636efa\",\"dash\":\"solid\"},\"marker\":{\"symbol\":\"square\"},\"mode\":\"lines+markers\",\"name\":\"14.874257756266415\",\"orientation\":\"v\",\"showlegend\":true,\"x\":[330],\"xaxis\":\"x\",\"y\":[14.874257756266415],\"yaxis\":\"y\",\"type\":\"scatter\"},{\"hovertemplate\":\"moving_dist=%{y}\\u003cbr\\u003ewindow_size=%{x}\\u003cextra\\u003e\\u003c\\u002fextra\\u003e\",\"legendgroup\":\"14.855866675138163\",\"line\":{\"color\":\"#636efa\",\"dash\":\"solid\"},\"marker\":{\"symbol\":\"x\"},\"mode\":\"lines+markers\",\"name\":\"14.855866675138163\",\"orientation\":\"v\",\"showlegend\":true,\"x\":[340],\"xaxis\":\"x\",\"y\":[14.855866675138163],\"yaxis\":\"y\",\"type\":\"scatter\"},{\"hovertemplate\":\"moving_dist=%{y}\\u003cbr\\u003ewindow_size=%{x}\\u003cextra\\u003e\\u003c\\u002fextra\\u003e\",\"legendgroup\":\"14.834651090410198\",\"line\":{\"color\":\"#636efa\",\"dash\":\"solid\"},\"marker\":{\"symbol\":\"cross\"},\"mode\":\"lines+markers\",\"name\":\"14.834651090410198\",\"orientation\":\"v\",\"showlegend\":true,\"x\":[350],\"xaxis\":\"x\",\"y\":[14.834651090410198],\"yaxis\":\"y\",\"type\":\"scatter\"},{\"hovertemplate\":\"moving_dist=%{y}\\u003cbr\\u003ewindow_size=%{x}\\u003cextra\\u003e\\u003c\\u002fextra\\u003e\",\"legendgroup\":\"14.810635622318248\",\"line\":{\"color\":\"#636efa\",\"dash\":\"solid\"},\"marker\":{\"symbol\":\"circle\"},\"mode\":\"lines+markers\",\"name\":\"14.810635622318248\",\"orientation\":\"v\",\"showlegend\":true,\"x\":[360],\"xaxis\":\"x\",\"y\":[14.810635622318248],\"yaxis\":\"y\",\"type\":\"scatter\"},{\"hovertemplate\":\"moving_dist=%{y}\\u003cbr\\u003ewindow_size=%{x}\\u003cextra\\u003e\\u003c\\u002fextra\\u003e\",\"legendgroup\":\"14.784705305290826\",\"line\":{\"color\":\"#636efa\",\"dash\":\"solid\"},\"marker\":{\"symbol\":\"diamond\"},\"mode\":\"lines+markers\",\"name\":\"14.784705305290826\",\"orientation\":\"v\",\"showlegend\":true,\"x\":[370],\"xaxis\":\"x\",\"y\":[14.784705305290826],\"yaxis\":\"y\",\"type\":\"scatter\"},{\"hovertemplate\":\"moving_dist=%{y}\\u003cbr\\u003ewindow_size=%{x}\\u003cextra\\u003e\\u003c\\u002fextra\\u003e\",\"legendgroup\":\"14.758232999824893\",\"line\":{\"color\":\"#636efa\",\"dash\":\"solid\"},\"marker\":{\"symbol\":\"square\"},\"mode\":\"lines+markers\",\"name\":\"14.758232999824893\",\"orientation\":\"v\",\"showlegend\":true,\"x\":[380],\"xaxis\":\"x\",\"y\":[14.758232999824893],\"yaxis\":\"y\",\"type\":\"scatter\"},{\"hovertemplate\":\"moving_dist=%{y}\\u003cbr\\u003ewindow_size=%{x}\\u003cextra\\u003e\\u003c\\u002fextra\\u003e\",\"legendgroup\":\"14.733154313096657\",\"line\":{\"color\":\"#636efa\",\"dash\":\"solid\"},\"marker\":{\"symbol\":\"x\"},\"mode\":\"lines+markers\",\"name\":\"14.733154313096657\",\"orientation\":\"v\",\"showlegend\":true,\"x\":[390],\"xaxis\":\"x\",\"y\":[14.733154313096657],\"yaxis\":\"y\",\"type\":\"scatter\"},{\"hovertemplate\":\"moving_dist=%{y}\\u003cbr\\u003ewindow_size=%{x}\\u003cextra\\u003e\\u003c\\u002fextra\\u003e\",\"legendgroup\":\"14.711583928333397\",\"line\":{\"color\":\"#636efa\",\"dash\":\"solid\"},\"marker\":{\"symbol\":\"cross\"},\"mode\":\"lines+markers\",\"name\":\"14.711583928333397\",\"orientation\":\"v\",\"showlegend\":true,\"x\":[400],\"xaxis\":\"x\",\"y\":[14.711583928333397],\"yaxis\":\"y\",\"type\":\"scatter\"},{\"hovertemplate\":\"moving_dist=%{y}\\u003cbr\\u003ewindow_size=%{x}\\u003cextra\\u003e\\u003c\\u002fextra\\u003e\",\"legendgroup\":\"14.695308515388351\",\"line\":{\"color\":\"#636efa\",\"dash\":\"solid\"},\"marker\":{\"symbol\":\"circle\"},\"mode\":\"lines+markers\",\"name\":\"14.695308515388351\",\"orientation\":\"v\",\"showlegend\":true,\"x\":[410],\"xaxis\":\"x\",\"y\":[14.695308515388351],\"yaxis\":\"y\",\"type\":\"scatter\"},{\"hovertemplate\":\"moving_dist=%{y}\\u003cbr\\u003ewindow_size=%{x}\\u003cextra\\u003e\\u003c\\u002fextra\\u003e\",\"legendgroup\":\"14.685881969261095\",\"line\":{\"color\":\"#636efa\",\"dash\":\"solid\"},\"marker\":{\"symbol\":\"diamond\"},\"mode\":\"lines+markers\",\"name\":\"14.685881969261095\",\"orientation\":\"v\",\"showlegend\":true,\"x\":[420],\"xaxis\":\"x\",\"y\":[14.685881969261095],\"yaxis\":\"y\",\"type\":\"scatter\"},{\"hovertemplate\":\"moving_dist=%{y}\\u003cbr\\u003ewindow_size=%{x}\\u003cextra\\u003e\\u003c\\u002fextra\\u003e\",\"legendgroup\":\"14.684363002520461\",\"line\":{\"color\":\"#636efa\",\"dash\":\"solid\"},\"marker\":{\"symbol\":\"square\"},\"mode\":\"lines+markers\",\"name\":\"14.684363002520461\",\"orientation\":\"v\",\"showlegend\":true,\"x\":[430],\"xaxis\":\"x\",\"y\":[14.684363002520461],\"yaxis\":\"y\",\"type\":\"scatter\"},{\"hovertemplate\":\"moving_dist=%{y}\\u003cbr\\u003ewindow_size=%{x}\\u003cextra\\u003e\\u003c\\u002fextra\\u003e\",\"legendgroup\":\"14.68853377141653\",\"line\":{\"color\":\"#636efa\",\"dash\":\"solid\"},\"marker\":{\"symbol\":\"x\"},\"mode\":\"lines+markers\",\"name\":\"14.68853377141653\",\"orientation\":\"v\",\"showlegend\":true,\"x\":[440],\"xaxis\":\"x\",\"y\":[14.68853377141653],\"yaxis\":\"y\",\"type\":\"scatter\"},{\"hovertemplate\":\"moving_dist=%{y}\\u003cbr\\u003ewindow_size=%{x}\\u003cextra\\u003e\\u003c\\u002fextra\\u003e\",\"legendgroup\":\"14.694123448342802\",\"line\":{\"color\":\"#636efa\",\"dash\":\"solid\"},\"marker\":{\"symbol\":\"cross\"},\"mode\":\"lines+markers\",\"name\":\"14.694123448342802\",\"orientation\":\"v\",\"showlegend\":true,\"x\":[450],\"xaxis\":\"x\",\"y\":[14.694123448342802],\"yaxis\":\"y\",\"type\":\"scatter\"},{\"hovertemplate\":\"moving_dist=%{y}\\u003cbr\\u003ewindow_size=%{x}\\u003cextra\\u003e\\u003c\\u002fextra\\u003e\",\"legendgroup\":\"14.698984546968385\",\"line\":{\"color\":\"#636efa\",\"dash\":\"solid\"},\"marker\":{\"symbol\":\"circle\"},\"mode\":\"lines+markers\",\"name\":\"14.698984546968385\",\"orientation\":\"v\",\"showlegend\":true,\"x\":[460],\"xaxis\":\"x\",\"y\":[14.698984546968385],\"yaxis\":\"y\",\"type\":\"scatter\"},{\"hovertemplate\":\"moving_dist=%{y}\\u003cbr\\u003ewindow_size=%{x}\\u003cextra\\u003e\\u003c\\u002fextra\\u003e\",\"legendgroup\":\"14.70248617627135\",\"line\":{\"color\":\"#636efa\",\"dash\":\"solid\"},\"marker\":{\"symbol\":\"diamond\"},\"mode\":\"lines+markers\",\"name\":\"14.70248617627135\",\"orientation\":\"v\",\"showlegend\":true,\"x\":[470],\"xaxis\":\"x\",\"y\":[14.70248617627135],\"yaxis\":\"y\",\"type\":\"scatter\"},{\"hovertemplate\":\"moving_dist=%{y}\\u003cbr\\u003ewindow_size=%{x}\\u003cextra\\u003e\\u003c\\u002fextra\\u003e\",\"legendgroup\":\"14.704803335839705\",\"line\":{\"color\":\"#636efa\",\"dash\":\"solid\"},\"marker\":{\"symbol\":\"square\"},\"mode\":\"lines+markers\",\"name\":\"14.704803335839705\",\"orientation\":\"v\",\"showlegend\":true,\"x\":[480],\"xaxis\":\"x\",\"y\":[14.704803335839705],\"yaxis\":\"y\",\"type\":\"scatter\"},{\"hovertemplate\":\"moving_dist=%{y}\\u003cbr\\u003ewindow_size=%{x}\\u003cextra\\u003e\\u003c\\u002fextra\\u003e\",\"legendgroup\":\"14.705628695970903\",\"line\":{\"color\":\"#636efa\",\"dash\":\"solid\"},\"marker\":{\"symbol\":\"x\"},\"mode\":\"lines+markers\",\"name\":\"14.705628695970903\",\"orientation\":\"v\",\"showlegend\":true,\"x\":[490],\"xaxis\":\"x\",\"y\":[14.705628695970903],\"yaxis\":\"y\",\"type\":\"scatter\"},{\"hovertemplate\":\"moving_dist=%{y}\\u003cbr\\u003ewindow_size=%{x}\\u003cextra\\u003e\\u003c\\u002fextra\\u003e\",\"legendgroup\":\"14.704509097586573\",\"line\":{\"color\":\"#636efa\",\"dash\":\"solid\"},\"marker\":{\"symbol\":\"cross\"},\"mode\":\"lines+markers\",\"name\":\"14.704509097586573\",\"orientation\":\"v\",\"showlegend\":true,\"x\":[500],\"xaxis\":\"x\",\"y\":[14.704509097586573],\"yaxis\":\"y\",\"type\":\"scatter\"},{\"hovertemplate\":\"moving_dist=%{y}\\u003cbr\\u003ewindow_size=%{x}\\u003cextra\\u003e\\u003c\\u002fextra\\u003e\",\"legendgroup\":\"14.701457423561965\",\"line\":{\"color\":\"#636efa\",\"dash\":\"solid\"},\"marker\":{\"symbol\":\"circle\"},\"mode\":\"lines+markers\",\"name\":\"14.701457423561965\",\"orientation\":\"v\",\"showlegend\":true,\"x\":[510],\"xaxis\":\"x\",\"y\":[14.701457423561965],\"yaxis\":\"y\",\"type\":\"scatter\"},{\"hovertemplate\":\"moving_dist=%{y}\\u003cbr\\u003ewindow_size=%{x}\\u003cextra\\u003e\\u003c\\u002fextra\\u003e\",\"legendgroup\":\"14.69664170684445\",\"line\":{\"color\":\"#636efa\",\"dash\":\"solid\"},\"marker\":{\"symbol\":\"diamond\"},\"mode\":\"lines+markers\",\"name\":\"14.69664170684445\",\"orientation\":\"v\",\"showlegend\":true,\"x\":[520],\"xaxis\":\"x\",\"y\":[14.69664170684445],\"yaxis\":\"y\",\"type\":\"scatter\"},{\"hovertemplate\":\"moving_dist=%{y}\\u003cbr\\u003ewindow_size=%{x}\\u003cextra\\u003e\\u003c\\u002fextra\\u003e\",\"legendgroup\":\"14.690001819854468\",\"line\":{\"color\":\"#636efa\",\"dash\":\"solid\"},\"marker\":{\"symbol\":\"square\"},\"mode\":\"lines+markers\",\"name\":\"14.690001819854468\",\"orientation\":\"v\",\"showlegend\":true,\"x\":[530],\"xaxis\":\"x\",\"y\":[14.690001819854468],\"yaxis\":\"y\",\"type\":\"scatter\"},{\"hovertemplate\":\"moving_dist=%{y}\\u003cbr\\u003ewindow_size=%{x}\\u003cextra\\u003e\\u003c\\u002fextra\\u003e\",\"legendgroup\":\"14.681650149317369\",\"line\":{\"color\":\"#636efa\",\"dash\":\"solid\"},\"marker\":{\"symbol\":\"x\"},\"mode\":\"lines+markers\",\"name\":\"14.681650149317369\",\"orientation\":\"v\",\"showlegend\":true,\"x\":[540],\"xaxis\":\"x\",\"y\":[14.681650149317369],\"yaxis\":\"y\",\"type\":\"scatter\"},{\"hovertemplate\":\"moving_dist=%{y}\\u003cbr\\u003ewindow_size=%{x}\\u003cextra\\u003e\\u003c\\u002fextra\\u003e\",\"legendgroup\":\"14.671702937473986\",\"line\":{\"color\":\"#636efa\",\"dash\":\"solid\"},\"marker\":{\"symbol\":\"cross\"},\"mode\":\"lines+markers\",\"name\":\"14.671702937473986\",\"orientation\":\"v\",\"showlegend\":true,\"x\":[550],\"xaxis\":\"x\",\"y\":[14.671702937473986],\"yaxis\":\"y\",\"type\":\"scatter\"},{\"hovertemplate\":\"moving_dist=%{y}\\u003cbr\\u003ewindow_size=%{x}\\u003cextra\\u003e\\u003c\\u002fextra\\u003e\",\"legendgroup\":\"14.660217206643726\",\"line\":{\"color\":\"#636efa\",\"dash\":\"solid\"},\"marker\":{\"symbol\":\"circle\"},\"mode\":\"lines+markers\",\"name\":\"14.660217206643726\",\"orientation\":\"v\",\"showlegend\":true,\"x\":[560],\"xaxis\":\"x\",\"y\":[14.660217206643726],\"yaxis\":\"y\",\"type\":\"scatter\"},{\"hovertemplate\":\"moving_dist=%{y}\\u003cbr\\u003ewindow_size=%{x}\\u003cextra\\u003e\\u003c\\u002fextra\\u003e\",\"legendgroup\":\"14.647325888021758\",\"line\":{\"color\":\"#636efa\",\"dash\":\"solid\"},\"marker\":{\"symbol\":\"diamond\"},\"mode\":\"lines+markers\",\"name\":\"14.647325888021758\",\"orientation\":\"v\",\"showlegend\":true,\"x\":[570],\"xaxis\":\"x\",\"y\":[14.647325888021758],\"yaxis\":\"y\",\"type\":\"scatter\"},{\"hovertemplate\":\"moving_dist=%{y}\\u003cbr\\u003ewindow_size=%{x}\\u003cextra\\u003e\\u003c\\u002fextra\\u003e\",\"legendgroup\":\"14.633622730607085\",\"line\":{\"color\":\"#636efa\",\"dash\":\"solid\"},\"marker\":{\"symbol\":\"square\"},\"mode\":\"lines+markers\",\"name\":\"14.633622730607085\",\"orientation\":\"v\",\"showlegend\":true,\"x\":[580],\"xaxis\":\"x\",\"y\":[14.633622730607085],\"yaxis\":\"y\",\"type\":\"scatter\"},{\"hovertemplate\":\"moving_dist=%{y}\\u003cbr\\u003ewindow_size=%{x}\\u003cextra\\u003e\\u003c\\u002fextra\\u003e\",\"legendgroup\":\"14.619945942816331\",\"line\":{\"color\":\"#636efa\",\"dash\":\"solid\"},\"marker\":{\"symbol\":\"x\"},\"mode\":\"lines+markers\",\"name\":\"14.619945942816331\",\"orientation\":\"v\",\"showlegend\":true,\"x\":[590],\"xaxis\":\"x\",\"y\":[14.619945942816331],\"yaxis\":\"y\",\"type\":\"scatter\"},{\"hovertemplate\":\"moving_dist=%{y}\\u003cbr\\u003ewindow_size=%{x}\\u003cextra\\u003e\\u003c\\u002fextra\\u003e\",\"legendgroup\":\"14.606625920451728\",\"line\":{\"color\":\"#636efa\",\"dash\":\"solid\"},\"marker\":{\"symbol\":\"cross\"},\"mode\":\"lines+markers\",\"name\":\"14.606625920451728\",\"orientation\":\"v\",\"showlegend\":true,\"x\":[600],\"xaxis\":\"x\",\"y\":[14.606625920451728],\"yaxis\":\"y\",\"type\":\"scatter\"},{\"hovertemplate\":\"moving_dist=%{y}\\u003cbr\\u003ewindow_size=%{x}\\u003cextra\\u003e\\u003c\\u002fextra\\u003e\",\"legendgroup\":\"14.594455339349194\",\"line\":{\"color\":\"#636efa\",\"dash\":\"solid\"},\"marker\":{\"symbol\":\"circle\"},\"mode\":\"lines+markers\",\"name\":\"14.594455339349194\",\"orientation\":\"v\",\"showlegend\":true,\"x\":[610],\"xaxis\":\"x\",\"y\":[14.594455339349194],\"yaxis\":\"y\",\"type\":\"scatter\"},{\"hovertemplate\":\"moving_dist=%{y}\\u003cbr\\u003ewindow_size=%{x}\\u003cextra\\u003e\\u003c\\u002fextra\\u003e\",\"legendgroup\":\"14.584327657836656\",\"line\":{\"color\":\"#636efa\",\"dash\":\"solid\"},\"marker\":{\"symbol\":\"diamond\"},\"mode\":\"lines+markers\",\"name\":\"14.584327657836656\",\"orientation\":\"v\",\"showlegend\":true,\"x\":[620],\"xaxis\":\"x\",\"y\":[14.584327657836656],\"yaxis\":\"y\",\"type\":\"scatter\"},{\"hovertemplate\":\"moving_dist=%{y}\\u003cbr\\u003ewindow_size=%{x}\\u003cextra\\u003e\\u003c\\u002fextra\\u003e\",\"legendgroup\":\"14.577255189687536\",\"line\":{\"color\":\"#636efa\",\"dash\":\"solid\"},\"marker\":{\"symbol\":\"square\"},\"mode\":\"lines+markers\",\"name\":\"14.577255189687536\",\"orientation\":\"v\",\"showlegend\":true,\"x\":[630],\"xaxis\":\"x\",\"y\":[14.577255189687536],\"yaxis\":\"y\",\"type\":\"scatter\"},{\"hovertemplate\":\"moving_dist=%{y}\\u003cbr\\u003ewindow_size=%{x}\\u003cextra\\u003e\\u003c\\u002fextra\\u003e\",\"legendgroup\":\"14.573472147448484\",\"line\":{\"color\":\"#636efa\",\"dash\":\"solid\"},\"marker\":{\"symbol\":\"x\"},\"mode\":\"lines+markers\",\"name\":\"14.573472147448484\",\"orientation\":\"v\",\"showlegend\":true,\"x\":[640],\"xaxis\":\"x\",\"y\":[14.573472147448484],\"yaxis\":\"y\",\"type\":\"scatter\"},{\"hovertemplate\":\"moving_dist=%{y}\\u003cbr\\u003ewindow_size=%{x}\\u003cextra\\u003e\\u003c\\u002fextra\\u003e\",\"legendgroup\":\"14.572561728919688\",\"line\":{\"color\":\"#636efa\",\"dash\":\"solid\"},\"marker\":{\"symbol\":\"cross\"},\"mode\":\"lines+markers\",\"name\":\"14.572561728919688\",\"orientation\":\"v\",\"showlegend\":true,\"x\":[650],\"xaxis\":\"x\",\"y\":[14.572561728919688],\"yaxis\":\"y\",\"type\":\"scatter\"},{\"hovertemplate\":\"moving_dist=%{y}\\u003cbr\\u003ewindow_size=%{x}\\u003cextra\\u003e\\u003c\\u002fextra\\u003e\",\"legendgroup\":\"14.573281895731064\",\"line\":{\"color\":\"#636efa\",\"dash\":\"solid\"},\"marker\":{\"symbol\":\"circle\"},\"mode\":\"lines+markers\",\"name\":\"14.573281895731064\",\"orientation\":\"v\",\"showlegend\":true,\"x\":[660],\"xaxis\":\"x\",\"y\":[14.573281895731064],\"yaxis\":\"y\",\"type\":\"scatter\"},{\"hovertemplate\":\"moving_dist=%{y}\\u003cbr\\u003ewindow_size=%{x}\\u003cextra\\u003e\\u003c\\u002fextra\\u003e\",\"legendgroup\":\"14.5746866364552\",\"line\":{\"color\":\"#636efa\",\"dash\":\"solid\"},\"marker\":{\"symbol\":\"diamond\"},\"mode\":\"lines+markers\",\"name\":\"14.5746866364552\",\"orientation\":\"v\",\"showlegend\":true,\"x\":[670],\"xaxis\":\"x\",\"y\":[14.5746866364552],\"yaxis\":\"y\",\"type\":\"scatter\"},{\"hovertemplate\":\"moving_dist=%{y}\\u003cbr\\u003ewindow_size=%{x}\\u003cextra\\u003e\\u003c\\u002fextra\\u003e\",\"legendgroup\":\"14.576363266175518\",\"line\":{\"color\":\"#636efa\",\"dash\":\"solid\"},\"marker\":{\"symbol\":\"square\"},\"mode\":\"lines+markers\",\"name\":\"14.576363266175518\",\"orientation\":\"v\",\"showlegend\":true,\"x\":[680],\"xaxis\":\"x\",\"y\":[14.576363266175518],\"yaxis\":\"y\",\"type\":\"scatter\"},{\"hovertemplate\":\"moving_dist=%{y}\\u003cbr\\u003ewindow_size=%{x}\\u003cextra\\u003e\\u003c\\u002fextra\\u003e\",\"legendgroup\":\"14.577571165614742\",\"line\":{\"color\":\"#636efa\",\"dash\":\"solid\"},\"marker\":{\"symbol\":\"x\"},\"mode\":\"lines+markers\",\"name\":\"14.577571165614742\",\"orientation\":\"v\",\"showlegend\":true,\"x\":[690],\"xaxis\":\"x\",\"y\":[14.577571165614742],\"yaxis\":\"y\",\"type\":\"scatter\"},{\"hovertemplate\":\"moving_dist=%{y}\\u003cbr\\u003ewindow_size=%{x}\\u003cextra\\u003e\\u003c\\u002fextra\\u003e\",\"legendgroup\":\"14.577933187916445\",\"line\":{\"color\":\"#636efa\",\"dash\":\"solid\"},\"marker\":{\"symbol\":\"cross\"},\"mode\":\"lines+markers\",\"name\":\"14.577933187916445\",\"orientation\":\"v\",\"showlegend\":true,\"x\":[700],\"xaxis\":\"x\",\"y\":[14.577933187916445],\"yaxis\":\"y\",\"type\":\"scatter\"},{\"hovertemplate\":\"moving_dist=%{y}\\u003cbr\\u003ewindow_size=%{x}\\u003cextra\\u003e\\u003c\\u002fextra\\u003e\",\"legendgroup\":\"14.577525176504231\",\"line\":{\"color\":\"#636efa\",\"dash\":\"solid\"},\"marker\":{\"symbol\":\"circle\"},\"mode\":\"lines+markers\",\"name\":\"14.577525176504231\",\"orientation\":\"v\",\"showlegend\":true,\"x\":[710],\"xaxis\":\"x\",\"y\":[14.577525176504231],\"yaxis\":\"y\",\"type\":\"scatter\"},{\"hovertemplate\":\"moving_dist=%{y}\\u003cbr\\u003ewindow_size=%{x}\\u003cextra\\u003e\\u003c\\u002fextra\\u003e\",\"legendgroup\":\"14.575958952276027\",\"line\":{\"color\":\"#636efa\",\"dash\":\"solid\"},\"marker\":{\"symbol\":\"diamond\"},\"mode\":\"lines+markers\",\"name\":\"14.575958952276027\",\"orientation\":\"v\",\"showlegend\":true,\"x\":[720],\"xaxis\":\"x\",\"y\":[14.575958952276027],\"yaxis\":\"y\",\"type\":\"scatter\"},{\"hovertemplate\":\"moving_dist=%{y}\\u003cbr\\u003ewindow_size=%{x}\\u003cextra\\u003e\\u003c\\u002fextra\\u003e\",\"legendgroup\":\"14.57303267524142\",\"line\":{\"color\":\"#636efa\",\"dash\":\"solid\"},\"marker\":{\"symbol\":\"square\"},\"mode\":\"lines+markers\",\"name\":\"14.57303267524142\",\"orientation\":\"v\",\"showlegend\":true,\"x\":[730],\"xaxis\":\"x\",\"y\":[14.57303267524142],\"yaxis\":\"y\",\"type\":\"scatter\"},{\"hovertemplate\":\"moving_dist=%{y}\\u003cbr\\u003ewindow_size=%{x}\\u003cextra\\u003e\\u003c\\u002fextra\\u003e\",\"legendgroup\":\"14.568714717715944\",\"line\":{\"color\":\"#636efa\",\"dash\":\"solid\"},\"marker\":{\"symbol\":\"x\"},\"mode\":\"lines+markers\",\"name\":\"14.568714717715944\",\"orientation\":\"v\",\"showlegend\":true,\"x\":[740],\"xaxis\":\"x\",\"y\":[14.568714717715944],\"yaxis\":\"y\",\"type\":\"scatter\"},{\"hovertemplate\":\"moving_dist=%{y}\\u003cbr\\u003ewindow_size=%{x}\\u003cextra\\u003e\\u003c\\u002fextra\\u003e\",\"legendgroup\":\"14.563168566733504\",\"line\":{\"color\":\"#636efa\",\"dash\":\"solid\"},\"marker\":{\"symbol\":\"cross\"},\"mode\":\"lines+markers\",\"name\":\"14.563168566733504\",\"orientation\":\"v\",\"showlegend\":true,\"x\":[750],\"xaxis\":\"x\",\"y\":[14.563168566733504],\"yaxis\":\"y\",\"type\":\"scatter\"},{\"hovertemplate\":\"moving_dist=%{y}\\u003cbr\\u003ewindow_size=%{x}\\u003cextra\\u003e\\u003c\\u002fextra\\u003e\",\"legendgroup\":\"14.556480606540934\",\"line\":{\"color\":\"#636efa\",\"dash\":\"solid\"},\"marker\":{\"symbol\":\"circle\"},\"mode\":\"lines+markers\",\"name\":\"14.556480606540934\",\"orientation\":\"v\",\"showlegend\":true,\"x\":[760],\"xaxis\":\"x\",\"y\":[14.556480606540934],\"yaxis\":\"y\",\"type\":\"scatter\"},{\"hovertemplate\":\"moving_dist=%{y}\\u003cbr\\u003ewindow_size=%{x}\\u003cextra\\u003e\\u003c\\u002fextra\\u003e\",\"legendgroup\":\"14.548759103438318\",\"line\":{\"color\":\"#636efa\",\"dash\":\"solid\"},\"marker\":{\"symbol\":\"diamond\"},\"mode\":\"lines+markers\",\"name\":\"14.548759103438318\",\"orientation\":\"v\",\"showlegend\":true,\"x\":[770],\"xaxis\":\"x\",\"y\":[14.548759103438318],\"yaxis\":\"y\",\"type\":\"scatter\"},{\"hovertemplate\":\"moving_dist=%{y}\\u003cbr\\u003ewindow_size=%{x}\\u003cextra\\u003e\\u003c\\u002fextra\\u003e\",\"legendgroup\":\"14.54024025540274\",\"line\":{\"color\":\"#636efa\",\"dash\":\"solid\"},\"marker\":{\"symbol\":\"square\"},\"mode\":\"lines+markers\",\"name\":\"14.54024025540274\",\"orientation\":\"v\",\"showlegend\":true,\"x\":[780],\"xaxis\":\"x\",\"y\":[14.54024025540274],\"yaxis\":\"y\",\"type\":\"scatter\"},{\"hovertemplate\":\"moving_dist=%{y}\\u003cbr\\u003ewindow_size=%{x}\\u003cextra\\u003e\\u003c\\u002fextra\\u003e\",\"legendgroup\":\"14.53118673961822\",\"line\":{\"color\":\"#636efa\",\"dash\":\"solid\"},\"marker\":{\"symbol\":\"x\"},\"mode\":\"lines+markers\",\"name\":\"14.53118673961822\",\"orientation\":\"v\",\"showlegend\":true,\"x\":[790],\"xaxis\":\"x\",\"y\":[14.53118673961822],\"yaxis\":\"y\",\"type\":\"scatter\"},{\"hovertemplate\":\"moving_dist=%{y}\\u003cbr\\u003ewindow_size=%{x}\\u003cextra\\u003e\\u003c\\u002fextra\\u003e\",\"legendgroup\":\"14.521747768719578\",\"line\":{\"color\":\"#636efa\",\"dash\":\"solid\"},\"marker\":{\"symbol\":\"cross\"},\"mode\":\"lines+markers\",\"name\":\"14.521747768719578\",\"orientation\":\"v\",\"showlegend\":true,\"x\":[800],\"xaxis\":\"x\",\"y\":[14.521747768719578],\"yaxis\":\"y\",\"type\":\"scatter\"},{\"hovertemplate\":\"moving_dist=%{y}\\u003cbr\\u003ewindow_size=%{x}\\u003cextra\\u003e\\u003c\\u002fextra\\u003e\",\"legendgroup\":\"14.512195193986283\",\"line\":{\"color\":\"#636efa\",\"dash\":\"solid\"},\"marker\":{\"symbol\":\"circle\"},\"mode\":\"lines+markers\",\"name\":\"14.512195193986283\",\"orientation\":\"v\",\"showlegend\":true,\"x\":[810],\"xaxis\":\"x\",\"y\":[14.512195193986283],\"yaxis\":\"y\",\"type\":\"scatter\"},{\"hovertemplate\":\"moving_dist=%{y}\\u003cbr\\u003ewindow_size=%{x}\\u003cextra\\u003e\\u003c\\u002fextra\\u003e\",\"legendgroup\":\"14.503108010073733\",\"line\":{\"color\":\"#636efa\",\"dash\":\"solid\"},\"marker\":{\"symbol\":\"diamond\"},\"mode\":\"lines+markers\",\"name\":\"14.503108010073733\",\"orientation\":\"v\",\"showlegend\":true,\"x\":[820],\"xaxis\":\"x\",\"y\":[14.503108010073733],\"yaxis\":\"y\",\"type\":\"scatter\"},{\"hovertemplate\":\"moving_dist=%{y}\\u003cbr\\u003ewindow_size=%{x}\\u003cextra\\u003e\\u003c\\u002fextra\\u003e\",\"legendgroup\":\"14.495399444380217\",\"line\":{\"color\":\"#636efa\",\"dash\":\"solid\"},\"marker\":{\"symbol\":\"square\"},\"mode\":\"lines+markers\",\"name\":\"14.495399444380217\",\"orientation\":\"v\",\"showlegend\":true,\"x\":[830],\"xaxis\":\"x\",\"y\":[14.495399444380217],\"yaxis\":\"y\",\"type\":\"scatter\"},{\"hovertemplate\":\"moving_dist=%{y}\\u003cbr\\u003ewindow_size=%{x}\\u003cextra\\u003e\\u003c\\u002fextra\\u003e\",\"legendgroup\":\"14.489682537761658\",\"line\":{\"color\":\"#636efa\",\"dash\":\"solid\"},\"marker\":{\"symbol\":\"x\"},\"mode\":\"lines+markers\",\"name\":\"14.489682537761658\",\"orientation\":\"v\",\"showlegend\":true,\"x\":[840],\"xaxis\":\"x\",\"y\":[14.489682537761658],\"yaxis\":\"y\",\"type\":\"scatter\"},{\"hovertemplate\":\"moving_dist=%{y}\\u003cbr\\u003ewindow_size=%{x}\\u003cextra\\u003e\\u003c\\u002fextra\\u003e\",\"legendgroup\":\"14.485726486735423\",\"line\":{\"color\":\"#636efa\",\"dash\":\"solid\"},\"marker\":{\"symbol\":\"cross\"},\"mode\":\"lines+markers\",\"name\":\"14.485726486735423\",\"orientation\":\"v\",\"showlegend\":true,\"x\":[850],\"xaxis\":\"x\",\"y\":[14.485726486735423],\"yaxis\":\"y\",\"type\":\"scatter\"},{\"hovertemplate\":\"moving_dist=%{y}\\u003cbr\\u003ewindow_size=%{x}\\u003cextra\\u003e\\u003c\\u002fextra\\u003e\",\"legendgroup\":\"14.483325965800013\",\"line\":{\"color\":\"#636efa\",\"dash\":\"solid\"},\"marker\":{\"symbol\":\"circle\"},\"mode\":\"lines+markers\",\"name\":\"14.483325965800013\",\"orientation\":\"v\",\"showlegend\":true,\"x\":[860],\"xaxis\":\"x\",\"y\":[14.483325965800013],\"yaxis\":\"y\",\"type\":\"scatter\"},{\"hovertemplate\":\"moving_dist=%{y}\\u003cbr\\u003ewindow_size=%{x}\\u003cextra\\u003e\\u003c\\u002fextra\\u003e\",\"legendgroup\":\"14.482392590232433\",\"line\":{\"color\":\"#636efa\",\"dash\":\"solid\"},\"marker\":{\"symbol\":\"diamond\"},\"mode\":\"lines+markers\",\"name\":\"14.482392590232433\",\"orientation\":\"v\",\"showlegend\":true,\"x\":[870],\"xaxis\":\"x\",\"y\":[14.482392590232433],\"yaxis\":\"y\",\"type\":\"scatter\"},{\"hovertemplate\":\"moving_dist=%{y}\\u003cbr\\u003ewindow_size=%{x}\\u003cextra\\u003e\\u003c\\u002fextra\\u003e\",\"legendgroup\":\"14.48189267637006\",\"line\":{\"color\":\"#636efa\",\"dash\":\"solid\"},\"marker\":{\"symbol\":\"square\"},\"mode\":\"lines+markers\",\"name\":\"14.48189267637006\",\"orientation\":\"v\",\"showlegend\":true,\"x\":[880],\"xaxis\":\"x\",\"y\":[14.48189267637006],\"yaxis\":\"y\",\"type\":\"scatter\"},{\"hovertemplate\":\"moving_dist=%{y}\\u003cbr\\u003ewindow_size=%{x}\\u003cextra\\u003e\\u003c\\u002fextra\\u003e\",\"legendgroup\":\"14.481359735399597\",\"line\":{\"color\":\"#636efa\",\"dash\":\"solid\"},\"marker\":{\"symbol\":\"x\"},\"mode\":\"lines+markers\",\"name\":\"14.481359735399597\",\"orientation\":\"v\",\"showlegend\":true,\"x\":[890],\"xaxis\":\"x\",\"y\":[14.481359735399597],\"yaxis\":\"y\",\"type\":\"scatter\"},{\"hovertemplate\":\"moving_dist=%{y}\\u003cbr\\u003ewindow_size=%{x}\\u003cextra\\u003e\\u003c\\u002fextra\\u003e\",\"legendgroup\":\"14.480993800996755\",\"line\":{\"color\":\"#636efa\",\"dash\":\"solid\"},\"marker\":{\"symbol\":\"cross\"},\"mode\":\"lines+markers\",\"name\":\"14.480993800996755\",\"orientation\":\"v\",\"showlegend\":true,\"x\":[900],\"xaxis\":\"x\",\"y\":[14.480993800996755],\"yaxis\":\"y\",\"type\":\"scatter\"},{\"hovertemplate\":\"moving_dist=%{y}\\u003cbr\\u003ewindow_size=%{x}\\u003cextra\\u003e\\u003c\\u002fextra\\u003e\",\"legendgroup\":\"14.480209375169531\",\"line\":{\"color\":\"#636efa\",\"dash\":\"solid\"},\"marker\":{\"symbol\":\"circle\"},\"mode\":\"lines+markers\",\"name\":\"14.480209375169531\",\"orientation\":\"v\",\"showlegend\":true,\"x\":[910],\"xaxis\":\"x\",\"y\":[14.480209375169531],\"yaxis\":\"y\",\"type\":\"scatter\"},{\"hovertemplate\":\"moving_dist=%{y}\\u003cbr\\u003ewindow_size=%{x}\\u003cextra\\u003e\\u003c\\u002fextra\\u003e\",\"legendgroup\":\"14.478858696713486\",\"line\":{\"color\":\"#636efa\",\"dash\":\"solid\"},\"marker\":{\"symbol\":\"diamond\"},\"mode\":\"lines+markers\",\"name\":\"14.478858696713486\",\"orientation\":\"v\",\"showlegend\":true,\"x\":[920],\"xaxis\":\"x\",\"y\":[14.478858696713486],\"yaxis\":\"y\",\"type\":\"scatter\"},{\"hovertemplate\":\"moving_dist=%{y}\\u003cbr\\u003ewindow_size=%{x}\\u003cextra\\u003e\\u003c\\u002fextra\\u003e\",\"legendgroup\":\"14.476890698679814\",\"line\":{\"color\":\"#636efa\",\"dash\":\"solid\"},\"marker\":{\"symbol\":\"square\"},\"mode\":\"lines+markers\",\"name\":\"14.476890698679814\",\"orientation\":\"v\",\"showlegend\":true,\"x\":[930],\"xaxis\":\"x\",\"y\":[14.476890698679814],\"yaxis\":\"y\",\"type\":\"scatter\"},{\"hovertemplate\":\"moving_dist=%{y}\\u003cbr\\u003ewindow_size=%{x}\\u003cextra\\u003e\\u003c\\u002fextra\\u003e\",\"legendgroup\":\"14.47407228118626\",\"line\":{\"color\":\"#636efa\",\"dash\":\"solid\"},\"marker\":{\"symbol\":\"x\"},\"mode\":\"lines+markers\",\"name\":\"14.47407228118626\",\"orientation\":\"v\",\"showlegend\":true,\"x\":[940],\"xaxis\":\"x\",\"y\":[14.47407228118626],\"yaxis\":\"y\",\"type\":\"scatter\"},{\"hovertemplate\":\"moving_dist=%{y}\\u003cbr\\u003ewindow_size=%{x}\\u003cextra\\u003e\\u003c\\u002fextra\\u003e\",\"legendgroup\":\"14.470367826711525\",\"line\":{\"color\":\"#636efa\",\"dash\":\"solid\"},\"marker\":{\"symbol\":\"cross\"},\"mode\":\"lines+markers\",\"name\":\"14.470367826711525\",\"orientation\":\"v\",\"showlegend\":true,\"x\":[950],\"xaxis\":\"x\",\"y\":[14.470367826711525],\"yaxis\":\"y\",\"type\":\"scatter\"},{\"hovertemplate\":\"moving_dist=%{y}\\u003cbr\\u003ewindow_size=%{x}\\u003cextra\\u003e\\u003c\\u002fextra\\u003e\",\"legendgroup\":\"14.465815508735098\",\"line\":{\"color\":\"#636efa\",\"dash\":\"solid\"},\"marker\":{\"symbol\":\"circle\"},\"mode\":\"lines+markers\",\"name\":\"14.465815508735098\",\"orientation\":\"v\",\"showlegend\":true,\"x\":[960],\"xaxis\":\"x\",\"y\":[14.465815508735098],\"yaxis\":\"y\",\"type\":\"scatter\"},{\"hovertemplate\":\"moving_dist=%{y}\\u003cbr\\u003ewindow_size=%{x}\\u003cextra\\u003e\\u003c\\u002fextra\\u003e\",\"legendgroup\":\"14.460421587200354\",\"line\":{\"color\":\"#636efa\",\"dash\":\"solid\"},\"marker\":{\"symbol\":\"diamond\"},\"mode\":\"lines+markers\",\"name\":\"14.460421587200354\",\"orientation\":\"v\",\"showlegend\":true,\"x\":[970],\"xaxis\":\"x\",\"y\":[14.460421587200354],\"yaxis\":\"y\",\"type\":\"scatter\"},{\"hovertemplate\":\"moving_dist=%{y}\\u003cbr\\u003ewindow_size=%{x}\\u003cextra\\u003e\\u003c\\u002fextra\\u003e\",\"legendgroup\":\"14.454335393820562\",\"line\":{\"color\":\"#636efa\",\"dash\":\"solid\"},\"marker\":{\"symbol\":\"square\"},\"mode\":\"lines+markers\",\"name\":\"14.454335393820562\",\"orientation\":\"v\",\"showlegend\":true,\"x\":[980],\"xaxis\":\"x\",\"y\":[14.454335393820562],\"yaxis\":\"y\",\"type\":\"scatter\"},{\"hovertemplate\":\"moving_dist=%{y}\\u003cbr\\u003ewindow_size=%{x}\\u003cextra\\u003e\\u003c\\u002fextra\\u003e\",\"legendgroup\":\"14.447632501040609\",\"line\":{\"color\":\"#636efa\",\"dash\":\"solid\"},\"marker\":{\"symbol\":\"x\"},\"mode\":\"lines+markers\",\"name\":\"14.447632501040609\",\"orientation\":\"v\",\"showlegend\":true,\"x\":[990],\"xaxis\":\"x\",\"y\":[14.447632501040609],\"yaxis\":\"y\",\"type\":\"scatter\"}],                        {\"template\":{\"data\":{\"histogram2dcontour\":[{\"type\":\"histogram2dcontour\",\"colorbar\":{\"outlinewidth\":0,\"ticks\":\"\"},\"colorscale\":[[0.0,\"#0d0887\"],[0.1111111111111111,\"#46039f\"],[0.2222222222222222,\"#7201a8\"],[0.3333333333333333,\"#9c179e\"],[0.4444444444444444,\"#bd3786\"],[0.5555555555555556,\"#d8576b\"],[0.6666666666666666,\"#ed7953\"],[0.7777777777777778,\"#fb9f3a\"],[0.8888888888888888,\"#fdca26\"],[1.0,\"#f0f921\"]]}],\"choropleth\":[{\"type\":\"choropleth\",\"colorbar\":{\"outlinewidth\":0,\"ticks\":\"\"}}],\"histogram2d\":[{\"type\":\"histogram2d\",\"colorbar\":{\"outlinewidth\":0,\"ticks\":\"\"},\"colorscale\":[[0.0,\"#0d0887\"],[0.1111111111111111,\"#46039f\"],[0.2222222222222222,\"#7201a8\"],[0.3333333333333333,\"#9c179e\"],[0.4444444444444444,\"#bd3786\"],[0.5555555555555556,\"#d8576b\"],[0.6666666666666666,\"#ed7953\"],[0.7777777777777778,\"#fb9f3a\"],[0.8888888888888888,\"#fdca26\"],[1.0,\"#f0f921\"]]}],\"heatmap\":[{\"type\":\"heatmap\",\"colorbar\":{\"outlinewidth\":0,\"ticks\":\"\"},\"colorscale\":[[0.0,\"#0d0887\"],[0.1111111111111111,\"#46039f\"],[0.2222222222222222,\"#7201a8\"],[0.3333333333333333,\"#9c179e\"],[0.4444444444444444,\"#bd3786\"],[0.5555555555555556,\"#d8576b\"],[0.6666666666666666,\"#ed7953\"],[0.7777777777777778,\"#fb9f3a\"],[0.8888888888888888,\"#fdca26\"],[1.0,\"#f0f921\"]]}],\"heatmapgl\":[{\"type\":\"heatmapgl\",\"colorbar\":{\"outlinewidth\":0,\"ticks\":\"\"},\"colorscale\":[[0.0,\"#0d0887\"],[0.1111111111111111,\"#46039f\"],[0.2222222222222222,\"#7201a8\"],[0.3333333333333333,\"#9c179e\"],[0.4444444444444444,\"#bd3786\"],[0.5555555555555556,\"#d8576b\"],[0.6666666666666666,\"#ed7953\"],[0.7777777777777778,\"#fb9f3a\"],[0.8888888888888888,\"#fdca26\"],[1.0,\"#f0f921\"]]}],\"contourcarpet\":[{\"type\":\"contourcarpet\",\"colorbar\":{\"outlinewidth\":0,\"ticks\":\"\"}}],\"contour\":[{\"type\":\"contour\",\"colorbar\":{\"outlinewidth\":0,\"ticks\":\"\"},\"colorscale\":[[0.0,\"#0d0887\"],[0.1111111111111111,\"#46039f\"],[0.2222222222222222,\"#7201a8\"],[0.3333333333333333,\"#9c179e\"],[0.4444444444444444,\"#bd3786\"],[0.5555555555555556,\"#d8576b\"],[0.6666666666666666,\"#ed7953\"],[0.7777777777777778,\"#fb9f3a\"],[0.8888888888888888,\"#fdca26\"],[1.0,\"#f0f921\"]]}],\"surface\":[{\"type\":\"surface\",\"colorbar\":{\"outlinewidth\":0,\"ticks\":\"\"},\"colorscale\":[[0.0,\"#0d0887\"],[0.1111111111111111,\"#46039f\"],[0.2222222222222222,\"#7201a8\"],[0.3333333333333333,\"#9c179e\"],[0.4444444444444444,\"#bd3786\"],[0.5555555555555556,\"#d8576b\"],[0.6666666666666666,\"#ed7953\"],[0.7777777777777778,\"#fb9f3a\"],[0.8888888888888888,\"#fdca26\"],[1.0,\"#f0f921\"]]}],\"mesh3d\":[{\"type\":\"mesh3d\",\"colorbar\":{\"outlinewidth\":0,\"ticks\":\"\"}}],\"scatter\":[{\"fillpattern\":{\"fillmode\":\"overlay\",\"size\":10,\"solidity\":0.2},\"type\":\"scatter\"}],\"parcoords\":[{\"type\":\"parcoords\",\"line\":{\"colorbar\":{\"outlinewidth\":0,\"ticks\":\"\"}}}],\"scatterpolargl\":[{\"type\":\"scatterpolargl\",\"marker\":{\"colorbar\":{\"outlinewidth\":0,\"ticks\":\"\"}}}],\"bar\":[{\"error_x\":{\"color\":\"#2a3f5f\"},\"error_y\":{\"color\":\"#2a3f5f\"},\"marker\":{\"line\":{\"color\":\"#E5ECF6\",\"width\":0.5},\"pattern\":{\"fillmode\":\"overlay\",\"size\":10,\"solidity\":0.2}},\"type\":\"bar\"}],\"scattergeo\":[{\"type\":\"scattergeo\",\"marker\":{\"colorbar\":{\"outlinewidth\":0,\"ticks\":\"\"}}}],\"scatterpolar\":[{\"type\":\"scatterpolar\",\"marker\":{\"colorbar\":{\"outlinewidth\":0,\"ticks\":\"\"}}}],\"histogram\":[{\"marker\":{\"pattern\":{\"fillmode\":\"overlay\",\"size\":10,\"solidity\":0.2}},\"type\":\"histogram\"}],\"scattergl\":[{\"type\":\"scattergl\",\"marker\":{\"colorbar\":{\"outlinewidth\":0,\"ticks\":\"\"}}}],\"scatter3d\":[{\"type\":\"scatter3d\",\"line\":{\"colorbar\":{\"outlinewidth\":0,\"ticks\":\"\"}},\"marker\":{\"colorbar\":{\"outlinewidth\":0,\"ticks\":\"\"}}}],\"scattermapbox\":[{\"type\":\"scattermapbox\",\"marker\":{\"colorbar\":{\"outlinewidth\":0,\"ticks\":\"\"}}}],\"scatterternary\":[{\"type\":\"scatterternary\",\"marker\":{\"colorbar\":{\"outlinewidth\":0,\"ticks\":\"\"}}}],\"scattercarpet\":[{\"type\":\"scattercarpet\",\"marker\":{\"colorbar\":{\"outlinewidth\":0,\"ticks\":\"\"}}}],\"carpet\":[{\"aaxis\":{\"endlinecolor\":\"#2a3f5f\",\"gridcolor\":\"white\",\"linecolor\":\"white\",\"minorgridcolor\":\"white\",\"startlinecolor\":\"#2a3f5f\"},\"baxis\":{\"endlinecolor\":\"#2a3f5f\",\"gridcolor\":\"white\",\"linecolor\":\"white\",\"minorgridcolor\":\"white\",\"startlinecolor\":\"#2a3f5f\"},\"type\":\"carpet\"}],\"table\":[{\"cells\":{\"fill\":{\"color\":\"#EBF0F8\"},\"line\":{\"color\":\"white\"}},\"header\":{\"fill\":{\"color\":\"#C8D4E3\"},\"line\":{\"color\":\"white\"}},\"type\":\"table\"}],\"barpolar\":[{\"marker\":{\"line\":{\"color\":\"#E5ECF6\",\"width\":0.5},\"pattern\":{\"fillmode\":\"overlay\",\"size\":10,\"solidity\":0.2}},\"type\":\"barpolar\"}],\"pie\":[{\"automargin\":true,\"type\":\"pie\"}]},\"layout\":{\"autotypenumbers\":\"strict\",\"colorway\":[\"#636efa\",\"#EF553B\",\"#00cc96\",\"#ab63fa\",\"#FFA15A\",\"#19d3f3\",\"#FF6692\",\"#B6E880\",\"#FF97FF\",\"#FECB52\"],\"font\":{\"color\":\"#2a3f5f\"},\"hovermode\":\"closest\",\"hoverlabel\":{\"align\":\"left\"},\"paper_bgcolor\":\"white\",\"plot_bgcolor\":\"#E5ECF6\",\"polar\":{\"bgcolor\":\"#E5ECF6\",\"angularaxis\":{\"gridcolor\":\"white\",\"linecolor\":\"white\",\"ticks\":\"\"},\"radialaxis\":{\"gridcolor\":\"white\",\"linecolor\":\"white\",\"ticks\":\"\"}},\"ternary\":{\"bgcolor\":\"#E5ECF6\",\"aaxis\":{\"gridcolor\":\"white\",\"linecolor\":\"white\",\"ticks\":\"\"},\"baxis\":{\"gridcolor\":\"white\",\"linecolor\":\"white\",\"ticks\":\"\"},\"caxis\":{\"gridcolor\":\"white\",\"linecolor\":\"white\",\"ticks\":\"\"}},\"coloraxis\":{\"colorbar\":{\"outlinewidth\":0,\"ticks\":\"\"}},\"colorscale\":{\"sequential\":[[0.0,\"#0d0887\"],[0.1111111111111111,\"#46039f\"],[0.2222222222222222,\"#7201a8\"],[0.3333333333333333,\"#9c179e\"],[0.4444444444444444,\"#bd3786\"],[0.5555555555555556,\"#d8576b\"],[0.6666666666666666,\"#ed7953\"],[0.7777777777777778,\"#fb9f3a\"],[0.8888888888888888,\"#fdca26\"],[1.0,\"#f0f921\"]],\"sequentialminus\":[[0.0,\"#0d0887\"],[0.1111111111111111,\"#46039f\"],[0.2222222222222222,\"#7201a8\"],[0.3333333333333333,\"#9c179e\"],[0.4444444444444444,\"#bd3786\"],[0.5555555555555556,\"#d8576b\"],[0.6666666666666666,\"#ed7953\"],[0.7777777777777778,\"#fb9f3a\"],[0.8888888888888888,\"#fdca26\"],[1.0,\"#f0f921\"]],\"diverging\":[[0,\"#8e0152\"],[0.1,\"#c51b7d\"],[0.2,\"#de77ae\"],[0.3,\"#f1b6da\"],[0.4,\"#fde0ef\"],[0.5,\"#f7f7f7\"],[0.6,\"#e6f5d0\"],[0.7,\"#b8e186\"],[0.8,\"#7fbc41\"],[0.9,\"#4d9221\"],[1,\"#276419\"]]},\"xaxis\":{\"gridcolor\":\"white\",\"linecolor\":\"white\",\"ticks\":\"\",\"title\":{\"standoff\":15},\"zerolinecolor\":\"white\",\"automargin\":true,\"zerolinewidth\":2},\"yaxis\":{\"gridcolor\":\"white\",\"linecolor\":\"white\",\"ticks\":\"\",\"title\":{\"standoff\":15},\"zerolinecolor\":\"white\",\"automargin\":true,\"zerolinewidth\":2},\"scene\":{\"xaxis\":{\"backgroundcolor\":\"#E5ECF6\",\"gridcolor\":\"white\",\"linecolor\":\"white\",\"showbackground\":true,\"ticks\":\"\",\"zerolinecolor\":\"white\",\"gridwidth\":2},\"yaxis\":{\"backgroundcolor\":\"#E5ECF6\",\"gridcolor\":\"white\",\"linecolor\":\"white\",\"showbackground\":true,\"ticks\":\"\",\"zerolinecolor\":\"white\",\"gridwidth\":2},\"zaxis\":{\"backgroundcolor\":\"#E5ECF6\",\"gridcolor\":\"white\",\"linecolor\":\"white\",\"showbackground\":true,\"ticks\":\"\",\"zerolinecolor\":\"white\",\"gridwidth\":2}},\"shapedefaults\":{\"line\":{\"color\":\"#2a3f5f\"}},\"annotationdefaults\":{\"arrowcolor\":\"#2a3f5f\",\"arrowhead\":0,\"arrowwidth\":1},\"geo\":{\"bgcolor\":\"white\",\"landcolor\":\"#E5ECF6\",\"subunitcolor\":\"white\",\"showland\":true,\"showlakes\":true,\"lakecolor\":\"white\"},\"title\":{\"x\":0.05},\"mapbox\":{\"style\":\"light\"}}},\"xaxis\":{\"anchor\":\"y\",\"domain\":[0.0,1.0],\"title\":{\"text\":\"window_size\"}},\"yaxis\":{\"anchor\":\"x\",\"domain\":[0.0,1.0],\"title\":{\"text\":\"moving_dist\"},\"categoryorder\":\"array\",\"categoryarray\":[14.447632501040609,14.454335393820562,14.460421587200354,14.465815508735098,14.470367826711525,14.47407228118626,14.476890698679814,14.478858696713486,14.480209375169531,14.480993800996755,14.481359735399597,14.48189267637006,14.482392590232433,14.483325965800013,14.485726486735423,14.489682537761658,14.495399444380217,14.503108010073733,14.512195193986283,14.521747768719578,14.53118673961822,14.54024025540274,14.548759103438318,14.556480606540934,14.563168566733504,14.568714717715944,14.57303267524142,14.575958952276027,14.577525176504231,14.577933187916445,14.577571165614742,14.576363266175518,14.5746866364552,14.573281895731064,14.572561728919688,14.573472147448484,14.577255189687536,14.584327657836656,14.594455339349194,14.606625920451728,14.619945942816331,14.633622730607085,14.647325888021758,14.660217206643726,14.671702937473986,14.681650149317369,14.690001819854468,14.69664170684445,14.701457423561965,14.704509097586573,14.705628695970903,14.704803335839705,14.70248617627135,14.698984546968385,14.694123448342802,14.68853377141653,14.684363002520461,14.685881969261095,14.695308515388351,14.711583928333397,14.733154313096657,14.758232999824893,14.784705305290826,14.810635622318248,14.834651090410198,14.855866675138163,14.874257756266415,14.88962309631247,14.901792108802942,14.910542760015932,14.915901382591931,14.918034005299248,14.91613643587433,14.909195059864448,14.896410103632563,14.878080810243066,14.85566768574448,14.835598522808365,14.829794208514993,14.848992267886116,14.89543712078093,14.95841734957401,15.028426728541623,15.100591121455507,15.1713382451084,15.237960755769048,15.30060921482649,15.361069103395796,15.420725354954634,15.48069003227856,15.541743851623751,15.606591144804897,15.675265563835696,15.74157330851034,15.80186749915924,15.855855041564912,15.905230232164078,15.954039114051998,16.005714176983776]},\"legend\":{\"title\":{\"text\":\"moving_dist\"},\"tracegroupgap\":0},\"title\":{\"text\":\"Moving Dist vs Window Size\"}},                        {\"responsive\": true}                    ).then(function(){\n",
       "                            \n",
       "var gd = document.getElementById('5cdc8550-4db6-427b-93bf-37661bf8b26b');\n",
       "var x = new MutationObserver(function (mutations, observer) {{\n",
       "        var display = window.getComputedStyle(gd).display;\n",
       "        if (!display || display === 'none') {{\n",
       "            console.log([gd, 'removed!']);\n",
       "            Plotly.purge(gd);\n",
       "            observer.disconnect();\n",
       "        }}\n",
       "}});\n",
       "\n",
       "// Listen for the removal of the full notebook cells\n",
       "var notebookContainer = gd.closest('#notebook-container');\n",
       "if (notebookContainer) {{\n",
       "    x.observe(notebookContainer, {childList: true});\n",
       "}}\n",
       "\n",
       "// Listen for the clearing of the current output cell\n",
       "var outputEl = gd.closest('.output');\n",
       "if (outputEl) {{\n",
       "    x.observe(outputEl, {childList: true});\n",
       "}}\n",
       "\n",
       "                        })                };                });            </script>        </div>"
      ]
     },
     "metadata": {},
     "output_type": "display_data"
    }
   ],
   "source": [
    "fig = px.line(dfp, x=\"window_size\", y=\"moving_dist\", title='Moving Dist vs Window Size',  symbol='moving_dist')\n",
    "fig.show()"
   ]
  },
  {
   "cell_type": "code",
   "execution_count": 31,
   "id": "7dacf1df-e0ea-4f67-a584-a356e65c0b73",
   "metadata": {},
   "outputs": [],
   "source": [
    "fp = \"../data/data_phase2/007_UCR_Anomaly_4000.txt\"\n",
    "df = pd.read_csv(fp)\n",
    "ts = df.values"
   ]
  },
  {
   "cell_type": "code",
   "execution_count": 34,
   "id": "0a930e5e-9887-4ae5-81e3-efad0e877fa9",
   "metadata": {},
   "outputs": [],
   "source": [
    "movingAvgResiduals = []\n",
    "window_sizes = []\n",
    "# using s and e values in the listing for ALgorithm 1 in the paper.\n",
    "start = 10 \n",
    "end = 100\n",
    "step = 1\n",
    "winTime, conf, reswin= original_finding_window_size(ts, start, end, step)"
   ]
  },
  {
   "cell_type": "code",
   "execution_count": 36,
   "id": "f12a0a2f-ab18-49a8-b9bc-3e2b5adb71c1",
   "metadata": {},
   "outputs": [
    {
     "data": {
      "application/vnd.plotly.v1+json": {
       "config": {
        "plotlyServerURL": "https://plot.ly"
       },
       "data": [
        {
         "hovertemplate": "moving_dist=%{y}<br>window_size=%{x}<extra></extra>",
         "legendgroup": "10.322900632728517",
         "line": {
          "color": "#636efa",
          "dash": "solid"
         },
         "marker": {
          "symbol": "circle"
         },
         "mode": "lines+markers",
         "name": "10.322900632728517",
         "orientation": "v",
         "showlegend": true,
         "type": "scatter",
         "x": [
          10
         ],
         "xaxis": "x",
         "y": [
          10.322900632728517
         ],
         "yaxis": "y"
        },
        {
         "hovertemplate": "moving_dist=%{y}<br>window_size=%{x}<extra></extra>",
         "legendgroup": "10.290838202858401",
         "line": {
          "color": "#636efa",
          "dash": "solid"
         },
         "marker": {
          "symbol": "diamond"
         },
         "mode": "lines+markers",
         "name": "10.290838202858401",
         "orientation": "v",
         "showlegend": true,
         "type": "scatter",
         "x": [
          11
         ],
         "xaxis": "x",
         "y": [
          10.290838202858401
         ],
         "yaxis": "y"
        },
        {
         "hovertemplate": "moving_dist=%{y}<br>window_size=%{x}<extra></extra>",
         "legendgroup": "10.25765857312714",
         "line": {
          "color": "#636efa",
          "dash": "solid"
         },
         "marker": {
          "symbol": "square"
         },
         "mode": "lines+markers",
         "name": "10.25765857312714",
         "orientation": "v",
         "showlegend": true,
         "type": "scatter",
         "x": [
          12
         ],
         "xaxis": "x",
         "y": [
          10.25765857312714
         ],
         "yaxis": "y"
        },
        {
         "hovertemplate": "moving_dist=%{y}<br>window_size=%{x}<extra></extra>",
         "legendgroup": "10.224419312639172",
         "line": {
          "color": "#636efa",
          "dash": "solid"
         },
         "marker": {
          "symbol": "x"
         },
         "mode": "lines+markers",
         "name": "10.224419312639172",
         "orientation": "v",
         "showlegend": true,
         "type": "scatter",
         "x": [
          13
         ],
         "xaxis": "x",
         "y": [
          10.224419312639172
         ],
         "yaxis": "y"
        },
        {
         "hovertemplate": "moving_dist=%{y}<br>window_size=%{x}<extra></extra>",
         "legendgroup": "10.191434035441306",
         "line": {
          "color": "#636efa",
          "dash": "solid"
         },
         "marker": {
          "symbol": "cross"
         },
         "mode": "lines+markers",
         "name": "10.191434035441306",
         "orientation": "v",
         "showlegend": true,
         "type": "scatter",
         "x": [
          14
         ],
         "xaxis": "x",
         "y": [
          10.191434035441306
         ],
         "yaxis": "y"
        },
        {
         "hovertemplate": "moving_dist=%{y}<br>window_size=%{x}<extra></extra>",
         "legendgroup": "10.159441503849202",
         "line": {
          "color": "#636efa",
          "dash": "solid"
         },
         "marker": {
          "symbol": "circle"
         },
         "mode": "lines+markers",
         "name": "10.159441503849202",
         "orientation": "v",
         "showlegend": true,
         "type": "scatter",
         "x": [
          15
         ],
         "xaxis": "x",
         "y": [
          10.159441503849202
         ],
         "yaxis": "y"
        },
        {
         "hovertemplate": "moving_dist=%{y}<br>window_size=%{x}<extra></extra>",
         "legendgroup": "10.128820550113922",
         "line": {
          "color": "#636efa",
          "dash": "solid"
         },
         "marker": {
          "symbol": "diamond"
         },
         "mode": "lines+markers",
         "name": "10.128820550113922",
         "orientation": "v",
         "showlegend": true,
         "type": "scatter",
         "x": [
          16
         ],
         "xaxis": "x",
         "y": [
          10.128820550113922
         ],
         "yaxis": "y"
        },
        {
         "hovertemplate": "moving_dist=%{y}<br>window_size=%{x}<extra></extra>",
         "legendgroup": "10.100817483058535",
         "line": {
          "color": "#636efa",
          "dash": "solid"
         },
         "marker": {
          "symbol": "square"
         },
         "mode": "lines+markers",
         "name": "10.100817483058535",
         "orientation": "v",
         "showlegend": true,
         "type": "scatter",
         "x": [
          17
         ],
         "xaxis": "x",
         "y": [
          10.100817483058535
         ],
         "yaxis": "y"
        },
        {
         "hovertemplate": "moving_dist=%{y}<br>window_size=%{x}<extra></extra>",
         "legendgroup": "10.075984668049806",
         "line": {
          "color": "#636efa",
          "dash": "solid"
         },
         "marker": {
          "symbol": "x"
         },
         "mode": "lines+markers",
         "name": "10.075984668049806",
         "orientation": "v",
         "showlegend": true,
         "type": "scatter",
         "x": [
          18
         ],
         "xaxis": "x",
         "y": [
          10.075984668049806
         ],
         "yaxis": "y"
        },
        {
         "hovertemplate": "moving_dist=%{y}<br>window_size=%{x}<extra></extra>",
         "legendgroup": "10.055140654917759",
         "line": {
          "color": "#636efa",
          "dash": "solid"
         },
         "marker": {
          "symbol": "cross"
         },
         "mode": "lines+markers",
         "name": "10.055140654917759",
         "orientation": "v",
         "showlegend": true,
         "type": "scatter",
         "x": [
          19
         ],
         "xaxis": "x",
         "y": [
          10.055140654917759
         ],
         "yaxis": "y"
        },
        {
         "hovertemplate": "moving_dist=%{y}<br>window_size=%{x}<extra></extra>",
         "legendgroup": "10.039117374748223",
         "line": {
          "color": "#636efa",
          "dash": "solid"
         },
         "marker": {
          "symbol": "circle"
         },
         "mode": "lines+markers",
         "name": "10.039117374748223",
         "orientation": "v",
         "showlegend": true,
         "type": "scatter",
         "x": [
          20
         ],
         "xaxis": "x",
         "y": [
          10.039117374748223
         ],
         "yaxis": "y"
        },
        {
         "hovertemplate": "moving_dist=%{y}<br>window_size=%{x}<extra></extra>",
         "legendgroup": "10.02689606796733",
         "line": {
          "color": "#636efa",
          "dash": "solid"
         },
         "marker": {
          "symbol": "diamond"
         },
         "mode": "lines+markers",
         "name": "10.02689606796733",
         "orientation": "v",
         "showlegend": true,
         "type": "scatter",
         "x": [
          21
         ],
         "xaxis": "x",
         "y": [
          10.02689606796733
         ],
         "yaxis": "y"
        },
        {
         "hovertemplate": "moving_dist=%{y}<br>window_size=%{x}<extra></extra>",
         "legendgroup": "10.017869034722299",
         "line": {
          "color": "#636efa",
          "dash": "solid"
         },
         "marker": {
          "symbol": "square"
         },
         "mode": "lines+markers",
         "name": "10.017869034722299",
         "orientation": "v",
         "showlegend": true,
         "type": "scatter",
         "x": [
          22
         ],
         "xaxis": "x",
         "y": [
          10.017869034722299
         ],
         "yaxis": "y"
        },
        {
         "hovertemplate": "moving_dist=%{y}<br>window_size=%{x}<extra></extra>",
         "legendgroup": "10.012058251671826",
         "line": {
          "color": "#636efa",
          "dash": "solid"
         },
         "marker": {
          "symbol": "x"
         },
         "mode": "lines+markers",
         "name": "10.012058251671826",
         "orientation": "v",
         "showlegend": true,
         "type": "scatter",
         "x": [
          23
         ],
         "xaxis": "x",
         "y": [
          10.012058251671826
         ],
         "yaxis": "y"
        },
        {
         "hovertemplate": "moving_dist=%{y}<br>window_size=%{x}<extra></extra>",
         "legendgroup": "10.008710204804965",
         "line": {
          "color": "#636efa",
          "dash": "solid"
         },
         "marker": {
          "symbol": "cross"
         },
         "mode": "lines+markers",
         "name": "10.008710204804965",
         "orientation": "v",
         "showlegend": true,
         "type": "scatter",
         "x": [
          24
         ],
         "xaxis": "x",
         "y": [
          10.008710204804965
         ],
         "yaxis": "y"
        },
        {
         "hovertemplate": "moving_dist=%{y}<br>window_size=%{x}<extra></extra>",
         "legendgroup": "10.007635366348818",
         "line": {
          "color": "#636efa",
          "dash": "solid"
         },
         "marker": {
          "symbol": "circle"
         },
         "mode": "lines+markers",
         "name": "10.007635366348818",
         "orientation": "v",
         "showlegend": true,
         "type": "scatter",
         "x": [
          25
         ],
         "xaxis": "x",
         "y": [
          10.007635366348818
         ],
         "yaxis": "y"
        },
        {
         "hovertemplate": "moving_dist=%{y}<br>window_size=%{x}<extra></extra>",
         "legendgroup": "10.007871529413983",
         "line": {
          "color": "#636efa",
          "dash": "solid"
         },
         "marker": {
          "symbol": "diamond"
         },
         "mode": "lines+markers",
         "name": "10.007871529413983",
         "orientation": "v",
         "showlegend": true,
         "type": "scatter",
         "x": [
          26
         ],
         "xaxis": "x",
         "y": [
          10.007871529413983
         ],
         "yaxis": "y"
        },
        {
         "hovertemplate": "moving_dist=%{y}<br>window_size=%{x}<extra></extra>",
         "legendgroup": "10.008884435484003",
         "line": {
          "color": "#636efa",
          "dash": "solid"
         },
         "marker": {
          "symbol": "square"
         },
         "mode": "lines+markers",
         "name": "10.008884435484003",
         "orientation": "v",
         "showlegend": true,
         "type": "scatter",
         "x": [
          27
         ],
         "xaxis": "x",
         "y": [
          10.008884435484003
         ],
         "yaxis": "y"
        },
        {
         "hovertemplate": "moving_dist=%{y}<br>window_size=%{x}<extra></extra>",
         "legendgroup": "10.010415410416492",
         "line": {
          "color": "#636efa",
          "dash": "solid"
         },
         "marker": {
          "symbol": "x"
         },
         "mode": "lines+markers",
         "name": "10.010415410416492",
         "orientation": "v",
         "showlegend": true,
         "type": "scatter",
         "x": [
          28
         ],
         "xaxis": "x",
         "y": [
          10.010415410416492
         ],
         "yaxis": "y"
        },
        {
         "hovertemplate": "moving_dist=%{y}<br>window_size=%{x}<extra></extra>",
         "legendgroup": "10.012031080505595",
         "line": {
          "color": "#636efa",
          "dash": "solid"
         },
         "marker": {
          "symbol": "cross"
         },
         "mode": "lines+markers",
         "name": "10.012031080505595",
         "orientation": "v",
         "showlegend": true,
         "type": "scatter",
         "x": [
          29
         ],
         "xaxis": "x",
         "y": [
          10.012031080505595
         ],
         "yaxis": "y"
        },
        {
         "hovertemplate": "moving_dist=%{y}<br>window_size=%{x}<extra></extra>",
         "legendgroup": "10.013383177227713",
         "line": {
          "color": "#636efa",
          "dash": "solid"
         },
         "marker": {
          "symbol": "circle"
         },
         "mode": "lines+markers",
         "name": "10.013383177227713",
         "orientation": "v",
         "showlegend": true,
         "type": "scatter",
         "x": [
          30
         ],
         "xaxis": "x",
         "y": [
          10.013383177227713
         ],
         "yaxis": "y"
        },
        {
         "hovertemplate": "moving_dist=%{y}<br>window_size=%{x}<extra></extra>",
         "legendgroup": "10.014155170460942",
         "line": {
          "color": "#636efa",
          "dash": "solid"
         },
         "marker": {
          "symbol": "diamond"
         },
         "mode": "lines+markers",
         "name": "10.014155170460942",
         "orientation": "v",
         "showlegend": true,
         "type": "scatter",
         "x": [
          31
         ],
         "xaxis": "x",
         "y": [
          10.014155170460942
         ],
         "yaxis": "y"
        },
        {
         "hovertemplate": "moving_dist=%{y}<br>window_size=%{x}<extra></extra>",
         "legendgroup": "10.01420150904569",
         "line": {
          "color": "#636efa",
          "dash": "solid"
         },
         "marker": {
          "symbol": "square"
         },
         "mode": "lines+markers",
         "name": "10.01420150904569",
         "orientation": "v",
         "showlegend": true,
         "type": "scatter",
         "x": [
          32
         ],
         "xaxis": "x",
         "y": [
          10.01420150904569
         ],
         "yaxis": "y"
        },
        {
         "hovertemplate": "moving_dist=%{y}<br>window_size=%{x}<extra></extra>",
         "legendgroup": "10.013334314521183",
         "line": {
          "color": "#636efa",
          "dash": "solid"
         },
         "marker": {
          "symbol": "x"
         },
         "mode": "lines+markers",
         "name": "10.013334314521183",
         "orientation": "v",
         "showlegend": true,
         "type": "scatter",
         "x": [
          33
         ],
         "xaxis": "x",
         "y": [
          10.013334314521183
         ],
         "yaxis": "y"
        },
        {
         "hovertemplate": "moving_dist=%{y}<br>window_size=%{x}<extra></extra>",
         "legendgroup": "10.011522154721101",
         "line": {
          "color": "#636efa",
          "dash": "solid"
         },
         "marker": {
          "symbol": "cross"
         },
         "mode": "lines+markers",
         "name": "10.011522154721101",
         "orientation": "v",
         "showlegend": true,
         "type": "scatter",
         "x": [
          34
         ],
         "xaxis": "x",
         "y": [
          10.011522154721101
         ],
         "yaxis": "y"
        },
        {
         "hovertemplate": "moving_dist=%{y}<br>window_size=%{x}<extra></extra>",
         "legendgroup": "10.008681375615497",
         "line": {
          "color": "#636efa",
          "dash": "solid"
         },
         "marker": {
          "symbol": "circle"
         },
         "mode": "lines+markers",
         "name": "10.008681375615497",
         "orientation": "v",
         "showlegend": true,
         "type": "scatter",
         "x": [
          35
         ],
         "xaxis": "x",
         "y": [
          10.008681375615497
         ],
         "yaxis": "y"
        },
        {
         "hovertemplate": "moving_dist=%{y}<br>window_size=%{x}<extra></extra>",
         "legendgroup": "10.00497438989464",
         "line": {
          "color": "#636efa",
          "dash": "solid"
         },
         "marker": {
          "symbol": "diamond"
         },
         "mode": "lines+markers",
         "name": "10.00497438989464",
         "orientation": "v",
         "showlegend": true,
         "type": "scatter",
         "x": [
          36
         ],
         "xaxis": "x",
         "y": [
          10.00497438989464
         ],
         "yaxis": "y"
        },
        {
         "hovertemplate": "moving_dist=%{y}<br>window_size=%{x}<extra></extra>",
         "legendgroup": "10.000314013304127",
         "line": {
          "color": "#636efa",
          "dash": "solid"
         },
         "marker": {
          "symbol": "square"
         },
         "mode": "lines+markers",
         "name": "10.000314013304127",
         "orientation": "v",
         "showlegend": true,
         "type": "scatter",
         "x": [
          37
         ],
         "xaxis": "x",
         "y": [
          10.000314013304127
         ],
         "yaxis": "y"
        },
        {
         "hovertemplate": "moving_dist=%{y}<br>window_size=%{x}<extra></extra>",
         "legendgroup": "9.994868942359394",
         "line": {
          "color": "#636efa",
          "dash": "solid"
         },
         "marker": {
          "symbol": "x"
         },
         "mode": "lines+markers",
         "name": "9.994868942359394",
         "orientation": "v",
         "showlegend": true,
         "type": "scatter",
         "x": [
          38
         ],
         "xaxis": "x",
         "y": [
          9.994868942359394
         ],
         "yaxis": "y"
        },
        {
         "hovertemplate": "moving_dist=%{y}<br>window_size=%{x}<extra></extra>",
         "legendgroup": "9.98876209215274",
         "line": {
          "color": "#636efa",
          "dash": "solid"
         },
         "marker": {
          "symbol": "cross"
         },
         "mode": "lines+markers",
         "name": "9.98876209215274",
         "orientation": "v",
         "showlegend": true,
         "type": "scatter",
         "x": [
          39
         ],
         "xaxis": "x",
         "y": [
          9.98876209215274
         ],
         "yaxis": "y"
        },
        {
         "hovertemplate": "moving_dist=%{y}<br>window_size=%{x}<extra></extra>",
         "legendgroup": "9.98227514121849",
         "line": {
          "color": "#636efa",
          "dash": "solid"
         },
         "marker": {
          "symbol": "circle"
         },
         "mode": "lines+markers",
         "name": "9.98227514121849",
         "orientation": "v",
         "showlegend": true,
         "type": "scatter",
         "x": [
          40
         ],
         "xaxis": "x",
         "y": [
          9.98227514121849
         ],
         "yaxis": "y"
        },
        {
         "hovertemplate": "moving_dist=%{y}<br>window_size=%{x}<extra></extra>",
         "legendgroup": "9.975604254914076",
         "line": {
          "color": "#636efa",
          "dash": "solid"
         },
         "marker": {
          "symbol": "diamond"
         },
         "mode": "lines+markers",
         "name": "9.975604254914076",
         "orientation": "v",
         "showlegend": true,
         "type": "scatter",
         "x": [
          41
         ],
         "xaxis": "x",
         "y": [
          9.975604254914076
         ],
         "yaxis": "y"
        },
        {
         "hovertemplate": "moving_dist=%{y}<br>window_size=%{x}<extra></extra>",
         "legendgroup": "9.968843786678995",
         "line": {
          "color": "#636efa",
          "dash": "solid"
         },
         "marker": {
          "symbol": "square"
         },
         "mode": "lines+markers",
         "name": "9.968843786678995",
         "orientation": "v",
         "showlegend": true,
         "type": "scatter",
         "x": [
          42
         ],
         "xaxis": "x",
         "y": [
          9.968843786678995
         ],
         "yaxis": "y"
        },
        {
         "hovertemplate": "moving_dist=%{y}<br>window_size=%{x}<extra></extra>",
         "legendgroup": "9.96221582974269",
         "line": {
          "color": "#636efa",
          "dash": "solid"
         },
         "marker": {
          "symbol": "x"
         },
         "mode": "lines+markers",
         "name": "9.96221582974269",
         "orientation": "v",
         "showlegend": true,
         "type": "scatter",
         "x": [
          43
         ],
         "xaxis": "x",
         "y": [
          9.96221582974269
         ],
         "yaxis": "y"
        },
        {
         "hovertemplate": "moving_dist=%{y}<br>window_size=%{x}<extra></extra>",
         "legendgroup": "9.955923355973754",
         "line": {
          "color": "#636efa",
          "dash": "solid"
         },
         "marker": {
          "symbol": "cross"
         },
         "mode": "lines+markers",
         "name": "9.955923355973754",
         "orientation": "v",
         "showlegend": true,
         "type": "scatter",
         "x": [
          44
         ],
         "xaxis": "x",
         "y": [
          9.955923355973754
         ],
         "yaxis": "y"
        },
        {
         "hovertemplate": "moving_dist=%{y}<br>window_size=%{x}<extra></extra>",
         "legendgroup": "9.95017984828172",
         "line": {
          "color": "#636efa",
          "dash": "solid"
         },
         "marker": {
          "symbol": "circle"
         },
         "mode": "lines+markers",
         "name": "9.95017984828172",
         "orientation": "v",
         "showlegend": true,
         "type": "scatter",
         "x": [
          45
         ],
         "xaxis": "x",
         "y": [
          9.95017984828172
         ],
         "yaxis": "y"
        },
        {
         "hovertemplate": "moving_dist=%{y}<br>window_size=%{x}<extra></extra>",
         "legendgroup": "9.94517513986046",
         "line": {
          "color": "#636efa",
          "dash": "solid"
         },
         "marker": {
          "symbol": "diamond"
         },
         "mode": "lines+markers",
         "name": "9.94517513986046",
         "orientation": "v",
         "showlegend": true,
         "type": "scatter",
         "x": [
          46
         ],
         "xaxis": "x",
         "y": [
          9.94517513986046
         ],
         "yaxis": "y"
        },
        {
         "hovertemplate": "moving_dist=%{y}<br>window_size=%{x}<extra></extra>",
         "legendgroup": "9.940984780312625",
         "line": {
          "color": "#636efa",
          "dash": "solid"
         },
         "marker": {
          "symbol": "square"
         },
         "mode": "lines+markers",
         "name": "9.940984780312625",
         "orientation": "v",
         "showlegend": true,
         "type": "scatter",
         "x": [
          47
         ],
         "xaxis": "x",
         "y": [
          9.940984780312625
         ],
         "yaxis": "y"
        },
        {
         "hovertemplate": "moving_dist=%{y}<br>window_size=%{x}<extra></extra>",
         "legendgroup": "9.937438557413987",
         "line": {
          "color": "#636efa",
          "dash": "solid"
         },
         "marker": {
          "symbol": "x"
         },
         "mode": "lines+markers",
         "name": "9.937438557413987",
         "orientation": "v",
         "showlegend": true,
         "type": "scatter",
         "x": [
          48
         ],
         "xaxis": "x",
         "y": [
          9.937438557413987
         ],
         "yaxis": "y"
        },
        {
         "hovertemplate": "moving_dist=%{y}<br>window_size=%{x}<extra></extra>",
         "legendgroup": "9.934577971157344",
         "line": {
          "color": "#636efa",
          "dash": "solid"
         },
         "marker": {
          "symbol": "cross"
         },
         "mode": "lines+markers",
         "name": "9.934577971157344",
         "orientation": "v",
         "showlegend": true,
         "type": "scatter",
         "x": [
          49
         ],
         "xaxis": "x",
         "y": [
          9.934577971157344
         ],
         "yaxis": "y"
        },
        {
         "hovertemplate": "moving_dist=%{y}<br>window_size=%{x}<extra></extra>",
         "legendgroup": "9.932399716354608",
         "line": {
          "color": "#636efa",
          "dash": "solid"
         },
         "marker": {
          "symbol": "circle"
         },
         "mode": "lines+markers",
         "name": "9.932399716354608",
         "orientation": "v",
         "showlegend": true,
         "type": "scatter",
         "x": [
          50
         ],
         "xaxis": "x",
         "y": [
          9.932399716354608
         ],
         "yaxis": "y"
        },
        {
         "hovertemplate": "moving_dist=%{y}<br>window_size=%{x}<extra></extra>",
         "legendgroup": "9.930782841921184",
         "line": {
          "color": "#636efa",
          "dash": "solid"
         },
         "marker": {
          "symbol": "diamond"
         },
         "mode": "lines+markers",
         "name": "9.930782841921184",
         "orientation": "v",
         "showlegend": true,
         "type": "scatter",
         "x": [
          51
         ],
         "xaxis": "x",
         "y": [
          9.930782841921184
         ],
         "yaxis": "y"
        },
        {
         "hovertemplate": "moving_dist=%{y}<br>window_size=%{x}<extra></extra>",
         "legendgroup": "9.929536096958744",
         "line": {
          "color": "#636efa",
          "dash": "solid"
         },
         "marker": {
          "symbol": "square"
         },
         "mode": "lines+markers",
         "name": "9.929536096958744",
         "orientation": "v",
         "showlegend": true,
         "type": "scatter",
         "x": [
          52
         ],
         "xaxis": "x",
         "y": [
          9.929536096958744
         ],
         "yaxis": "y"
        },
        {
         "hovertemplate": "moving_dist=%{y}<br>window_size=%{x}<extra></extra>",
         "legendgroup": "9.92850117786854",
         "line": {
          "color": "#636efa",
          "dash": "solid"
         },
         "marker": {
          "symbol": "x"
         },
         "mode": "lines+markers",
         "name": "9.92850117786854",
         "orientation": "v",
         "showlegend": true,
         "type": "scatter",
         "x": [
          53
         ],
         "xaxis": "x",
         "y": [
          9.92850117786854
         ],
         "yaxis": "y"
        },
        {
         "hovertemplate": "moving_dist=%{y}<br>window_size=%{x}<extra></extra>",
         "legendgroup": "9.927510400667474",
         "line": {
          "color": "#636efa",
          "dash": "solid"
         },
         "marker": {
          "symbol": "cross"
         },
         "mode": "lines+markers",
         "name": "9.927510400667474",
         "orientation": "v",
         "showlegend": true,
         "type": "scatter",
         "x": [
          54
         ],
         "xaxis": "x",
         "y": [
          9.927510400667474
         ],
         "yaxis": "y"
        },
        {
         "hovertemplate": "moving_dist=%{y}<br>window_size=%{x}<extra></extra>",
         "legendgroup": "9.926310669517957",
         "line": {
          "color": "#636efa",
          "dash": "solid"
         },
         "marker": {
          "symbol": "circle"
         },
         "mode": "lines+markers",
         "name": "9.926310669517957",
         "orientation": "v",
         "showlegend": true,
         "type": "scatter",
         "x": [
          55
         ],
         "xaxis": "x",
         "y": [
          9.926310669517957
         ],
         "yaxis": "y"
        },
        {
         "hovertemplate": "moving_dist=%{y}<br>window_size=%{x}<extra></extra>",
         "legendgroup": "9.924756454643246",
         "line": {
          "color": "#636efa",
          "dash": "solid"
         },
         "marker": {
          "symbol": "diamond"
         },
         "mode": "lines+markers",
         "name": "9.924756454643246",
         "orientation": "v",
         "showlegend": true,
         "type": "scatter",
         "x": [
          56
         ],
         "xaxis": "x",
         "y": [
          9.924756454643246
         ],
         "yaxis": "y"
        },
        {
         "hovertemplate": "moving_dist=%{y}<br>window_size=%{x}<extra></extra>",
         "legendgroup": "9.922819651787076",
         "line": {
          "color": "#636efa",
          "dash": "solid"
         },
         "marker": {
          "symbol": "square"
         },
         "mode": "lines+markers",
         "name": "9.922819651787076",
         "orientation": "v",
         "showlegend": true,
         "type": "scatter",
         "x": [
          57
         ],
         "xaxis": "x",
         "y": [
          9.922819651787076
         ],
         "yaxis": "y"
        },
        {
         "hovertemplate": "moving_dist=%{y}<br>window_size=%{x}<extra></extra>",
         "legendgroup": "9.920461768315038",
         "line": {
          "color": "#636efa",
          "dash": "solid"
         },
         "marker": {
          "symbol": "x"
         },
         "mode": "lines+markers",
         "name": "9.920461768315038",
         "orientation": "v",
         "showlegend": true,
         "type": "scatter",
         "x": [
          58
         ],
         "xaxis": "x",
         "y": [
          9.920461768315038
         ],
         "yaxis": "y"
        },
        {
         "hovertemplate": "moving_dist=%{y}<br>window_size=%{x}<extra></extra>",
         "legendgroup": "9.917667987274529",
         "line": {
          "color": "#636efa",
          "dash": "solid"
         },
         "marker": {
          "symbol": "cross"
         },
         "mode": "lines+markers",
         "name": "9.917667987274529",
         "orientation": "v",
         "showlegend": true,
         "type": "scatter",
         "x": [
          59
         ],
         "xaxis": "x",
         "y": [
          9.917667987274529
         ],
         "yaxis": "y"
        },
        {
         "hovertemplate": "moving_dist=%{y}<br>window_size=%{x}<extra></extra>",
         "legendgroup": "9.914383665827005",
         "line": {
          "color": "#636efa",
          "dash": "solid"
         },
         "marker": {
          "symbol": "circle"
         },
         "mode": "lines+markers",
         "name": "9.914383665827005",
         "orientation": "v",
         "showlegend": true,
         "type": "scatter",
         "x": [
          60
         ],
         "xaxis": "x",
         "y": [
          9.914383665827005
         ],
         "yaxis": "y"
        },
        {
         "hovertemplate": "moving_dist=%{y}<br>window_size=%{x}<extra></extra>",
         "legendgroup": "9.91066135021055",
         "line": {
          "color": "#636efa",
          "dash": "solid"
         },
         "marker": {
          "symbol": "diamond"
         },
         "mode": "lines+markers",
         "name": "9.91066135021055",
         "orientation": "v",
         "showlegend": true,
         "type": "scatter",
         "x": [
          61
         ],
         "xaxis": "x",
         "y": [
          9.91066135021055
         ],
         "yaxis": "y"
        },
        {
         "hovertemplate": "moving_dist=%{y}<br>window_size=%{x}<extra></extra>",
         "legendgroup": "9.906455814209753",
         "line": {
          "color": "#636efa",
          "dash": "solid"
         },
         "marker": {
          "symbol": "square"
         },
         "mode": "lines+markers",
         "name": "9.906455814209753",
         "orientation": "v",
         "showlegend": true,
         "type": "scatter",
         "x": [
          62
         ],
         "xaxis": "x",
         "y": [
          9.906455814209753
         ],
         "yaxis": "y"
        },
        {
         "hovertemplate": "moving_dist=%{y}<br>window_size=%{x}<extra></extra>",
         "legendgroup": "9.901932911311013",
         "line": {
          "color": "#636efa",
          "dash": "solid"
         },
         "marker": {
          "symbol": "x"
         },
         "mode": "lines+markers",
         "name": "9.901932911311013",
         "orientation": "v",
         "showlegend": true,
         "type": "scatter",
         "x": [
          63
         ],
         "xaxis": "x",
         "y": [
          9.901932911311013
         ],
         "yaxis": "y"
        },
        {
         "hovertemplate": "moving_dist=%{y}<br>window_size=%{x}<extra></extra>",
         "legendgroup": "9.897047975934447",
         "line": {
          "color": "#636efa",
          "dash": "solid"
         },
         "marker": {
          "symbol": "cross"
         },
         "mode": "lines+markers",
         "name": "9.897047975934447",
         "orientation": "v",
         "showlegend": true,
         "type": "scatter",
         "x": [
          64
         ],
         "xaxis": "x",
         "y": [
          9.897047975934447
         ],
         "yaxis": "y"
        },
        {
         "hovertemplate": "moving_dist=%{y}<br>window_size=%{x}<extra></extra>",
         "legendgroup": "9.891963608598113",
         "line": {
          "color": "#636efa",
          "dash": "solid"
         },
         "marker": {
          "symbol": "circle"
         },
         "mode": "lines+markers",
         "name": "9.891963608598113",
         "orientation": "v",
         "showlegend": true,
         "type": "scatter",
         "x": [
          65
         ],
         "xaxis": "x",
         "y": [
          9.891963608598113
         ],
         "yaxis": "y"
        },
        {
         "hovertemplate": "moving_dist=%{y}<br>window_size=%{x}<extra></extra>",
         "legendgroup": "9.886800891914149",
         "line": {
          "color": "#636efa",
          "dash": "solid"
         },
         "marker": {
          "symbol": "diamond"
         },
         "mode": "lines+markers",
         "name": "9.886800891914149",
         "orientation": "v",
         "showlegend": true,
         "type": "scatter",
         "x": [
          66
         ],
         "xaxis": "x",
         "y": [
          9.886800891914149
         ],
         "yaxis": "y"
        },
        {
         "hovertemplate": "moving_dist=%{y}<br>window_size=%{x}<extra></extra>",
         "legendgroup": "9.881762801019757",
         "line": {
          "color": "#636efa",
          "dash": "solid"
         },
         "marker": {
          "symbol": "square"
         },
         "mode": "lines+markers",
         "name": "9.881762801019757",
         "orientation": "v",
         "showlegend": true,
         "type": "scatter",
         "x": [
          67
         ],
         "xaxis": "x",
         "y": [
          9.881762801019757
         ],
         "yaxis": "y"
        },
        {
         "hovertemplate": "moving_dist=%{y}<br>window_size=%{x}<extra></extra>",
         "legendgroup": "9.876940163718038",
         "line": {
          "color": "#636efa",
          "dash": "solid"
         },
         "marker": {
          "symbol": "x"
         },
         "mode": "lines+markers",
         "name": "9.876940163718038",
         "orientation": "v",
         "showlegend": true,
         "type": "scatter",
         "x": [
          68
         ],
         "xaxis": "x",
         "y": [
          9.876940163718038
         ],
         "yaxis": "y"
        },
        {
         "hovertemplate": "moving_dist=%{y}<br>window_size=%{x}<extra></extra>",
         "legendgroup": "9.872483081932485",
         "line": {
          "color": "#636efa",
          "dash": "solid"
         },
         "marker": {
          "symbol": "cross"
         },
         "mode": "lines+markers",
         "name": "9.872483081932485",
         "orientation": "v",
         "showlegend": true,
         "type": "scatter",
         "x": [
          69
         ],
         "xaxis": "x",
         "y": [
          9.872483081932485
         ],
         "yaxis": "y"
        },
        {
         "hovertemplate": "moving_dist=%{y}<br>window_size=%{x}<extra></extra>",
         "legendgroup": "9.86825412319576",
         "line": {
          "color": "#636efa",
          "dash": "solid"
         },
         "marker": {
          "symbol": "circle"
         },
         "mode": "lines+markers",
         "name": "9.86825412319576",
         "orientation": "v",
         "showlegend": true,
         "type": "scatter",
         "x": [
          70
         ],
         "xaxis": "x",
         "y": [
          9.86825412319576
         ],
         "yaxis": "y"
        },
        {
         "hovertemplate": "moving_dist=%{y}<br>window_size=%{x}<extra></extra>",
         "legendgroup": "9.864396842049063",
         "line": {
          "color": "#636efa",
          "dash": "solid"
         },
         "marker": {
          "symbol": "diamond"
         },
         "mode": "lines+markers",
         "name": "9.864396842049063",
         "orientation": "v",
         "showlegend": true,
         "type": "scatter",
         "x": [
          71
         ],
         "xaxis": "x",
         "y": [
          9.864396842049063
         ],
         "yaxis": "y"
        },
        {
         "hovertemplate": "moving_dist=%{y}<br>window_size=%{x}<extra></extra>",
         "legendgroup": "9.86098117303341",
         "line": {
          "color": "#636efa",
          "dash": "solid"
         },
         "marker": {
          "symbol": "square"
         },
         "mode": "lines+markers",
         "name": "9.86098117303341",
         "orientation": "v",
         "showlegend": true,
         "type": "scatter",
         "x": [
          72
         ],
         "xaxis": "x",
         "y": [
          9.86098117303341
         ],
         "yaxis": "y"
        },
        {
         "hovertemplate": "moving_dist=%{y}<br>window_size=%{x}<extra></extra>",
         "legendgroup": "9.858025510000564",
         "line": {
          "color": "#636efa",
          "dash": "solid"
         },
         "marker": {
          "symbol": "x"
         },
         "mode": "lines+markers",
         "name": "9.858025510000564",
         "orientation": "v",
         "showlegend": true,
         "type": "scatter",
         "x": [
          73
         ],
         "xaxis": "x",
         "y": [
          9.858025510000564
         ],
         "yaxis": "y"
        },
        {
         "hovertemplate": "moving_dist=%{y}<br>window_size=%{x}<extra></extra>",
         "legendgroup": "9.855479228703288",
         "line": {
          "color": "#636efa",
          "dash": "solid"
         },
         "marker": {
          "symbol": "cross"
         },
         "mode": "lines+markers",
         "name": "9.855479228703288",
         "orientation": "v",
         "showlegend": true,
         "type": "scatter",
         "x": [
          74
         ],
         "xaxis": "x",
         "y": [
          9.855479228703288
         ],
         "yaxis": "y"
        },
        {
         "hovertemplate": "moving_dist=%{y}<br>window_size=%{x}<extra></extra>",
         "legendgroup": "9.853302409657339",
         "line": {
          "color": "#636efa",
          "dash": "solid"
         },
         "marker": {
          "symbol": "circle"
         },
         "mode": "lines+markers",
         "name": "9.853302409657339",
         "orientation": "v",
         "showlegend": true,
         "type": "scatter",
         "x": [
          75
         ],
         "xaxis": "x",
         "y": [
          9.853302409657339
         ],
         "yaxis": "y"
        },
        {
         "hovertemplate": "moving_dist=%{y}<br>window_size=%{x}<extra></extra>",
         "legendgroup": "9.851441254833786",
         "line": {
          "color": "#636efa",
          "dash": "solid"
         },
         "marker": {
          "symbol": "diamond"
         },
         "mode": "lines+markers",
         "name": "9.851441254833786",
         "orientation": "v",
         "showlegend": true,
         "type": "scatter",
         "x": [
          76
         ],
         "xaxis": "x",
         "y": [
          9.851441254833786
         ],
         "yaxis": "y"
        },
        {
         "hovertemplate": "moving_dist=%{y}<br>window_size=%{x}<extra></extra>",
         "legendgroup": "9.849701475989484",
         "line": {
          "color": "#636efa",
          "dash": "solid"
         },
         "marker": {
          "symbol": "square"
         },
         "mode": "lines+markers",
         "name": "9.849701475989484",
         "orientation": "v",
         "showlegend": true,
         "type": "scatter",
         "x": [
          77
         ],
         "xaxis": "x",
         "y": [
          9.849701475989484
         ],
         "yaxis": "y"
        },
        {
         "hovertemplate": "moving_dist=%{y}<br>window_size=%{x}<extra></extra>",
         "legendgroup": "9.84792702114828",
         "line": {
          "color": "#636efa",
          "dash": "solid"
         },
         "marker": {
          "symbol": "x"
         },
         "mode": "lines+markers",
         "name": "9.84792702114828",
         "orientation": "v",
         "showlegend": true,
         "type": "scatter",
         "x": [
          78
         ],
         "xaxis": "x",
         "y": [
          9.84792702114828
         ],
         "yaxis": "y"
        },
        {
         "hovertemplate": "moving_dist=%{y}<br>window_size=%{x}<extra></extra>",
         "legendgroup": "9.846063374079819",
         "line": {
          "color": "#636efa",
          "dash": "solid"
         },
         "marker": {
          "symbol": "cross"
         },
         "mode": "lines+markers",
         "name": "9.846063374079819",
         "orientation": "v",
         "showlegend": true,
         "type": "scatter",
         "x": [
          79
         ],
         "xaxis": "x",
         "y": [
          9.846063374079819
         ],
         "yaxis": "y"
        },
        {
         "hovertemplate": "moving_dist=%{y}<br>window_size=%{x}<extra></extra>",
         "legendgroup": "9.844064660082745",
         "line": {
          "color": "#636efa",
          "dash": "solid"
         },
         "marker": {
          "symbol": "circle"
         },
         "mode": "lines+markers",
         "name": "9.844064660082745",
         "orientation": "v",
         "showlegend": true,
         "type": "scatter",
         "x": [
          80
         ],
         "xaxis": "x",
         "y": [
          9.844064660082745
         ],
         "yaxis": "y"
        },
        {
         "hovertemplate": "moving_dist=%{y}<br>window_size=%{x}<extra></extra>",
         "legendgroup": "9.84192918151958",
         "line": {
          "color": "#636efa",
          "dash": "solid"
         },
         "marker": {
          "symbol": "diamond"
         },
         "mode": "lines+markers",
         "name": "9.84192918151958",
         "orientation": "v",
         "showlegend": true,
         "type": "scatter",
         "x": [
          81
         ],
         "xaxis": "x",
         "y": [
          9.84192918151958
         ],
         "yaxis": "y"
        },
        {
         "hovertemplate": "moving_dist=%{y}<br>window_size=%{x}<extra></extra>",
         "legendgroup": "9.83958572530503",
         "line": {
          "color": "#636efa",
          "dash": "solid"
         },
         "marker": {
          "symbol": "square"
         },
         "mode": "lines+markers",
         "name": "9.83958572530503",
         "orientation": "v",
         "showlegend": true,
         "type": "scatter",
         "x": [
          82
         ],
         "xaxis": "x",
         "y": [
          9.83958572530503
         ],
         "yaxis": "y"
        },
        {
         "hovertemplate": "moving_dist=%{y}<br>window_size=%{x}<extra></extra>",
         "legendgroup": "9.83697749601569",
         "line": {
          "color": "#636efa",
          "dash": "solid"
         },
         "marker": {
          "symbol": "x"
         },
         "mode": "lines+markers",
         "name": "9.83697749601569",
         "orientation": "v",
         "showlegend": true,
         "type": "scatter",
         "x": [
          83
         ],
         "xaxis": "x",
         "y": [
          9.83697749601569
         ],
         "yaxis": "y"
        },
        {
         "hovertemplate": "moving_dist=%{y}<br>window_size=%{x}<extra></extra>",
         "legendgroup": "9.834112437759796",
         "line": {
          "color": "#636efa",
          "dash": "solid"
         },
         "marker": {
          "symbol": "cross"
         },
         "mode": "lines+markers",
         "name": "9.834112437759796",
         "orientation": "v",
         "showlegend": true,
         "type": "scatter",
         "x": [
          84
         ],
         "xaxis": "x",
         "y": [
          9.834112437759796
         ],
         "yaxis": "y"
        },
        {
         "hovertemplate": "moving_dist=%{y}<br>window_size=%{x}<extra></extra>",
         "legendgroup": "9.8309629896789",
         "line": {
          "color": "#636efa",
          "dash": "solid"
         },
         "marker": {
          "symbol": "circle"
         },
         "mode": "lines+markers",
         "name": "9.8309629896789",
         "orientation": "v",
         "showlegend": true,
         "type": "scatter",
         "x": [
          85
         ],
         "xaxis": "x",
         "y": [
          9.8309629896789
         ],
         "yaxis": "y"
        },
        {
         "hovertemplate": "moving_dist=%{y}<br>window_size=%{x}<extra></extra>",
         "legendgroup": "9.827593285747865",
         "line": {
          "color": "#636efa",
          "dash": "solid"
         },
         "marker": {
          "symbol": "diamond"
         },
         "mode": "lines+markers",
         "name": "9.827593285747865",
         "orientation": "v",
         "showlegend": true,
         "type": "scatter",
         "x": [
          86
         ],
         "xaxis": "x",
         "y": [
          9.827593285747865
         ],
         "yaxis": "y"
        },
        {
         "hovertemplate": "moving_dist=%{y}<br>window_size=%{x}<extra></extra>",
         "legendgroup": "9.824000033938463",
         "line": {
          "color": "#636efa",
          "dash": "solid"
         },
         "marker": {
          "symbol": "square"
         },
         "mode": "lines+markers",
         "name": "9.824000033938463",
         "orientation": "v",
         "showlegend": true,
         "type": "scatter",
         "x": [
          87
         ],
         "xaxis": "x",
         "y": [
          9.824000033938463
         ],
         "yaxis": "y"
        },
        {
         "hovertemplate": "moving_dist=%{y}<br>window_size=%{x}<extra></extra>",
         "legendgroup": "9.820335569820207",
         "line": {
          "color": "#636efa",
          "dash": "solid"
         },
         "marker": {
          "symbol": "x"
         },
         "mode": "lines+markers",
         "name": "9.820335569820207",
         "orientation": "v",
         "showlegend": true,
         "type": "scatter",
         "x": [
          88
         ],
         "xaxis": "x",
         "y": [
          9.820335569820207
         ],
         "yaxis": "y"
        },
        {
         "hovertemplate": "moving_dist=%{y}<br>window_size=%{x}<extra></extra>",
         "legendgroup": "9.816587873460533",
         "line": {
          "color": "#636efa",
          "dash": "solid"
         },
         "marker": {
          "symbol": "cross"
         },
         "mode": "lines+markers",
         "name": "9.816587873460533",
         "orientation": "v",
         "showlegend": true,
         "type": "scatter",
         "x": [
          89
         ],
         "xaxis": "x",
         "y": [
          9.816587873460533
         ],
         "yaxis": "y"
        },
        {
         "hovertemplate": "moving_dist=%{y}<br>window_size=%{x}<extra></extra>",
         "legendgroup": "9.812807254351041",
         "line": {
          "color": "#636efa",
          "dash": "solid"
         },
         "marker": {
          "symbol": "circle"
         },
         "mode": "lines+markers",
         "name": "9.812807254351041",
         "orientation": "v",
         "showlegend": true,
         "type": "scatter",
         "x": [
          90
         ],
         "xaxis": "x",
         "y": [
          9.812807254351041
         ],
         "yaxis": "y"
        },
        {
         "hovertemplate": "moving_dist=%{y}<br>window_size=%{x}<extra></extra>",
         "legendgroup": "9.80907925519641",
         "line": {
          "color": "#636efa",
          "dash": "solid"
         },
         "marker": {
          "symbol": "diamond"
         },
         "mode": "lines+markers",
         "name": "9.80907925519641",
         "orientation": "v",
         "showlegend": true,
         "type": "scatter",
         "x": [
          91
         ],
         "xaxis": "x",
         "y": [
          9.80907925519641
         ],
         "yaxis": "y"
        },
        {
         "hovertemplate": "moving_dist=%{y}<br>window_size=%{x}<extra></extra>",
         "legendgroup": "9.805519309043554",
         "line": {
          "color": "#636efa",
          "dash": "solid"
         },
         "marker": {
          "symbol": "square"
         },
         "mode": "lines+markers",
         "name": "9.805519309043554",
         "orientation": "v",
         "showlegend": true,
         "type": "scatter",
         "x": [
          92
         ],
         "xaxis": "x",
         "y": [
          9.805519309043554
         ],
         "yaxis": "y"
        },
        {
         "hovertemplate": "moving_dist=%{y}<br>window_size=%{x}<extra></extra>",
         "legendgroup": "9.802141464160833",
         "line": {
          "color": "#636efa",
          "dash": "solid"
         },
         "marker": {
          "symbol": "x"
         },
         "mode": "lines+markers",
         "name": "9.802141464160833",
         "orientation": "v",
         "showlegend": true,
         "type": "scatter",
         "x": [
          93
         ],
         "xaxis": "x",
         "y": [
          9.802141464160833
         ],
         "yaxis": "y"
        },
        {
         "hovertemplate": "moving_dist=%{y}<br>window_size=%{x}<extra></extra>",
         "legendgroup": "9.798941245998975",
         "line": {
          "color": "#636efa",
          "dash": "solid"
         },
         "marker": {
          "symbol": "cross"
         },
         "mode": "lines+markers",
         "name": "9.798941245998975",
         "orientation": "v",
         "showlegend": true,
         "type": "scatter",
         "x": [
          94
         ],
         "xaxis": "x",
         "y": [
          9.798941245998975
         ],
         "yaxis": "y"
        },
        {
         "hovertemplate": "moving_dist=%{y}<br>window_size=%{x}<extra></extra>",
         "legendgroup": "9.795963723606233",
         "line": {
          "color": "#636efa",
          "dash": "solid"
         },
         "marker": {
          "symbol": "circle"
         },
         "mode": "lines+markers",
         "name": "9.795963723606233",
         "orientation": "v",
         "showlegend": true,
         "type": "scatter",
         "x": [
          95
         ],
         "xaxis": "x",
         "y": [
          9.795963723606233
         ],
         "yaxis": "y"
        },
        {
         "hovertemplate": "moving_dist=%{y}<br>window_size=%{x}<extra></extra>",
         "legendgroup": "9.793184063106619",
         "line": {
          "color": "#636efa",
          "dash": "solid"
         },
         "marker": {
          "symbol": "diamond"
         },
         "mode": "lines+markers",
         "name": "9.793184063106619",
         "orientation": "v",
         "showlegend": true,
         "type": "scatter",
         "x": [
          96
         ],
         "xaxis": "x",
         "y": [
          9.793184063106619
         ],
         "yaxis": "y"
        },
        {
         "hovertemplate": "moving_dist=%{y}<br>window_size=%{x}<extra></extra>",
         "legendgroup": "9.790595028696297",
         "line": {
          "color": "#636efa",
          "dash": "solid"
         },
         "marker": {
          "symbol": "square"
         },
         "mode": "lines+markers",
         "name": "9.790595028696297",
         "orientation": "v",
         "showlegend": true,
         "type": "scatter",
         "x": [
          97
         ],
         "xaxis": "x",
         "y": [
          9.790595028696297
         ],
         "yaxis": "y"
        },
        {
         "hovertemplate": "moving_dist=%{y}<br>window_size=%{x}<extra></extra>",
         "legendgroup": "9.788207422910093",
         "line": {
          "color": "#636efa",
          "dash": "solid"
         },
         "marker": {
          "symbol": "x"
         },
         "mode": "lines+markers",
         "name": "9.788207422910093",
         "orientation": "v",
         "showlegend": true,
         "type": "scatter",
         "x": [
          98
         ],
         "xaxis": "x",
         "y": [
          9.788207422910093
         ],
         "yaxis": "y"
        },
        {
         "hovertemplate": "moving_dist=%{y}<br>window_size=%{x}<extra></extra>",
         "legendgroup": "9.78602775078143",
         "line": {
          "color": "#636efa",
          "dash": "solid"
         },
         "marker": {
          "symbol": "cross"
         },
         "mode": "lines+markers",
         "name": "9.78602775078143",
         "orientation": "v",
         "showlegend": true,
         "type": "scatter",
         "x": [
          99
         ],
         "xaxis": "x",
         "y": [
          9.78602775078143
         ],
         "yaxis": "y"
        }
       ],
       "layout": {
        "legend": {
         "title": {
          "text": "moving_dist"
         },
         "tracegroupgap": 0
        },
        "template": {
         "data": {
          "bar": [
           {
            "error_x": {
             "color": "#2a3f5f"
            },
            "error_y": {
             "color": "#2a3f5f"
            },
            "marker": {
             "line": {
              "color": "#E5ECF6",
              "width": 0.5
             },
             "pattern": {
              "fillmode": "overlay",
              "size": 10,
              "solidity": 0.2
             }
            },
            "type": "bar"
           }
          ],
          "barpolar": [
           {
            "marker": {
             "line": {
              "color": "#E5ECF6",
              "width": 0.5
             },
             "pattern": {
              "fillmode": "overlay",
              "size": 10,
              "solidity": 0.2
             }
            },
            "type": "barpolar"
           }
          ],
          "carpet": [
           {
            "aaxis": {
             "endlinecolor": "#2a3f5f",
             "gridcolor": "white",
             "linecolor": "white",
             "minorgridcolor": "white",
             "startlinecolor": "#2a3f5f"
            },
            "baxis": {
             "endlinecolor": "#2a3f5f",
             "gridcolor": "white",
             "linecolor": "white",
             "minorgridcolor": "white",
             "startlinecolor": "#2a3f5f"
            },
            "type": "carpet"
           }
          ],
          "choropleth": [
           {
            "colorbar": {
             "outlinewidth": 0,
             "ticks": ""
            },
            "type": "choropleth"
           }
          ],
          "contour": [
           {
            "colorbar": {
             "outlinewidth": 0,
             "ticks": ""
            },
            "colorscale": [
             [
              0,
              "#0d0887"
             ],
             [
              0.1111111111111111,
              "#46039f"
             ],
             [
              0.2222222222222222,
              "#7201a8"
             ],
             [
              0.3333333333333333,
              "#9c179e"
             ],
             [
              0.4444444444444444,
              "#bd3786"
             ],
             [
              0.5555555555555556,
              "#d8576b"
             ],
             [
              0.6666666666666666,
              "#ed7953"
             ],
             [
              0.7777777777777778,
              "#fb9f3a"
             ],
             [
              0.8888888888888888,
              "#fdca26"
             ],
             [
              1,
              "#f0f921"
             ]
            ],
            "type": "contour"
           }
          ],
          "contourcarpet": [
           {
            "colorbar": {
             "outlinewidth": 0,
             "ticks": ""
            },
            "type": "contourcarpet"
           }
          ],
          "heatmap": [
           {
            "colorbar": {
             "outlinewidth": 0,
             "ticks": ""
            },
            "colorscale": [
             [
              0,
              "#0d0887"
             ],
             [
              0.1111111111111111,
              "#46039f"
             ],
             [
              0.2222222222222222,
              "#7201a8"
             ],
             [
              0.3333333333333333,
              "#9c179e"
             ],
             [
              0.4444444444444444,
              "#bd3786"
             ],
             [
              0.5555555555555556,
              "#d8576b"
             ],
             [
              0.6666666666666666,
              "#ed7953"
             ],
             [
              0.7777777777777778,
              "#fb9f3a"
             ],
             [
              0.8888888888888888,
              "#fdca26"
             ],
             [
              1,
              "#f0f921"
             ]
            ],
            "type": "heatmap"
           }
          ],
          "heatmapgl": [
           {
            "colorbar": {
             "outlinewidth": 0,
             "ticks": ""
            },
            "colorscale": [
             [
              0,
              "#0d0887"
             ],
             [
              0.1111111111111111,
              "#46039f"
             ],
             [
              0.2222222222222222,
              "#7201a8"
             ],
             [
              0.3333333333333333,
              "#9c179e"
             ],
             [
              0.4444444444444444,
              "#bd3786"
             ],
             [
              0.5555555555555556,
              "#d8576b"
             ],
             [
              0.6666666666666666,
              "#ed7953"
             ],
             [
              0.7777777777777778,
              "#fb9f3a"
             ],
             [
              0.8888888888888888,
              "#fdca26"
             ],
             [
              1,
              "#f0f921"
             ]
            ],
            "type": "heatmapgl"
           }
          ],
          "histogram": [
           {
            "marker": {
             "pattern": {
              "fillmode": "overlay",
              "size": 10,
              "solidity": 0.2
             }
            },
            "type": "histogram"
           }
          ],
          "histogram2d": [
           {
            "colorbar": {
             "outlinewidth": 0,
             "ticks": ""
            },
            "colorscale": [
             [
              0,
              "#0d0887"
             ],
             [
              0.1111111111111111,
              "#46039f"
             ],
             [
              0.2222222222222222,
              "#7201a8"
             ],
             [
              0.3333333333333333,
              "#9c179e"
             ],
             [
              0.4444444444444444,
              "#bd3786"
             ],
             [
              0.5555555555555556,
              "#d8576b"
             ],
             [
              0.6666666666666666,
              "#ed7953"
             ],
             [
              0.7777777777777778,
              "#fb9f3a"
             ],
             [
              0.8888888888888888,
              "#fdca26"
             ],
             [
              1,
              "#f0f921"
             ]
            ],
            "type": "histogram2d"
           }
          ],
          "histogram2dcontour": [
           {
            "colorbar": {
             "outlinewidth": 0,
             "ticks": ""
            },
            "colorscale": [
             [
              0,
              "#0d0887"
             ],
             [
              0.1111111111111111,
              "#46039f"
             ],
             [
              0.2222222222222222,
              "#7201a8"
             ],
             [
              0.3333333333333333,
              "#9c179e"
             ],
             [
              0.4444444444444444,
              "#bd3786"
             ],
             [
              0.5555555555555556,
              "#d8576b"
             ],
             [
              0.6666666666666666,
              "#ed7953"
             ],
             [
              0.7777777777777778,
              "#fb9f3a"
             ],
             [
              0.8888888888888888,
              "#fdca26"
             ],
             [
              1,
              "#f0f921"
             ]
            ],
            "type": "histogram2dcontour"
           }
          ],
          "mesh3d": [
           {
            "colorbar": {
             "outlinewidth": 0,
             "ticks": ""
            },
            "type": "mesh3d"
           }
          ],
          "parcoords": [
           {
            "line": {
             "colorbar": {
              "outlinewidth": 0,
              "ticks": ""
             }
            },
            "type": "parcoords"
           }
          ],
          "pie": [
           {
            "automargin": true,
            "type": "pie"
           }
          ],
          "scatter": [
           {
            "fillpattern": {
             "fillmode": "overlay",
             "size": 10,
             "solidity": 0.2
            },
            "type": "scatter"
           }
          ],
          "scatter3d": [
           {
            "line": {
             "colorbar": {
              "outlinewidth": 0,
              "ticks": ""
             }
            },
            "marker": {
             "colorbar": {
              "outlinewidth": 0,
              "ticks": ""
             }
            },
            "type": "scatter3d"
           }
          ],
          "scattercarpet": [
           {
            "marker": {
             "colorbar": {
              "outlinewidth": 0,
              "ticks": ""
             }
            },
            "type": "scattercarpet"
           }
          ],
          "scattergeo": [
           {
            "marker": {
             "colorbar": {
              "outlinewidth": 0,
              "ticks": ""
             }
            },
            "type": "scattergeo"
           }
          ],
          "scattergl": [
           {
            "marker": {
             "colorbar": {
              "outlinewidth": 0,
              "ticks": ""
             }
            },
            "type": "scattergl"
           }
          ],
          "scattermapbox": [
           {
            "marker": {
             "colorbar": {
              "outlinewidth": 0,
              "ticks": ""
             }
            },
            "type": "scattermapbox"
           }
          ],
          "scatterpolar": [
           {
            "marker": {
             "colorbar": {
              "outlinewidth": 0,
              "ticks": ""
             }
            },
            "type": "scatterpolar"
           }
          ],
          "scatterpolargl": [
           {
            "marker": {
             "colorbar": {
              "outlinewidth": 0,
              "ticks": ""
             }
            },
            "type": "scatterpolargl"
           }
          ],
          "scatterternary": [
           {
            "marker": {
             "colorbar": {
              "outlinewidth": 0,
              "ticks": ""
             }
            },
            "type": "scatterternary"
           }
          ],
          "surface": [
           {
            "colorbar": {
             "outlinewidth": 0,
             "ticks": ""
            },
            "colorscale": [
             [
              0,
              "#0d0887"
             ],
             [
              0.1111111111111111,
              "#46039f"
             ],
             [
              0.2222222222222222,
              "#7201a8"
             ],
             [
              0.3333333333333333,
              "#9c179e"
             ],
             [
              0.4444444444444444,
              "#bd3786"
             ],
             [
              0.5555555555555556,
              "#d8576b"
             ],
             [
              0.6666666666666666,
              "#ed7953"
             ],
             [
              0.7777777777777778,
              "#fb9f3a"
             ],
             [
              0.8888888888888888,
              "#fdca26"
             ],
             [
              1,
              "#f0f921"
             ]
            ],
            "type": "surface"
           }
          ],
          "table": [
           {
            "cells": {
             "fill": {
              "color": "#EBF0F8"
             },
             "line": {
              "color": "white"
             }
            },
            "header": {
             "fill": {
              "color": "#C8D4E3"
             },
             "line": {
              "color": "white"
             }
            },
            "type": "table"
           }
          ]
         },
         "layout": {
          "annotationdefaults": {
           "arrowcolor": "#2a3f5f",
           "arrowhead": 0,
           "arrowwidth": 1
          },
          "autotypenumbers": "strict",
          "coloraxis": {
           "colorbar": {
            "outlinewidth": 0,
            "ticks": ""
           }
          },
          "colorscale": {
           "diverging": [
            [
             0,
             "#8e0152"
            ],
            [
             0.1,
             "#c51b7d"
            ],
            [
             0.2,
             "#de77ae"
            ],
            [
             0.3,
             "#f1b6da"
            ],
            [
             0.4,
             "#fde0ef"
            ],
            [
             0.5,
             "#f7f7f7"
            ],
            [
             0.6,
             "#e6f5d0"
            ],
            [
             0.7,
             "#b8e186"
            ],
            [
             0.8,
             "#7fbc41"
            ],
            [
             0.9,
             "#4d9221"
            ],
            [
             1,
             "#276419"
            ]
           ],
           "sequential": [
            [
             0,
             "#0d0887"
            ],
            [
             0.1111111111111111,
             "#46039f"
            ],
            [
             0.2222222222222222,
             "#7201a8"
            ],
            [
             0.3333333333333333,
             "#9c179e"
            ],
            [
             0.4444444444444444,
             "#bd3786"
            ],
            [
             0.5555555555555556,
             "#d8576b"
            ],
            [
             0.6666666666666666,
             "#ed7953"
            ],
            [
             0.7777777777777778,
             "#fb9f3a"
            ],
            [
             0.8888888888888888,
             "#fdca26"
            ],
            [
             1,
             "#f0f921"
            ]
           ],
           "sequentialminus": [
            [
             0,
             "#0d0887"
            ],
            [
             0.1111111111111111,
             "#46039f"
            ],
            [
             0.2222222222222222,
             "#7201a8"
            ],
            [
             0.3333333333333333,
             "#9c179e"
            ],
            [
             0.4444444444444444,
             "#bd3786"
            ],
            [
             0.5555555555555556,
             "#d8576b"
            ],
            [
             0.6666666666666666,
             "#ed7953"
            ],
            [
             0.7777777777777778,
             "#fb9f3a"
            ],
            [
             0.8888888888888888,
             "#fdca26"
            ],
            [
             1,
             "#f0f921"
            ]
           ]
          },
          "colorway": [
           "#636efa",
           "#EF553B",
           "#00cc96",
           "#ab63fa",
           "#FFA15A",
           "#19d3f3",
           "#FF6692",
           "#B6E880",
           "#FF97FF",
           "#FECB52"
          ],
          "font": {
           "color": "#2a3f5f"
          },
          "geo": {
           "bgcolor": "white",
           "lakecolor": "white",
           "landcolor": "#E5ECF6",
           "showlakes": true,
           "showland": true,
           "subunitcolor": "white"
          },
          "hoverlabel": {
           "align": "left"
          },
          "hovermode": "closest",
          "mapbox": {
           "style": "light"
          },
          "paper_bgcolor": "white",
          "plot_bgcolor": "#E5ECF6",
          "polar": {
           "angularaxis": {
            "gridcolor": "white",
            "linecolor": "white",
            "ticks": ""
           },
           "bgcolor": "#E5ECF6",
           "radialaxis": {
            "gridcolor": "white",
            "linecolor": "white",
            "ticks": ""
           }
          },
          "scene": {
           "xaxis": {
            "backgroundcolor": "#E5ECF6",
            "gridcolor": "white",
            "gridwidth": 2,
            "linecolor": "white",
            "showbackground": true,
            "ticks": "",
            "zerolinecolor": "white"
           },
           "yaxis": {
            "backgroundcolor": "#E5ECF6",
            "gridcolor": "white",
            "gridwidth": 2,
            "linecolor": "white",
            "showbackground": true,
            "ticks": "",
            "zerolinecolor": "white"
           },
           "zaxis": {
            "backgroundcolor": "#E5ECF6",
            "gridcolor": "white",
            "gridwidth": 2,
            "linecolor": "white",
            "showbackground": true,
            "ticks": "",
            "zerolinecolor": "white"
           }
          },
          "shapedefaults": {
           "line": {
            "color": "#2a3f5f"
           }
          },
          "ternary": {
           "aaxis": {
            "gridcolor": "white",
            "linecolor": "white",
            "ticks": ""
           },
           "baxis": {
            "gridcolor": "white",
            "linecolor": "white",
            "ticks": ""
           },
           "bgcolor": "#E5ECF6",
           "caxis": {
            "gridcolor": "white",
            "linecolor": "white",
            "ticks": ""
           }
          },
          "title": {
           "x": 0.05
          },
          "xaxis": {
           "automargin": true,
           "gridcolor": "white",
           "linecolor": "white",
           "ticks": "",
           "title": {
            "standoff": 15
           },
           "zerolinecolor": "white",
           "zerolinewidth": 2
          },
          "yaxis": {
           "automargin": true,
           "gridcolor": "white",
           "linecolor": "white",
           "ticks": "",
           "title": {
            "standoff": 15
           },
           "zerolinecolor": "white",
           "zerolinewidth": 2
          }
         }
        },
        "title": {
         "text": "Moving Dist vs Window Size"
        },
        "xaxis": {
         "anchor": "y",
         "domain": [
          0,
          1
         ],
         "title": {
          "text": "window_size"
         }
        },
        "yaxis": {
         "anchor": "x",
         "categoryarray": [
          9.78602775078143,
          9.788207422910093,
          9.790595028696297,
          9.793184063106619,
          9.795963723606233,
          9.798941245998975,
          9.802141464160833,
          9.805519309043554,
          9.80907925519641,
          9.812807254351041,
          9.816587873460533,
          9.820335569820207,
          9.824000033938463,
          9.827593285747865,
          9.8309629896789,
          9.834112437759796,
          9.83697749601569,
          9.83958572530503,
          9.84192918151958,
          9.844064660082745,
          9.846063374079819,
          9.84792702114828,
          9.849701475989484,
          9.851441254833786,
          9.853302409657339,
          9.855479228703288,
          9.858025510000564,
          9.86098117303341,
          9.864396842049063,
          9.86825412319576,
          9.872483081932485,
          9.876940163718038,
          9.881762801019757,
          9.886800891914149,
          9.891963608598113,
          9.897047975934447,
          9.901932911311013,
          9.906455814209753,
          9.91066135021055,
          9.914383665827005,
          9.917667987274529,
          9.920461768315038,
          9.922819651787076,
          9.924756454643246,
          9.926310669517957,
          9.927510400667474,
          9.92850117786854,
          9.929536096958744,
          9.930782841921184,
          9.932399716354608,
          9.934577971157344,
          9.937438557413987,
          9.940984780312625,
          9.94517513986046,
          9.95017984828172,
          9.955923355973754,
          9.96221582974269,
          9.968843786678995,
          9.975604254914076,
          9.98227514121849,
          9.98876209215274,
          9.994868942359394,
          10.000314013304127,
          10.00497438989464,
          10.008681375615497,
          10.011522154721101,
          10.013334314521183,
          10.01420150904569,
          10.014155170460942,
          10.013383177227713,
          10.012031080505595,
          10.010415410416492,
          10.008884435484003,
          10.007871529413983,
          10.007635366348818,
          10.008710204804965,
          10.012058251671826,
          10.017869034722299,
          10.02689606796733,
          10.039117374748223,
          10.055140654917759,
          10.075984668049806,
          10.100817483058535,
          10.128820550113922,
          10.159441503849202,
          10.191434035441306,
          10.224419312639172,
          10.25765857312714,
          10.290838202858401,
          10.322900632728517
         ],
         "categoryorder": "array",
         "domain": [
          0,
          1
         ],
         "title": {
          "text": "moving_dist"
         }
        }
       }
      },
      "image/png": "[encoded data removed]",
      "text/html": [
       "<div>                            <div id=\"205c7527-4e33-4ec1-a054-95eb8ce0542d\" class=\"plotly-graph-div\" style=\"height:525px; width:100%;\"></div>            <script type=\"text/javascript\">                require([\"plotly\"], function(Plotly) {                    window.PLOTLYENV=window.PLOTLYENV || {};                                    if (document.getElementById(\"205c7527-4e33-4ec1-a054-95eb8ce0542d\")) {                    Plotly.newPlot(                        \"205c7527-4e33-4ec1-a054-95eb8ce0542d\",                        [{\"hovertemplate\":\"moving_dist=%{y}\\u003cbr\\u003ewindow_size=%{x}\\u003cextra\\u003e\\u003c\\u002fextra\\u003e\",\"legendgroup\":\"10.322900632728517\",\"line\":{\"color\":\"#636efa\",\"dash\":\"solid\"},\"marker\":{\"symbol\":\"circle\"},\"mode\":\"lines+markers\",\"name\":\"10.322900632728517\",\"orientation\":\"v\",\"showlegend\":true,\"x\":[10],\"xaxis\":\"x\",\"y\":[10.322900632728517],\"yaxis\":\"y\",\"type\":\"scatter\"},{\"hovertemplate\":\"moving_dist=%{y}\\u003cbr\\u003ewindow_size=%{x}\\u003cextra\\u003e\\u003c\\u002fextra\\u003e\",\"legendgroup\":\"10.290838202858401\",\"line\":{\"color\":\"#636efa\",\"dash\":\"solid\"},\"marker\":{\"symbol\":\"diamond\"},\"mode\":\"lines+markers\",\"name\":\"10.290838202858401\",\"orientation\":\"v\",\"showlegend\":true,\"x\":[11],\"xaxis\":\"x\",\"y\":[10.290838202858401],\"yaxis\":\"y\",\"type\":\"scatter\"},{\"hovertemplate\":\"moving_dist=%{y}\\u003cbr\\u003ewindow_size=%{x}\\u003cextra\\u003e\\u003c\\u002fextra\\u003e\",\"legendgroup\":\"10.25765857312714\",\"line\":{\"color\":\"#636efa\",\"dash\":\"solid\"},\"marker\":{\"symbol\":\"square\"},\"mode\":\"lines+markers\",\"name\":\"10.25765857312714\",\"orientation\":\"v\",\"showlegend\":true,\"x\":[12],\"xaxis\":\"x\",\"y\":[10.25765857312714],\"yaxis\":\"y\",\"type\":\"scatter\"},{\"hovertemplate\":\"moving_dist=%{y}\\u003cbr\\u003ewindow_size=%{x}\\u003cextra\\u003e\\u003c\\u002fextra\\u003e\",\"legendgroup\":\"10.224419312639172\",\"line\":{\"color\":\"#636efa\",\"dash\":\"solid\"},\"marker\":{\"symbol\":\"x\"},\"mode\":\"lines+markers\",\"name\":\"10.224419312639172\",\"orientation\":\"v\",\"showlegend\":true,\"x\":[13],\"xaxis\":\"x\",\"y\":[10.224419312639172],\"yaxis\":\"y\",\"type\":\"scatter\"},{\"hovertemplate\":\"moving_dist=%{y}\\u003cbr\\u003ewindow_size=%{x}\\u003cextra\\u003e\\u003c\\u002fextra\\u003e\",\"legendgroup\":\"10.191434035441306\",\"line\":{\"color\":\"#636efa\",\"dash\":\"solid\"},\"marker\":{\"symbol\":\"cross\"},\"mode\":\"lines+markers\",\"name\":\"10.191434035441306\",\"orientation\":\"v\",\"showlegend\":true,\"x\":[14],\"xaxis\":\"x\",\"y\":[10.191434035441306],\"yaxis\":\"y\",\"type\":\"scatter\"},{\"hovertemplate\":\"moving_dist=%{y}\\u003cbr\\u003ewindow_size=%{x}\\u003cextra\\u003e\\u003c\\u002fextra\\u003e\",\"legendgroup\":\"10.159441503849202\",\"line\":{\"color\":\"#636efa\",\"dash\":\"solid\"},\"marker\":{\"symbol\":\"circle\"},\"mode\":\"lines+markers\",\"name\":\"10.159441503849202\",\"orientation\":\"v\",\"showlegend\":true,\"x\":[15],\"xaxis\":\"x\",\"y\":[10.159441503849202],\"yaxis\":\"y\",\"type\":\"scatter\"},{\"hovertemplate\":\"moving_dist=%{y}\\u003cbr\\u003ewindow_size=%{x}\\u003cextra\\u003e\\u003c\\u002fextra\\u003e\",\"legendgroup\":\"10.128820550113922\",\"line\":{\"color\":\"#636efa\",\"dash\":\"solid\"},\"marker\":{\"symbol\":\"diamond\"},\"mode\":\"lines+markers\",\"name\":\"10.128820550113922\",\"orientation\":\"v\",\"showlegend\":true,\"x\":[16],\"xaxis\":\"x\",\"y\":[10.128820550113922],\"yaxis\":\"y\",\"type\":\"scatter\"},{\"hovertemplate\":\"moving_dist=%{y}\\u003cbr\\u003ewindow_size=%{x}\\u003cextra\\u003e\\u003c\\u002fextra\\u003e\",\"legendgroup\":\"10.100817483058535\",\"line\":{\"color\":\"#636efa\",\"dash\":\"solid\"},\"marker\":{\"symbol\":\"square\"},\"mode\":\"lines+markers\",\"name\":\"10.100817483058535\",\"orientation\":\"v\",\"showlegend\":true,\"x\":[17],\"xaxis\":\"x\",\"y\":[10.100817483058535],\"yaxis\":\"y\",\"type\":\"scatter\"},{\"hovertemplate\":\"moving_dist=%{y}\\u003cbr\\u003ewindow_size=%{x}\\u003cextra\\u003e\\u003c\\u002fextra\\u003e\",\"legendgroup\":\"10.075984668049806\",\"line\":{\"color\":\"#636efa\",\"dash\":\"solid\"},\"marker\":{\"symbol\":\"x\"},\"mode\":\"lines+markers\",\"name\":\"10.075984668049806\",\"orientation\":\"v\",\"showlegend\":true,\"x\":[18],\"xaxis\":\"x\",\"y\":[10.075984668049806],\"yaxis\":\"y\",\"type\":\"scatter\"},{\"hovertemplate\":\"moving_dist=%{y}\\u003cbr\\u003ewindow_size=%{x}\\u003cextra\\u003e\\u003c\\u002fextra\\u003e\",\"legendgroup\":\"10.055140654917759\",\"line\":{\"color\":\"#636efa\",\"dash\":\"solid\"},\"marker\":{\"symbol\":\"cross\"},\"mode\":\"lines+markers\",\"name\":\"10.055140654917759\",\"orientation\":\"v\",\"showlegend\":true,\"x\":[19],\"xaxis\":\"x\",\"y\":[10.055140654917759],\"yaxis\":\"y\",\"type\":\"scatter\"},{\"hovertemplate\":\"moving_dist=%{y}\\u003cbr\\u003ewindow_size=%{x}\\u003cextra\\u003e\\u003c\\u002fextra\\u003e\",\"legendgroup\":\"10.039117374748223\",\"line\":{\"color\":\"#636efa\",\"dash\":\"solid\"},\"marker\":{\"symbol\":\"circle\"},\"mode\":\"lines+markers\",\"name\":\"10.039117374748223\",\"orientation\":\"v\",\"showlegend\":true,\"x\":[20],\"xaxis\":\"x\",\"y\":[10.039117374748223],\"yaxis\":\"y\",\"type\":\"scatter\"},{\"hovertemplate\":\"moving_dist=%{y}\\u003cbr\\u003ewindow_size=%{x}\\u003cextra\\u003e\\u003c\\u002fextra\\u003e\",\"legendgroup\":\"10.02689606796733\",\"line\":{\"color\":\"#636efa\",\"dash\":\"solid\"},\"marker\":{\"symbol\":\"diamond\"},\"mode\":\"lines+markers\",\"name\":\"10.02689606796733\",\"orientation\":\"v\",\"showlegend\":true,\"x\":[21],\"xaxis\":\"x\",\"y\":[10.02689606796733],\"yaxis\":\"y\",\"type\":\"scatter\"},{\"hovertemplate\":\"moving_dist=%{y}\\u003cbr\\u003ewindow_size=%{x}\\u003cextra\\u003e\\u003c\\u002fextra\\u003e\",\"legendgroup\":\"10.017869034722299\",\"line\":{\"color\":\"#636efa\",\"dash\":\"solid\"},\"marker\":{\"symbol\":\"square\"},\"mode\":\"lines+markers\",\"name\":\"10.017869034722299\",\"orientation\":\"v\",\"showlegend\":true,\"x\":[22],\"xaxis\":\"x\",\"y\":[10.017869034722299],\"yaxis\":\"y\",\"type\":\"scatter\"},{\"hovertemplate\":\"moving_dist=%{y}\\u003cbr\\u003ewindow_size=%{x}\\u003cextra\\u003e\\u003c\\u002fextra\\u003e\",\"legendgroup\":\"10.012058251671826\",\"line\":{\"color\":\"#636efa\",\"dash\":\"solid\"},\"marker\":{\"symbol\":\"x\"},\"mode\":\"lines+markers\",\"name\":\"10.012058251671826\",\"orientation\":\"v\",\"showlegend\":true,\"x\":[23],\"xaxis\":\"x\",\"y\":[10.012058251671826],\"yaxis\":\"y\",\"type\":\"scatter\"},{\"hovertemplate\":\"moving_dist=%{y}\\u003cbr\\u003ewindow_size=%{x}\\u003cextra\\u003e\\u003c\\u002fextra\\u003e\",\"legendgroup\":\"10.008710204804965\",\"line\":{\"color\":\"#636efa\",\"dash\":\"solid\"},\"marker\":{\"symbol\":\"cross\"},\"mode\":\"lines+markers\",\"name\":\"10.008710204804965\",\"orientation\":\"v\",\"showlegend\":true,\"x\":[24],\"xaxis\":\"x\",\"y\":[10.008710204804965],\"yaxis\":\"y\",\"type\":\"scatter\"},{\"hovertemplate\":\"moving_dist=%{y}\\u003cbr\\u003ewindow_size=%{x}\\u003cextra\\u003e\\u003c\\u002fextra\\u003e\",\"legendgroup\":\"10.007635366348818\",\"line\":{\"color\":\"#636efa\",\"dash\":\"solid\"},\"marker\":{\"symbol\":\"circle\"},\"mode\":\"lines+markers\",\"name\":\"10.007635366348818\",\"orientation\":\"v\",\"showlegend\":true,\"x\":[25],\"xaxis\":\"x\",\"y\":[10.007635366348818],\"yaxis\":\"y\",\"type\":\"scatter\"},{\"hovertemplate\":\"moving_dist=%{y}\\u003cbr\\u003ewindow_size=%{x}\\u003cextra\\u003e\\u003c\\u002fextra\\u003e\",\"legendgroup\":\"10.007871529413983\",\"line\":{\"color\":\"#636efa\",\"dash\":\"solid\"},\"marker\":{\"symbol\":\"diamond\"},\"mode\":\"lines+markers\",\"name\":\"10.007871529413983\",\"orientation\":\"v\",\"showlegend\":true,\"x\":[26],\"xaxis\":\"x\",\"y\":[10.007871529413983],\"yaxis\":\"y\",\"type\":\"scatter\"},{\"hovertemplate\":\"moving_dist=%{y}\\u003cbr\\u003ewindow_size=%{x}\\u003cextra\\u003e\\u003c\\u002fextra\\u003e\",\"legendgroup\":\"10.008884435484003\",\"line\":{\"color\":\"#636efa\",\"dash\":\"solid\"},\"marker\":{\"symbol\":\"square\"},\"mode\":\"lines+markers\",\"name\":\"10.008884435484003\",\"orientation\":\"v\",\"showlegend\":true,\"x\":[27],\"xaxis\":\"x\",\"y\":[10.008884435484003],\"yaxis\":\"y\",\"type\":\"scatter\"},{\"hovertemplate\":\"moving_dist=%{y}\\u003cbr\\u003ewindow_size=%{x}\\u003cextra\\u003e\\u003c\\u002fextra\\u003e\",\"legendgroup\":\"10.010415410416492\",\"line\":{\"color\":\"#636efa\",\"dash\":\"solid\"},\"marker\":{\"symbol\":\"x\"},\"mode\":\"lines+markers\",\"name\":\"10.010415410416492\",\"orientation\":\"v\",\"showlegend\":true,\"x\":[28],\"xaxis\":\"x\",\"y\":[10.010415410416492],\"yaxis\":\"y\",\"type\":\"scatter\"},{\"hovertemplate\":\"moving_dist=%{y}\\u003cbr\\u003ewindow_size=%{x}\\u003cextra\\u003e\\u003c\\u002fextra\\u003e\",\"legendgroup\":\"10.012031080505595\",\"line\":{\"color\":\"#636efa\",\"dash\":\"solid\"},\"marker\":{\"symbol\":\"cross\"},\"mode\":\"lines+markers\",\"name\":\"10.012031080505595\",\"orientation\":\"v\",\"showlegend\":true,\"x\":[29],\"xaxis\":\"x\",\"y\":[10.012031080505595],\"yaxis\":\"y\",\"type\":\"scatter\"},{\"hovertemplate\":\"moving_dist=%{y}\\u003cbr\\u003ewindow_size=%{x}\\u003cextra\\u003e\\u003c\\u002fextra\\u003e\",\"legendgroup\":\"10.013383177227713\",\"line\":{\"color\":\"#636efa\",\"dash\":\"solid\"},\"marker\":{\"symbol\":\"circle\"},\"mode\":\"lines+markers\",\"name\":\"10.013383177227713\",\"orientation\":\"v\",\"showlegend\":true,\"x\":[30],\"xaxis\":\"x\",\"y\":[10.013383177227713],\"yaxis\":\"y\",\"type\":\"scatter\"},{\"hovertemplate\":\"moving_dist=%{y}\\u003cbr\\u003ewindow_size=%{x}\\u003cextra\\u003e\\u003c\\u002fextra\\u003e\",\"legendgroup\":\"10.014155170460942\",\"line\":{\"color\":\"#636efa\",\"dash\":\"solid\"},\"marker\":{\"symbol\":\"diamond\"},\"mode\":\"lines+markers\",\"name\":\"10.014155170460942\",\"orientation\":\"v\",\"showlegend\":true,\"x\":[31],\"xaxis\":\"x\",\"y\":[10.014155170460942],\"yaxis\":\"y\",\"type\":\"scatter\"},{\"hovertemplate\":\"moving_dist=%{y}\\u003cbr\\u003ewindow_size=%{x}\\u003cextra\\u003e\\u003c\\u002fextra\\u003e\",\"legendgroup\":\"10.01420150904569\",\"line\":{\"color\":\"#636efa\",\"dash\":\"solid\"},\"marker\":{\"symbol\":\"square\"},\"mode\":\"lines+markers\",\"name\":\"10.01420150904569\",\"orientation\":\"v\",\"showlegend\":true,\"x\":[32],\"xaxis\":\"x\",\"y\":[10.01420150904569],\"yaxis\":\"y\",\"type\":\"scatter\"},{\"hovertemplate\":\"moving_dist=%{y}\\u003cbr\\u003ewindow_size=%{x}\\u003cextra\\u003e\\u003c\\u002fextra\\u003e\",\"legendgroup\":\"10.013334314521183\",\"line\":{\"color\":\"#636efa\",\"dash\":\"solid\"},\"marker\":{\"symbol\":\"x\"},\"mode\":\"lines+markers\",\"name\":\"10.013334314521183\",\"orientation\":\"v\",\"showlegend\":true,\"x\":[33],\"xaxis\":\"x\",\"y\":[10.013334314521183],\"yaxis\":\"y\",\"type\":\"scatter\"},{\"hovertemplate\":\"moving_dist=%{y}\\u003cbr\\u003ewindow_size=%{x}\\u003cextra\\u003e\\u003c\\u002fextra\\u003e\",\"legendgroup\":\"10.011522154721101\",\"line\":{\"color\":\"#636efa\",\"dash\":\"solid\"},\"marker\":{\"symbol\":\"cross\"},\"mode\":\"lines+markers\",\"name\":\"10.011522154721101\",\"orientation\":\"v\",\"showlegend\":true,\"x\":[34],\"xaxis\":\"x\",\"y\":[10.011522154721101],\"yaxis\":\"y\",\"type\":\"scatter\"},{\"hovertemplate\":\"moving_dist=%{y}\\u003cbr\\u003ewindow_size=%{x}\\u003cextra\\u003e\\u003c\\u002fextra\\u003e\",\"legendgroup\":\"10.008681375615497\",\"line\":{\"color\":\"#636efa\",\"dash\":\"solid\"},\"marker\":{\"symbol\":\"circle\"},\"mode\":\"lines+markers\",\"name\":\"10.008681375615497\",\"orientation\":\"v\",\"showlegend\":true,\"x\":[35],\"xaxis\":\"x\",\"y\":[10.008681375615497],\"yaxis\":\"y\",\"type\":\"scatter\"},{\"hovertemplate\":\"moving_dist=%{y}\\u003cbr\\u003ewindow_size=%{x}\\u003cextra\\u003e\\u003c\\u002fextra\\u003e\",\"legendgroup\":\"10.00497438989464\",\"line\":{\"color\":\"#636efa\",\"dash\":\"solid\"},\"marker\":{\"symbol\":\"diamond\"},\"mode\":\"lines+markers\",\"name\":\"10.00497438989464\",\"orientation\":\"v\",\"showlegend\":true,\"x\":[36],\"xaxis\":\"x\",\"y\":[10.00497438989464],\"yaxis\":\"y\",\"type\":\"scatter\"},{\"hovertemplate\":\"moving_dist=%{y}\\u003cbr\\u003ewindow_size=%{x}\\u003cextra\\u003e\\u003c\\u002fextra\\u003e\",\"legendgroup\":\"10.000314013304127\",\"line\":{\"color\":\"#636efa\",\"dash\":\"solid\"},\"marker\":{\"symbol\":\"square\"},\"mode\":\"lines+markers\",\"name\":\"10.000314013304127\",\"orientation\":\"v\",\"showlegend\":true,\"x\":[37],\"xaxis\":\"x\",\"y\":[10.000314013304127],\"yaxis\":\"y\",\"type\":\"scatter\"},{\"hovertemplate\":\"moving_dist=%{y}\\u003cbr\\u003ewindow_size=%{x}\\u003cextra\\u003e\\u003c\\u002fextra\\u003e\",\"legendgroup\":\"9.994868942359394\",\"line\":{\"color\":\"#636efa\",\"dash\":\"solid\"},\"marker\":{\"symbol\":\"x\"},\"mode\":\"lines+markers\",\"name\":\"9.994868942359394\",\"orientation\":\"v\",\"showlegend\":true,\"x\":[38],\"xaxis\":\"x\",\"y\":[9.994868942359394],\"yaxis\":\"y\",\"type\":\"scatter\"},{\"hovertemplate\":\"moving_dist=%{y}\\u003cbr\\u003ewindow_size=%{x}\\u003cextra\\u003e\\u003c\\u002fextra\\u003e\",\"legendgroup\":\"9.98876209215274\",\"line\":{\"color\":\"#636efa\",\"dash\":\"solid\"},\"marker\":{\"symbol\":\"cross\"},\"mode\":\"lines+markers\",\"name\":\"9.98876209215274\",\"orientation\":\"v\",\"showlegend\":true,\"x\":[39],\"xaxis\":\"x\",\"y\":[9.98876209215274],\"yaxis\":\"y\",\"type\":\"scatter\"},{\"hovertemplate\":\"moving_dist=%{y}\\u003cbr\\u003ewindow_size=%{x}\\u003cextra\\u003e\\u003c\\u002fextra\\u003e\",\"legendgroup\":\"9.98227514121849\",\"line\":{\"color\":\"#636efa\",\"dash\":\"solid\"},\"marker\":{\"symbol\":\"circle\"},\"mode\":\"lines+markers\",\"name\":\"9.98227514121849\",\"orientation\":\"v\",\"showlegend\":true,\"x\":[40],\"xaxis\":\"x\",\"y\":[9.98227514121849],\"yaxis\":\"y\",\"type\":\"scatter\"},{\"hovertemplate\":\"moving_dist=%{y}\\u003cbr\\u003ewindow_size=%{x}\\u003cextra\\u003e\\u003c\\u002fextra\\u003e\",\"legendgroup\":\"9.975604254914076\",\"line\":{\"color\":\"#636efa\",\"dash\":\"solid\"},\"marker\":{\"symbol\":\"diamond\"},\"mode\":\"lines+markers\",\"name\":\"9.975604254914076\",\"orientation\":\"v\",\"showlegend\":true,\"x\":[41],\"xaxis\":\"x\",\"y\":[9.975604254914076],\"yaxis\":\"y\",\"type\":\"scatter\"},{\"hovertemplate\":\"moving_dist=%{y}\\u003cbr\\u003ewindow_size=%{x}\\u003cextra\\u003e\\u003c\\u002fextra\\u003e\",\"legendgroup\":\"9.968843786678995\",\"line\":{\"color\":\"#636efa\",\"dash\":\"solid\"},\"marker\":{\"symbol\":\"square\"},\"mode\":\"lines+markers\",\"name\":\"9.968843786678995\",\"orientation\":\"v\",\"showlegend\":true,\"x\":[42],\"xaxis\":\"x\",\"y\":[9.968843786678995],\"yaxis\":\"y\",\"type\":\"scatter\"},{\"hovertemplate\":\"moving_dist=%{y}\\u003cbr\\u003ewindow_size=%{x}\\u003cextra\\u003e\\u003c\\u002fextra\\u003e\",\"legendgroup\":\"9.96221582974269\",\"line\":{\"color\":\"#636efa\",\"dash\":\"solid\"},\"marker\":{\"symbol\":\"x\"},\"mode\":\"lines+markers\",\"name\":\"9.96221582974269\",\"orientation\":\"v\",\"showlegend\":true,\"x\":[43],\"xaxis\":\"x\",\"y\":[9.96221582974269],\"yaxis\":\"y\",\"type\":\"scatter\"},{\"hovertemplate\":\"moving_dist=%{y}\\u003cbr\\u003ewindow_size=%{x}\\u003cextra\\u003e\\u003c\\u002fextra\\u003e\",\"legendgroup\":\"9.955923355973754\",\"line\":{\"color\":\"#636efa\",\"dash\":\"solid\"},\"marker\":{\"symbol\":\"cross\"},\"mode\":\"lines+markers\",\"name\":\"9.955923355973754\",\"orientation\":\"v\",\"showlegend\":true,\"x\":[44],\"xaxis\":\"x\",\"y\":[9.955923355973754],\"yaxis\":\"y\",\"type\":\"scatter\"},{\"hovertemplate\":\"moving_dist=%{y}\\u003cbr\\u003ewindow_size=%{x}\\u003cextra\\u003e\\u003c\\u002fextra\\u003e\",\"legendgroup\":\"9.95017984828172\",\"line\":{\"color\":\"#636efa\",\"dash\":\"solid\"},\"marker\":{\"symbol\":\"circle\"},\"mode\":\"lines+markers\",\"name\":\"9.95017984828172\",\"orientation\":\"v\",\"showlegend\":true,\"x\":[45],\"xaxis\":\"x\",\"y\":[9.95017984828172],\"yaxis\":\"y\",\"type\":\"scatter\"},{\"hovertemplate\":\"moving_dist=%{y}\\u003cbr\\u003ewindow_size=%{x}\\u003cextra\\u003e\\u003c\\u002fextra\\u003e\",\"legendgroup\":\"9.94517513986046\",\"line\":{\"color\":\"#636efa\",\"dash\":\"solid\"},\"marker\":{\"symbol\":\"diamond\"},\"mode\":\"lines+markers\",\"name\":\"9.94517513986046\",\"orientation\":\"v\",\"showlegend\":true,\"x\":[46],\"xaxis\":\"x\",\"y\":[9.94517513986046],\"yaxis\":\"y\",\"type\":\"scatter\"},{\"hovertemplate\":\"moving_dist=%{y}\\u003cbr\\u003ewindow_size=%{x}\\u003cextra\\u003e\\u003c\\u002fextra\\u003e\",\"legendgroup\":\"9.940984780312625\",\"line\":{\"color\":\"#636efa\",\"dash\":\"solid\"},\"marker\":{\"symbol\":\"square\"},\"mode\":\"lines+markers\",\"name\":\"9.940984780312625\",\"orientation\":\"v\",\"showlegend\":true,\"x\":[47],\"xaxis\":\"x\",\"y\":[9.940984780312625],\"yaxis\":\"y\",\"type\":\"scatter\"},{\"hovertemplate\":\"moving_dist=%{y}\\u003cbr\\u003ewindow_size=%{x}\\u003cextra\\u003e\\u003c\\u002fextra\\u003e\",\"legendgroup\":\"9.937438557413987\",\"line\":{\"color\":\"#636efa\",\"dash\":\"solid\"},\"marker\":{\"symbol\":\"x\"},\"mode\":\"lines+markers\",\"name\":\"9.937438557413987\",\"orientation\":\"v\",\"showlegend\":true,\"x\":[48],\"xaxis\":\"x\",\"y\":[9.937438557413987],\"yaxis\":\"y\",\"type\":\"scatter\"},{\"hovertemplate\":\"moving_dist=%{y}\\u003cbr\\u003ewindow_size=%{x}\\u003cextra\\u003e\\u003c\\u002fextra\\u003e\",\"legendgroup\":\"9.934577971157344\",\"line\":{\"color\":\"#636efa\",\"dash\":\"solid\"},\"marker\":{\"symbol\":\"cross\"},\"mode\":\"lines+markers\",\"name\":\"9.934577971157344\",\"orientation\":\"v\",\"showlegend\":true,\"x\":[49],\"xaxis\":\"x\",\"y\":[9.934577971157344],\"yaxis\":\"y\",\"type\":\"scatter\"},{\"hovertemplate\":\"moving_dist=%{y}\\u003cbr\\u003ewindow_size=%{x}\\u003cextra\\u003e\\u003c\\u002fextra\\u003e\",\"legendgroup\":\"9.932399716354608\",\"line\":{\"color\":\"#636efa\",\"dash\":\"solid\"},\"marker\":{\"symbol\":\"circle\"},\"mode\":\"lines+markers\",\"name\":\"9.932399716354608\",\"orientation\":\"v\",\"showlegend\":true,\"x\":[50],\"xaxis\":\"x\",\"y\":[9.932399716354608],\"yaxis\":\"y\",\"type\":\"scatter\"},{\"hovertemplate\":\"moving_dist=%{y}\\u003cbr\\u003ewindow_size=%{x}\\u003cextra\\u003e\\u003c\\u002fextra\\u003e\",\"legendgroup\":\"9.930782841921184\",\"line\":{\"color\":\"#636efa\",\"dash\":\"solid\"},\"marker\":{\"symbol\":\"diamond\"},\"mode\":\"lines+markers\",\"name\":\"9.930782841921184\",\"orientation\":\"v\",\"showlegend\":true,\"x\":[51],\"xaxis\":\"x\",\"y\":[9.930782841921184],\"yaxis\":\"y\",\"type\":\"scatter\"},{\"hovertemplate\":\"moving_dist=%{y}\\u003cbr\\u003ewindow_size=%{x}\\u003cextra\\u003e\\u003c\\u002fextra\\u003e\",\"legendgroup\":\"9.929536096958744\",\"line\":{\"color\":\"#636efa\",\"dash\":\"solid\"},\"marker\":{\"symbol\":\"square\"},\"mode\":\"lines+markers\",\"name\":\"9.929536096958744\",\"orientation\":\"v\",\"showlegend\":true,\"x\":[52],\"xaxis\":\"x\",\"y\":[9.929536096958744],\"yaxis\":\"y\",\"type\":\"scatter\"},{\"hovertemplate\":\"moving_dist=%{y}\\u003cbr\\u003ewindow_size=%{x}\\u003cextra\\u003e\\u003c\\u002fextra\\u003e\",\"legendgroup\":\"9.92850117786854\",\"line\":{\"color\":\"#636efa\",\"dash\":\"solid\"},\"marker\":{\"symbol\":\"x\"},\"mode\":\"lines+markers\",\"name\":\"9.92850117786854\",\"orientation\":\"v\",\"showlegend\":true,\"x\":[53],\"xaxis\":\"x\",\"y\":[9.92850117786854],\"yaxis\":\"y\",\"type\":\"scatter\"},{\"hovertemplate\":\"moving_dist=%{y}\\u003cbr\\u003ewindow_size=%{x}\\u003cextra\\u003e\\u003c\\u002fextra\\u003e\",\"legendgroup\":\"9.927510400667474\",\"line\":{\"color\":\"#636efa\",\"dash\":\"solid\"},\"marker\":{\"symbol\":\"cross\"},\"mode\":\"lines+markers\",\"name\":\"9.927510400667474\",\"orientation\":\"v\",\"showlegend\":true,\"x\":[54],\"xaxis\":\"x\",\"y\":[9.927510400667474],\"yaxis\":\"y\",\"type\":\"scatter\"},{\"hovertemplate\":\"moving_dist=%{y}\\u003cbr\\u003ewindow_size=%{x}\\u003cextra\\u003e\\u003c\\u002fextra\\u003e\",\"legendgroup\":\"9.926310669517957\",\"line\":{\"color\":\"#636efa\",\"dash\":\"solid\"},\"marker\":{\"symbol\":\"circle\"},\"mode\":\"lines+markers\",\"name\":\"9.926310669517957\",\"orientation\":\"v\",\"showlegend\":true,\"x\":[55],\"xaxis\":\"x\",\"y\":[9.926310669517957],\"yaxis\":\"y\",\"type\":\"scatter\"},{\"hovertemplate\":\"moving_dist=%{y}\\u003cbr\\u003ewindow_size=%{x}\\u003cextra\\u003e\\u003c\\u002fextra\\u003e\",\"legendgroup\":\"9.924756454643246\",\"line\":{\"color\":\"#636efa\",\"dash\":\"solid\"},\"marker\":{\"symbol\":\"diamond\"},\"mode\":\"lines+markers\",\"name\":\"9.924756454643246\",\"orientation\":\"v\",\"showlegend\":true,\"x\":[56],\"xaxis\":\"x\",\"y\":[9.924756454643246],\"yaxis\":\"y\",\"type\":\"scatter\"},{\"hovertemplate\":\"moving_dist=%{y}\\u003cbr\\u003ewindow_size=%{x}\\u003cextra\\u003e\\u003c\\u002fextra\\u003e\",\"legendgroup\":\"9.922819651787076\",\"line\":{\"color\":\"#636efa\",\"dash\":\"solid\"},\"marker\":{\"symbol\":\"square\"},\"mode\":\"lines+markers\",\"name\":\"9.922819651787076\",\"orientation\":\"v\",\"showlegend\":true,\"x\":[57],\"xaxis\":\"x\",\"y\":[9.922819651787076],\"yaxis\":\"y\",\"type\":\"scatter\"},{\"hovertemplate\":\"moving_dist=%{y}\\u003cbr\\u003ewindow_size=%{x}\\u003cextra\\u003e\\u003c\\u002fextra\\u003e\",\"legendgroup\":\"9.920461768315038\",\"line\":{\"color\":\"#636efa\",\"dash\":\"solid\"},\"marker\":{\"symbol\":\"x\"},\"mode\":\"lines+markers\",\"name\":\"9.920461768315038\",\"orientation\":\"v\",\"showlegend\":true,\"x\":[58],\"xaxis\":\"x\",\"y\":[9.920461768315038],\"yaxis\":\"y\",\"type\":\"scatter\"},{\"hovertemplate\":\"moving_dist=%{y}\\u003cbr\\u003ewindow_size=%{x}\\u003cextra\\u003e\\u003c\\u002fextra\\u003e\",\"legendgroup\":\"9.917667987274529\",\"line\":{\"color\":\"#636efa\",\"dash\":\"solid\"},\"marker\":{\"symbol\":\"cross\"},\"mode\":\"lines+markers\",\"name\":\"9.917667987274529\",\"orientation\":\"v\",\"showlegend\":true,\"x\":[59],\"xaxis\":\"x\",\"y\":[9.917667987274529],\"yaxis\":\"y\",\"type\":\"scatter\"},{\"hovertemplate\":\"moving_dist=%{y}\\u003cbr\\u003ewindow_size=%{x}\\u003cextra\\u003e\\u003c\\u002fextra\\u003e\",\"legendgroup\":\"9.914383665827005\",\"line\":{\"color\":\"#636efa\",\"dash\":\"solid\"},\"marker\":{\"symbol\":\"circle\"},\"mode\":\"lines+markers\",\"name\":\"9.914383665827005\",\"orientation\":\"v\",\"showlegend\":true,\"x\":[60],\"xaxis\":\"x\",\"y\":[9.914383665827005],\"yaxis\":\"y\",\"type\":\"scatter\"},{\"hovertemplate\":\"moving_dist=%{y}\\u003cbr\\u003ewindow_size=%{x}\\u003cextra\\u003e\\u003c\\u002fextra\\u003e\",\"legendgroup\":\"9.91066135021055\",\"line\":{\"color\":\"#636efa\",\"dash\":\"solid\"},\"marker\":{\"symbol\":\"diamond\"},\"mode\":\"lines+markers\",\"name\":\"9.91066135021055\",\"orientation\":\"v\",\"showlegend\":true,\"x\":[61],\"xaxis\":\"x\",\"y\":[9.91066135021055],\"yaxis\":\"y\",\"type\":\"scatter\"},{\"hovertemplate\":\"moving_dist=%{y}\\u003cbr\\u003ewindow_size=%{x}\\u003cextra\\u003e\\u003c\\u002fextra\\u003e\",\"legendgroup\":\"9.906455814209753\",\"line\":{\"color\":\"#636efa\",\"dash\":\"solid\"},\"marker\":{\"symbol\":\"square\"},\"mode\":\"lines+markers\",\"name\":\"9.906455814209753\",\"orientation\":\"v\",\"showlegend\":true,\"x\":[62],\"xaxis\":\"x\",\"y\":[9.906455814209753],\"yaxis\":\"y\",\"type\":\"scatter\"},{\"hovertemplate\":\"moving_dist=%{y}\\u003cbr\\u003ewindow_size=%{x}\\u003cextra\\u003e\\u003c\\u002fextra\\u003e\",\"legendgroup\":\"9.901932911311013\",\"line\":{\"color\":\"#636efa\",\"dash\":\"solid\"},\"marker\":{\"symbol\":\"x\"},\"mode\":\"lines+markers\",\"name\":\"9.901932911311013\",\"orientation\":\"v\",\"showlegend\":true,\"x\":[63],\"xaxis\":\"x\",\"y\":[9.901932911311013],\"yaxis\":\"y\",\"type\":\"scatter\"},{\"hovertemplate\":\"moving_dist=%{y}\\u003cbr\\u003ewindow_size=%{x}\\u003cextra\\u003e\\u003c\\u002fextra\\u003e\",\"legendgroup\":\"9.897047975934447\",\"line\":{\"color\":\"#636efa\",\"dash\":\"solid\"},\"marker\":{\"symbol\":\"cross\"},\"mode\":\"lines+markers\",\"name\":\"9.897047975934447\",\"orientation\":\"v\",\"showlegend\":true,\"x\":[64],\"xaxis\":\"x\",\"y\":[9.897047975934447],\"yaxis\":\"y\",\"type\":\"scatter\"},{\"hovertemplate\":\"moving_dist=%{y}\\u003cbr\\u003ewindow_size=%{x}\\u003cextra\\u003e\\u003c\\u002fextra\\u003e\",\"legendgroup\":\"9.891963608598113\",\"line\":{\"color\":\"#636efa\",\"dash\":\"solid\"},\"marker\":{\"symbol\":\"circle\"},\"mode\":\"lines+markers\",\"name\":\"9.891963608598113\",\"orientation\":\"v\",\"showlegend\":true,\"x\":[65],\"xaxis\":\"x\",\"y\":[9.891963608598113],\"yaxis\":\"y\",\"type\":\"scatter\"},{\"hovertemplate\":\"moving_dist=%{y}\\u003cbr\\u003ewindow_size=%{x}\\u003cextra\\u003e\\u003c\\u002fextra\\u003e\",\"legendgroup\":\"9.886800891914149\",\"line\":{\"color\":\"#636efa\",\"dash\":\"solid\"},\"marker\":{\"symbol\":\"diamond\"},\"mode\":\"lines+markers\",\"name\":\"9.886800891914149\",\"orientation\":\"v\",\"showlegend\":true,\"x\":[66],\"xaxis\":\"x\",\"y\":[9.886800891914149],\"yaxis\":\"y\",\"type\":\"scatter\"},{\"hovertemplate\":\"moving_dist=%{y}\\u003cbr\\u003ewindow_size=%{x}\\u003cextra\\u003e\\u003c\\u002fextra\\u003e\",\"legendgroup\":\"9.881762801019757\",\"line\":{\"color\":\"#636efa\",\"dash\":\"solid\"},\"marker\":{\"symbol\":\"square\"},\"mode\":\"lines+markers\",\"name\":\"9.881762801019757\",\"orientation\":\"v\",\"showlegend\":true,\"x\":[67],\"xaxis\":\"x\",\"y\":[9.881762801019757],\"yaxis\":\"y\",\"type\":\"scatter\"},{\"hovertemplate\":\"moving_dist=%{y}\\u003cbr\\u003ewindow_size=%{x}\\u003cextra\\u003e\\u003c\\u002fextra\\u003e\",\"legendgroup\":\"9.876940163718038\",\"line\":{\"color\":\"#636efa\",\"dash\":\"solid\"},\"marker\":{\"symbol\":\"x\"},\"mode\":\"lines+markers\",\"name\":\"9.876940163718038\",\"orientation\":\"v\",\"showlegend\":true,\"x\":[68],\"xaxis\":\"x\",\"y\":[9.876940163718038],\"yaxis\":\"y\",\"type\":\"scatter\"},{\"hovertemplate\":\"moving_dist=%{y}\\u003cbr\\u003ewindow_size=%{x}\\u003cextra\\u003e\\u003c\\u002fextra\\u003e\",\"legendgroup\":\"9.872483081932485\",\"line\":{\"color\":\"#636efa\",\"dash\":\"solid\"},\"marker\":{\"symbol\":\"cross\"},\"mode\":\"lines+markers\",\"name\":\"9.872483081932485\",\"orientation\":\"v\",\"showlegend\":true,\"x\":[69],\"xaxis\":\"x\",\"y\":[9.872483081932485],\"yaxis\":\"y\",\"type\":\"scatter\"},{\"hovertemplate\":\"moving_dist=%{y}\\u003cbr\\u003ewindow_size=%{x}\\u003cextra\\u003e\\u003c\\u002fextra\\u003e\",\"legendgroup\":\"9.86825412319576\",\"line\":{\"color\":\"#636efa\",\"dash\":\"solid\"},\"marker\":{\"symbol\":\"circle\"},\"mode\":\"lines+markers\",\"name\":\"9.86825412319576\",\"orientation\":\"v\",\"showlegend\":true,\"x\":[70],\"xaxis\":\"x\",\"y\":[9.86825412319576],\"yaxis\":\"y\",\"type\":\"scatter\"},{\"hovertemplate\":\"moving_dist=%{y}\\u003cbr\\u003ewindow_size=%{x}\\u003cextra\\u003e\\u003c\\u002fextra\\u003e\",\"legendgroup\":\"9.864396842049063\",\"line\":{\"color\":\"#636efa\",\"dash\":\"solid\"},\"marker\":{\"symbol\":\"diamond\"},\"mode\":\"lines+markers\",\"name\":\"9.864396842049063\",\"orientation\":\"v\",\"showlegend\":true,\"x\":[71],\"xaxis\":\"x\",\"y\":[9.864396842049063],\"yaxis\":\"y\",\"type\":\"scatter\"},{\"hovertemplate\":\"moving_dist=%{y}\\u003cbr\\u003ewindow_size=%{x}\\u003cextra\\u003e\\u003c\\u002fextra\\u003e\",\"legendgroup\":\"9.86098117303341\",\"line\":{\"color\":\"#636efa\",\"dash\":\"solid\"},\"marker\":{\"symbol\":\"square\"},\"mode\":\"lines+markers\",\"name\":\"9.86098117303341\",\"orientation\":\"v\",\"showlegend\":true,\"x\":[72],\"xaxis\":\"x\",\"y\":[9.86098117303341],\"yaxis\":\"y\",\"type\":\"scatter\"},{\"hovertemplate\":\"moving_dist=%{y}\\u003cbr\\u003ewindow_size=%{x}\\u003cextra\\u003e\\u003c\\u002fextra\\u003e\",\"legendgroup\":\"9.858025510000564\",\"line\":{\"color\":\"#636efa\",\"dash\":\"solid\"},\"marker\":{\"symbol\":\"x\"},\"mode\":\"lines+markers\",\"name\":\"9.858025510000564\",\"orientation\":\"v\",\"showlegend\":true,\"x\":[73],\"xaxis\":\"x\",\"y\":[9.858025510000564],\"yaxis\":\"y\",\"type\":\"scatter\"},{\"hovertemplate\":\"moving_dist=%{y}\\u003cbr\\u003ewindow_size=%{x}\\u003cextra\\u003e\\u003c\\u002fextra\\u003e\",\"legendgroup\":\"9.855479228703288\",\"line\":{\"color\":\"#636efa\",\"dash\":\"solid\"},\"marker\":{\"symbol\":\"cross\"},\"mode\":\"lines+markers\",\"name\":\"9.855479228703288\",\"orientation\":\"v\",\"showlegend\":true,\"x\":[74],\"xaxis\":\"x\",\"y\":[9.855479228703288],\"yaxis\":\"y\",\"type\":\"scatter\"},{\"hovertemplate\":\"moving_dist=%{y}\\u003cbr\\u003ewindow_size=%{x}\\u003cextra\\u003e\\u003c\\u002fextra\\u003e\",\"legendgroup\":\"9.853302409657339\",\"line\":{\"color\":\"#636efa\",\"dash\":\"solid\"},\"marker\":{\"symbol\":\"circle\"},\"mode\":\"lines+markers\",\"name\":\"9.853302409657339\",\"orientation\":\"v\",\"showlegend\":true,\"x\":[75],\"xaxis\":\"x\",\"y\":[9.853302409657339],\"yaxis\":\"y\",\"type\":\"scatter\"},{\"hovertemplate\":\"moving_dist=%{y}\\u003cbr\\u003ewindow_size=%{x}\\u003cextra\\u003e\\u003c\\u002fextra\\u003e\",\"legendgroup\":\"9.851441254833786\",\"line\":{\"color\":\"#636efa\",\"dash\":\"solid\"},\"marker\":{\"symbol\":\"diamond\"},\"mode\":\"lines+markers\",\"name\":\"9.851441254833786\",\"orientation\":\"v\",\"showlegend\":true,\"x\":[76],\"xaxis\":\"x\",\"y\":[9.851441254833786],\"yaxis\":\"y\",\"type\":\"scatter\"},{\"hovertemplate\":\"moving_dist=%{y}\\u003cbr\\u003ewindow_size=%{x}\\u003cextra\\u003e\\u003c\\u002fextra\\u003e\",\"legendgroup\":\"9.849701475989484\",\"line\":{\"color\":\"#636efa\",\"dash\":\"solid\"},\"marker\":{\"symbol\":\"square\"},\"mode\":\"lines+markers\",\"name\":\"9.849701475989484\",\"orientation\":\"v\",\"showlegend\":true,\"x\":[77],\"xaxis\":\"x\",\"y\":[9.849701475989484],\"yaxis\":\"y\",\"type\":\"scatter\"},{\"hovertemplate\":\"moving_dist=%{y}\\u003cbr\\u003ewindow_size=%{x}\\u003cextra\\u003e\\u003c\\u002fextra\\u003e\",\"legendgroup\":\"9.84792702114828\",\"line\":{\"color\":\"#636efa\",\"dash\":\"solid\"},\"marker\":{\"symbol\":\"x\"},\"mode\":\"lines+markers\",\"name\":\"9.84792702114828\",\"orientation\":\"v\",\"showlegend\":true,\"x\":[78],\"xaxis\":\"x\",\"y\":[9.84792702114828],\"yaxis\":\"y\",\"type\":\"scatter\"},{\"hovertemplate\":\"moving_dist=%{y}\\u003cbr\\u003ewindow_size=%{x}\\u003cextra\\u003e\\u003c\\u002fextra\\u003e\",\"legendgroup\":\"9.846063374079819\",\"line\":{\"color\":\"#636efa\",\"dash\":\"solid\"},\"marker\":{\"symbol\":\"cross\"},\"mode\":\"lines+markers\",\"name\":\"9.846063374079819\",\"orientation\":\"v\",\"showlegend\":true,\"x\":[79],\"xaxis\":\"x\",\"y\":[9.846063374079819],\"yaxis\":\"y\",\"type\":\"scatter\"},{\"hovertemplate\":\"moving_dist=%{y}\\u003cbr\\u003ewindow_size=%{x}\\u003cextra\\u003e\\u003c\\u002fextra\\u003e\",\"legendgroup\":\"9.844064660082745\",\"line\":{\"color\":\"#636efa\",\"dash\":\"solid\"},\"marker\":{\"symbol\":\"circle\"},\"mode\":\"lines+markers\",\"name\":\"9.844064660082745\",\"orientation\":\"v\",\"showlegend\":true,\"x\":[80],\"xaxis\":\"x\",\"y\":[9.844064660082745],\"yaxis\":\"y\",\"type\":\"scatter\"},{\"hovertemplate\":\"moving_dist=%{y}\\u003cbr\\u003ewindow_size=%{x}\\u003cextra\\u003e\\u003c\\u002fextra\\u003e\",\"legendgroup\":\"9.84192918151958\",\"line\":{\"color\":\"#636efa\",\"dash\":\"solid\"},\"marker\":{\"symbol\":\"diamond\"},\"mode\":\"lines+markers\",\"name\":\"9.84192918151958\",\"orientation\":\"v\",\"showlegend\":true,\"x\":[81],\"xaxis\":\"x\",\"y\":[9.84192918151958],\"yaxis\":\"y\",\"type\":\"scatter\"},{\"hovertemplate\":\"moving_dist=%{y}\\u003cbr\\u003ewindow_size=%{x}\\u003cextra\\u003e\\u003c\\u002fextra\\u003e\",\"legendgroup\":\"9.83958572530503\",\"line\":{\"color\":\"#636efa\",\"dash\":\"solid\"},\"marker\":{\"symbol\":\"square\"},\"mode\":\"lines+markers\",\"name\":\"9.83958572530503\",\"orientation\":\"v\",\"showlegend\":true,\"x\":[82],\"xaxis\":\"x\",\"y\":[9.83958572530503],\"yaxis\":\"y\",\"type\":\"scatter\"},{\"hovertemplate\":\"moving_dist=%{y}\\u003cbr\\u003ewindow_size=%{x}\\u003cextra\\u003e\\u003c\\u002fextra\\u003e\",\"legendgroup\":\"9.83697749601569\",\"line\":{\"color\":\"#636efa\",\"dash\":\"solid\"},\"marker\":{\"symbol\":\"x\"},\"mode\":\"lines+markers\",\"name\":\"9.83697749601569\",\"orientation\":\"v\",\"showlegend\":true,\"x\":[83],\"xaxis\":\"x\",\"y\":[9.83697749601569],\"yaxis\":\"y\",\"type\":\"scatter\"},{\"hovertemplate\":\"moving_dist=%{y}\\u003cbr\\u003ewindow_size=%{x}\\u003cextra\\u003e\\u003c\\u002fextra\\u003e\",\"legendgroup\":\"9.834112437759796\",\"line\":{\"color\":\"#636efa\",\"dash\":\"solid\"},\"marker\":{\"symbol\":\"cross\"},\"mode\":\"lines+markers\",\"name\":\"9.834112437759796\",\"orientation\":\"v\",\"showlegend\":true,\"x\":[84],\"xaxis\":\"x\",\"y\":[9.834112437759796],\"yaxis\":\"y\",\"type\":\"scatter\"},{\"hovertemplate\":\"moving_dist=%{y}\\u003cbr\\u003ewindow_size=%{x}\\u003cextra\\u003e\\u003c\\u002fextra\\u003e\",\"legendgroup\":\"9.8309629896789\",\"line\":{\"color\":\"#636efa\",\"dash\":\"solid\"},\"marker\":{\"symbol\":\"circle\"},\"mode\":\"lines+markers\",\"name\":\"9.8309629896789\",\"orientation\":\"v\",\"showlegend\":true,\"x\":[85],\"xaxis\":\"x\",\"y\":[9.8309629896789],\"yaxis\":\"y\",\"type\":\"scatter\"},{\"hovertemplate\":\"moving_dist=%{y}\\u003cbr\\u003ewindow_size=%{x}\\u003cextra\\u003e\\u003c\\u002fextra\\u003e\",\"legendgroup\":\"9.827593285747865\",\"line\":{\"color\":\"#636efa\",\"dash\":\"solid\"},\"marker\":{\"symbol\":\"diamond\"},\"mode\":\"lines+markers\",\"name\":\"9.827593285747865\",\"orientation\":\"v\",\"showlegend\":true,\"x\":[86],\"xaxis\":\"x\",\"y\":[9.827593285747865],\"yaxis\":\"y\",\"type\":\"scatter\"},{\"hovertemplate\":\"moving_dist=%{y}\\u003cbr\\u003ewindow_size=%{x}\\u003cextra\\u003e\\u003c\\u002fextra\\u003e\",\"legendgroup\":\"9.824000033938463\",\"line\":{\"color\":\"#636efa\",\"dash\":\"solid\"},\"marker\":{\"symbol\":\"square\"},\"mode\":\"lines+markers\",\"name\":\"9.824000033938463\",\"orientation\":\"v\",\"showlegend\":true,\"x\":[87],\"xaxis\":\"x\",\"y\":[9.824000033938463],\"yaxis\":\"y\",\"type\":\"scatter\"},{\"hovertemplate\":\"moving_dist=%{y}\\u003cbr\\u003ewindow_size=%{x}\\u003cextra\\u003e\\u003c\\u002fextra\\u003e\",\"legendgroup\":\"9.820335569820207\",\"line\":{\"color\":\"#636efa\",\"dash\":\"solid\"},\"marker\":{\"symbol\":\"x\"},\"mode\":\"lines+markers\",\"name\":\"9.820335569820207\",\"orientation\":\"v\",\"showlegend\":true,\"x\":[88],\"xaxis\":\"x\",\"y\":[9.820335569820207],\"yaxis\":\"y\",\"type\":\"scatter\"},{\"hovertemplate\":\"moving_dist=%{y}\\u003cbr\\u003ewindow_size=%{x}\\u003cextra\\u003e\\u003c\\u002fextra\\u003e\",\"legendgroup\":\"9.816587873460533\",\"line\":{\"color\":\"#636efa\",\"dash\":\"solid\"},\"marker\":{\"symbol\":\"cross\"},\"mode\":\"lines+markers\",\"name\":\"9.816587873460533\",\"orientation\":\"v\",\"showlegend\":true,\"x\":[89],\"xaxis\":\"x\",\"y\":[9.816587873460533],\"yaxis\":\"y\",\"type\":\"scatter\"},{\"hovertemplate\":\"moving_dist=%{y}\\u003cbr\\u003ewindow_size=%{x}\\u003cextra\\u003e\\u003c\\u002fextra\\u003e\",\"legendgroup\":\"9.812807254351041\",\"line\":{\"color\":\"#636efa\",\"dash\":\"solid\"},\"marker\":{\"symbol\":\"circle\"},\"mode\":\"lines+markers\",\"name\":\"9.812807254351041\",\"orientation\":\"v\",\"showlegend\":true,\"x\":[90],\"xaxis\":\"x\",\"y\":[9.812807254351041],\"yaxis\":\"y\",\"type\":\"scatter\"},{\"hovertemplate\":\"moving_dist=%{y}\\u003cbr\\u003ewindow_size=%{x}\\u003cextra\\u003e\\u003c\\u002fextra\\u003e\",\"legendgroup\":\"9.80907925519641\",\"line\":{\"color\":\"#636efa\",\"dash\":\"solid\"},\"marker\":{\"symbol\":\"diamond\"},\"mode\":\"lines+markers\",\"name\":\"9.80907925519641\",\"orientation\":\"v\",\"showlegend\":true,\"x\":[91],\"xaxis\":\"x\",\"y\":[9.80907925519641],\"yaxis\":\"y\",\"type\":\"scatter\"},{\"hovertemplate\":\"moving_dist=%{y}\\u003cbr\\u003ewindow_size=%{x}\\u003cextra\\u003e\\u003c\\u002fextra\\u003e\",\"legendgroup\":\"9.805519309043554\",\"line\":{\"color\":\"#636efa\",\"dash\":\"solid\"},\"marker\":{\"symbol\":\"square\"},\"mode\":\"lines+markers\",\"name\":\"9.805519309043554\",\"orientation\":\"v\",\"showlegend\":true,\"x\":[92],\"xaxis\":\"x\",\"y\":[9.805519309043554],\"yaxis\":\"y\",\"type\":\"scatter\"},{\"hovertemplate\":\"moving_dist=%{y}\\u003cbr\\u003ewindow_size=%{x}\\u003cextra\\u003e\\u003c\\u002fextra\\u003e\",\"legendgroup\":\"9.802141464160833\",\"line\":{\"color\":\"#636efa\",\"dash\":\"solid\"},\"marker\":{\"symbol\":\"x\"},\"mode\":\"lines+markers\",\"name\":\"9.802141464160833\",\"orientation\":\"v\",\"showlegend\":true,\"x\":[93],\"xaxis\":\"x\",\"y\":[9.802141464160833],\"yaxis\":\"y\",\"type\":\"scatter\"},{\"hovertemplate\":\"moving_dist=%{y}\\u003cbr\\u003ewindow_size=%{x}\\u003cextra\\u003e\\u003c\\u002fextra\\u003e\",\"legendgroup\":\"9.798941245998975\",\"line\":{\"color\":\"#636efa\",\"dash\":\"solid\"},\"marker\":{\"symbol\":\"cross\"},\"mode\":\"lines+markers\",\"name\":\"9.798941245998975\",\"orientation\":\"v\",\"showlegend\":true,\"x\":[94],\"xaxis\":\"x\",\"y\":[9.798941245998975],\"yaxis\":\"y\",\"type\":\"scatter\"},{\"hovertemplate\":\"moving_dist=%{y}\\u003cbr\\u003ewindow_size=%{x}\\u003cextra\\u003e\\u003c\\u002fextra\\u003e\",\"legendgroup\":\"9.795963723606233\",\"line\":{\"color\":\"#636efa\",\"dash\":\"solid\"},\"marker\":{\"symbol\":\"circle\"},\"mode\":\"lines+markers\",\"name\":\"9.795963723606233\",\"orientation\":\"v\",\"showlegend\":true,\"x\":[95],\"xaxis\":\"x\",\"y\":[9.795963723606233],\"yaxis\":\"y\",\"type\":\"scatter\"},{\"hovertemplate\":\"moving_dist=%{y}\\u003cbr\\u003ewindow_size=%{x}\\u003cextra\\u003e\\u003c\\u002fextra\\u003e\",\"legendgroup\":\"9.793184063106619\",\"line\":{\"color\":\"#636efa\",\"dash\":\"solid\"},\"marker\":{\"symbol\":\"diamond\"},\"mode\":\"lines+markers\",\"name\":\"9.793184063106619\",\"orientation\":\"v\",\"showlegend\":true,\"x\":[96],\"xaxis\":\"x\",\"y\":[9.793184063106619],\"yaxis\":\"y\",\"type\":\"scatter\"},{\"hovertemplate\":\"moving_dist=%{y}\\u003cbr\\u003ewindow_size=%{x}\\u003cextra\\u003e\\u003c\\u002fextra\\u003e\",\"legendgroup\":\"9.790595028696297\",\"line\":{\"color\":\"#636efa\",\"dash\":\"solid\"},\"marker\":{\"symbol\":\"square\"},\"mode\":\"lines+markers\",\"name\":\"9.790595028696297\",\"orientation\":\"v\",\"showlegend\":true,\"x\":[97],\"xaxis\":\"x\",\"y\":[9.790595028696297],\"yaxis\":\"y\",\"type\":\"scatter\"},{\"hovertemplate\":\"moving_dist=%{y}\\u003cbr\\u003ewindow_size=%{x}\\u003cextra\\u003e\\u003c\\u002fextra\\u003e\",\"legendgroup\":\"9.788207422910093\",\"line\":{\"color\":\"#636efa\",\"dash\":\"solid\"},\"marker\":{\"symbol\":\"x\"},\"mode\":\"lines+markers\",\"name\":\"9.788207422910093\",\"orientation\":\"v\",\"showlegend\":true,\"x\":[98],\"xaxis\":\"x\",\"y\":[9.788207422910093],\"yaxis\":\"y\",\"type\":\"scatter\"},{\"hovertemplate\":\"moving_dist=%{y}\\u003cbr\\u003ewindow_size=%{x}\\u003cextra\\u003e\\u003c\\u002fextra\\u003e\",\"legendgroup\":\"9.78602775078143\",\"line\":{\"color\":\"#636efa\",\"dash\":\"solid\"},\"marker\":{\"symbol\":\"cross\"},\"mode\":\"lines+markers\",\"name\":\"9.78602775078143\",\"orientation\":\"v\",\"showlegend\":true,\"x\":[99],\"xaxis\":\"x\",\"y\":[9.78602775078143],\"yaxis\":\"y\",\"type\":\"scatter\"}],                        {\"template\":{\"data\":{\"histogram2dcontour\":[{\"type\":\"histogram2dcontour\",\"colorbar\":{\"outlinewidth\":0,\"ticks\":\"\"},\"colorscale\":[[0.0,\"#0d0887\"],[0.1111111111111111,\"#46039f\"],[0.2222222222222222,\"#7201a8\"],[0.3333333333333333,\"#9c179e\"],[0.4444444444444444,\"#bd3786\"],[0.5555555555555556,\"#d8576b\"],[0.6666666666666666,\"#ed7953\"],[0.7777777777777778,\"#fb9f3a\"],[0.8888888888888888,\"#fdca26\"],[1.0,\"#f0f921\"]]}],\"choropleth\":[{\"type\":\"choropleth\",\"colorbar\":{\"outlinewidth\":0,\"ticks\":\"\"}}],\"histogram2d\":[{\"type\":\"histogram2d\",\"colorbar\":{\"outlinewidth\":0,\"ticks\":\"\"},\"colorscale\":[[0.0,\"#0d0887\"],[0.1111111111111111,\"#46039f\"],[0.2222222222222222,\"#7201a8\"],[0.3333333333333333,\"#9c179e\"],[0.4444444444444444,\"#bd3786\"],[0.5555555555555556,\"#d8576b\"],[0.6666666666666666,\"#ed7953\"],[0.7777777777777778,\"#fb9f3a\"],[0.8888888888888888,\"#fdca26\"],[1.0,\"#f0f921\"]]}],\"heatmap\":[{\"type\":\"heatmap\",\"colorbar\":{\"outlinewidth\":0,\"ticks\":\"\"},\"colorscale\":[[0.0,\"#0d0887\"],[0.1111111111111111,\"#46039f\"],[0.2222222222222222,\"#7201a8\"],[0.3333333333333333,\"#9c179e\"],[0.4444444444444444,\"#bd3786\"],[0.5555555555555556,\"#d8576b\"],[0.6666666666666666,\"#ed7953\"],[0.7777777777777778,\"#fb9f3a\"],[0.8888888888888888,\"#fdca26\"],[1.0,\"#f0f921\"]]}],\"heatmapgl\":[{\"type\":\"heatmapgl\",\"colorbar\":{\"outlinewidth\":0,\"ticks\":\"\"},\"colorscale\":[[0.0,\"#0d0887\"],[0.1111111111111111,\"#46039f\"],[0.2222222222222222,\"#7201a8\"],[0.3333333333333333,\"#9c179e\"],[0.4444444444444444,\"#bd3786\"],[0.5555555555555556,\"#d8576b\"],[0.6666666666666666,\"#ed7953\"],[0.7777777777777778,\"#fb9f3a\"],[0.8888888888888888,\"#fdca26\"],[1.0,\"#f0f921\"]]}],\"contourcarpet\":[{\"type\":\"contourcarpet\",\"colorbar\":{\"outlinewidth\":0,\"ticks\":\"\"}}],\"contour\":[{\"type\":\"contour\",\"colorbar\":{\"outlinewidth\":0,\"ticks\":\"\"},\"colorscale\":[[0.0,\"#0d0887\"],[0.1111111111111111,\"#46039f\"],[0.2222222222222222,\"#7201a8\"],[0.3333333333333333,\"#9c179e\"],[0.4444444444444444,\"#bd3786\"],[0.5555555555555556,\"#d8576b\"],[0.6666666666666666,\"#ed7953\"],[0.7777777777777778,\"#fb9f3a\"],[0.8888888888888888,\"#fdca26\"],[1.0,\"#f0f921\"]]}],\"surface\":[{\"type\":\"surface\",\"colorbar\":{\"outlinewidth\":0,\"ticks\":\"\"},\"colorscale\":[[0.0,\"#0d0887\"],[0.1111111111111111,\"#46039f\"],[0.2222222222222222,\"#7201a8\"],[0.3333333333333333,\"#9c179e\"],[0.4444444444444444,\"#bd3786\"],[0.5555555555555556,\"#d8576b\"],[0.6666666666666666,\"#ed7953\"],[0.7777777777777778,\"#fb9f3a\"],[0.8888888888888888,\"#fdca26\"],[1.0,\"#f0f921\"]]}],\"mesh3d\":[{\"type\":\"mesh3d\",\"colorbar\":{\"outlinewidth\":0,\"ticks\":\"\"}}],\"scatter\":[{\"fillpattern\":{\"fillmode\":\"overlay\",\"size\":10,\"solidity\":0.2},\"type\":\"scatter\"}],\"parcoords\":[{\"type\":\"parcoords\",\"line\":{\"colorbar\":{\"outlinewidth\":0,\"ticks\":\"\"}}}],\"scatterpolargl\":[{\"type\":\"scatterpolargl\",\"marker\":{\"colorbar\":{\"outlinewidth\":0,\"ticks\":\"\"}}}],\"bar\":[{\"error_x\":{\"color\":\"#2a3f5f\"},\"error_y\":{\"color\":\"#2a3f5f\"},\"marker\":{\"line\":{\"color\":\"#E5ECF6\",\"width\":0.5},\"pattern\":{\"fillmode\":\"overlay\",\"size\":10,\"solidity\":0.2}},\"type\":\"bar\"}],\"scattergeo\":[{\"type\":\"scattergeo\",\"marker\":{\"colorbar\":{\"outlinewidth\":0,\"ticks\":\"\"}}}],\"scatterpolar\":[{\"type\":\"scatterpolar\",\"marker\":{\"colorbar\":{\"outlinewidth\":0,\"ticks\":\"\"}}}],\"histogram\":[{\"marker\":{\"pattern\":{\"fillmode\":\"overlay\",\"size\":10,\"solidity\":0.2}},\"type\":\"histogram\"}],\"scattergl\":[{\"type\":\"scattergl\",\"marker\":{\"colorbar\":{\"outlinewidth\":0,\"ticks\":\"\"}}}],\"scatter3d\":[{\"type\":\"scatter3d\",\"line\":{\"colorbar\":{\"outlinewidth\":0,\"ticks\":\"\"}},\"marker\":{\"colorbar\":{\"outlinewidth\":0,\"ticks\":\"\"}}}],\"scattermapbox\":[{\"type\":\"scattermapbox\",\"marker\":{\"colorbar\":{\"outlinewidth\":0,\"ticks\":\"\"}}}],\"scatterternary\":[{\"type\":\"scatterternary\",\"marker\":{\"colorbar\":{\"outlinewidth\":0,\"ticks\":\"\"}}}],\"scattercarpet\":[{\"type\":\"scattercarpet\",\"marker\":{\"colorbar\":{\"outlinewidth\":0,\"ticks\":\"\"}}}],\"carpet\":[{\"aaxis\":{\"endlinecolor\":\"#2a3f5f\",\"gridcolor\":\"white\",\"linecolor\":\"white\",\"minorgridcolor\":\"white\",\"startlinecolor\":\"#2a3f5f\"},\"baxis\":{\"endlinecolor\":\"#2a3f5f\",\"gridcolor\":\"white\",\"linecolor\":\"white\",\"minorgridcolor\":\"white\",\"startlinecolor\":\"#2a3f5f\"},\"type\":\"carpet\"}],\"table\":[{\"cells\":{\"fill\":{\"color\":\"#EBF0F8\"},\"line\":{\"color\":\"white\"}},\"header\":{\"fill\":{\"color\":\"#C8D4E3\"},\"line\":{\"color\":\"white\"}},\"type\":\"table\"}],\"barpolar\":[{\"marker\":{\"line\":{\"color\":\"#E5ECF6\",\"width\":0.5},\"pattern\":{\"fillmode\":\"overlay\",\"size\":10,\"solidity\":0.2}},\"type\":\"barpolar\"}],\"pie\":[{\"automargin\":true,\"type\":\"pie\"}]},\"layout\":{\"autotypenumbers\":\"strict\",\"colorway\":[\"#636efa\",\"#EF553B\",\"#00cc96\",\"#ab63fa\",\"#FFA15A\",\"#19d3f3\",\"#FF6692\",\"#B6E880\",\"#FF97FF\",\"#FECB52\"],\"font\":{\"color\":\"#2a3f5f\"},\"hovermode\":\"closest\",\"hoverlabel\":{\"align\":\"left\"},\"paper_bgcolor\":\"white\",\"plot_bgcolor\":\"#E5ECF6\",\"polar\":{\"bgcolor\":\"#E5ECF6\",\"angularaxis\":{\"gridcolor\":\"white\",\"linecolor\":\"white\",\"ticks\":\"\"},\"radialaxis\":{\"gridcolor\":\"white\",\"linecolor\":\"white\",\"ticks\":\"\"}},\"ternary\":{\"bgcolor\":\"#E5ECF6\",\"aaxis\":{\"gridcolor\":\"white\",\"linecolor\":\"white\",\"ticks\":\"\"},\"baxis\":{\"gridcolor\":\"white\",\"linecolor\":\"white\",\"ticks\":\"\"},\"caxis\":{\"gridcolor\":\"white\",\"linecolor\":\"white\",\"ticks\":\"\"}},\"coloraxis\":{\"colorbar\":{\"outlinewidth\":0,\"ticks\":\"\"}},\"colorscale\":{\"sequential\":[[0.0,\"#0d0887\"],[0.1111111111111111,\"#46039f\"],[0.2222222222222222,\"#7201a8\"],[0.3333333333333333,\"#9c179e\"],[0.4444444444444444,\"#bd3786\"],[0.5555555555555556,\"#d8576b\"],[0.6666666666666666,\"#ed7953\"],[0.7777777777777778,\"#fb9f3a\"],[0.8888888888888888,\"#fdca26\"],[1.0,\"#f0f921\"]],\"sequentialminus\":[[0.0,\"#0d0887\"],[0.1111111111111111,\"#46039f\"],[0.2222222222222222,\"#7201a8\"],[0.3333333333333333,\"#9c179e\"],[0.4444444444444444,\"#bd3786\"],[0.5555555555555556,\"#d8576b\"],[0.6666666666666666,\"#ed7953\"],[0.7777777777777778,\"#fb9f3a\"],[0.8888888888888888,\"#fdca26\"],[1.0,\"#f0f921\"]],\"diverging\":[[0,\"#8e0152\"],[0.1,\"#c51b7d\"],[0.2,\"#de77ae\"],[0.3,\"#f1b6da\"],[0.4,\"#fde0ef\"],[0.5,\"#f7f7f7\"],[0.6,\"#e6f5d0\"],[0.7,\"#b8e186\"],[0.8,\"#7fbc41\"],[0.9,\"#4d9221\"],[1,\"#276419\"]]},\"xaxis\":{\"gridcolor\":\"white\",\"linecolor\":\"white\",\"ticks\":\"\",\"title\":{\"standoff\":15},\"zerolinecolor\":\"white\",\"automargin\":true,\"zerolinewidth\":2},\"yaxis\":{\"gridcolor\":\"white\",\"linecolor\":\"white\",\"ticks\":\"\",\"title\":{\"standoff\":15},\"zerolinecolor\":\"white\",\"automargin\":true,\"zerolinewidth\":2},\"scene\":{\"xaxis\":{\"backgroundcolor\":\"#E5ECF6\",\"gridcolor\":\"white\",\"linecolor\":\"white\",\"showbackground\":true,\"ticks\":\"\",\"zerolinecolor\":\"white\",\"gridwidth\":2},\"yaxis\":{\"backgroundcolor\":\"#E5ECF6\",\"gridcolor\":\"white\",\"linecolor\":\"white\",\"showbackground\":true,\"ticks\":\"\",\"zerolinecolor\":\"white\",\"gridwidth\":2},\"zaxis\":{\"backgroundcolor\":\"#E5ECF6\",\"gridcolor\":\"white\",\"linecolor\":\"white\",\"showbackground\":true,\"ticks\":\"\",\"zerolinecolor\":\"white\",\"gridwidth\":2}},\"shapedefaults\":{\"line\":{\"color\":\"#2a3f5f\"}},\"annotationdefaults\":{\"arrowcolor\":\"#2a3f5f\",\"arrowhead\":0,\"arrowwidth\":1},\"geo\":{\"bgcolor\":\"white\",\"landcolor\":\"#E5ECF6\",\"subunitcolor\":\"white\",\"showland\":true,\"showlakes\":true,\"lakecolor\":\"white\"},\"title\":{\"x\":0.05},\"mapbox\":{\"style\":\"light\"}}},\"xaxis\":{\"anchor\":\"y\",\"domain\":[0.0,1.0],\"title\":{\"text\":\"window_size\"}},\"yaxis\":{\"anchor\":\"x\",\"domain\":[0.0,1.0],\"title\":{\"text\":\"moving_dist\"},\"categoryorder\":\"array\",\"categoryarray\":[9.78602775078143,9.788207422910093,9.790595028696297,9.793184063106619,9.795963723606233,9.798941245998975,9.802141464160833,9.805519309043554,9.80907925519641,9.812807254351041,9.816587873460533,9.820335569820207,9.824000033938463,9.827593285747865,9.8309629896789,9.834112437759796,9.83697749601569,9.83958572530503,9.84192918151958,9.844064660082745,9.846063374079819,9.84792702114828,9.849701475989484,9.851441254833786,9.853302409657339,9.855479228703288,9.858025510000564,9.86098117303341,9.864396842049063,9.86825412319576,9.872483081932485,9.876940163718038,9.881762801019757,9.886800891914149,9.891963608598113,9.897047975934447,9.901932911311013,9.906455814209753,9.91066135021055,9.914383665827005,9.917667987274529,9.920461768315038,9.922819651787076,9.924756454643246,9.926310669517957,9.927510400667474,9.92850117786854,9.929536096958744,9.930782841921184,9.932399716354608,9.934577971157344,9.937438557413987,9.940984780312625,9.94517513986046,9.95017984828172,9.955923355973754,9.96221582974269,9.968843786678995,9.975604254914076,9.98227514121849,9.98876209215274,9.994868942359394,10.000314013304127,10.00497438989464,10.008681375615497,10.011522154721101,10.013334314521183,10.01420150904569,10.014155170460942,10.013383177227713,10.012031080505595,10.010415410416492,10.008884435484003,10.007871529413983,10.007635366348818,10.008710204804965,10.012058251671826,10.017869034722299,10.02689606796733,10.039117374748223,10.055140654917759,10.075984668049806,10.100817483058535,10.128820550113922,10.159441503849202,10.191434035441306,10.224419312639172,10.25765857312714,10.290838202858401,10.322900632728517]},\"legend\":{\"title\":{\"text\":\"moving_dist\"},\"tracegroupgap\":0},\"title\":{\"text\":\"Moving Dist vs Window Size\"}},                        {\"responsive\": true}                    ).then(function(){\n",
       "                            \n",
       "var gd = document.getElementById('205c7527-4e33-4ec1-a054-95eb8ce0542d');\n",
       "var x = new MutationObserver(function (mutations, observer) {{\n",
       "        var display = window.getComputedStyle(gd).display;\n",
       "        if (!display || display === 'none') {{\n",
       "            console.log([gd, 'removed!']);\n",
       "            Plotly.purge(gd);\n",
       "            observer.disconnect();\n",
       "        }}\n",
       "}});\n",
       "\n",
       "// Listen for the removal of the full notebook cells\n",
       "var notebookContainer = gd.closest('#notebook-container');\n",
       "if (notebookContainer) {{\n",
       "    x.observe(notebookContainer, {childList: true});\n",
       "}}\n",
       "\n",
       "// Listen for the clearing of the current output cell\n",
       "var outputEl = gd.closest('.output');\n",
       "if (outputEl) {{\n",
       "    x.observe(outputEl, {childList: true});\n",
       "}}\n",
       "\n",
       "                        })                };                });            </script>        </div>"
      ]
     },
     "metadata": {},
     "output_type": "display_data"
    }
   ],
   "source": [
    "dfp = pd.DataFrame.from_records({\"window_size\": window_sizes, \"moving_dist\": movingAvgResiduals})\n",
    "fig = px.line(dfp, x=\"window_size\", y=\"moving_dist\", title='Moving Dist vs Window Size',  symbol='moving_dist')\n",
    "fig.show()"
   ]
  },
  {
   "cell_type": "code",
   "execution_count": null,
   "id": "abaa6b01-5c1d-41c9-b689-12b368b2281b",
   "metadata": {},
   "outputs": [],
   "source": []
  }
 ],
 "metadata": {
  "kernelspec": {
   "display_name": "Python 3 (ipykernel)",
   "language": "python",
   "name": "python3"
  },
  "language_info": {
   "codemirror_mode": {
    "name": "ipython",
    "version": 3
   },
   "file_extension": ".py",
   "mimetype": "text/x-python",
   "name": "python",
   "nbconvert_exporter": "python",
   "pygments_lexer": "ipython3",
   "version": "3.12.1"
  }
 },
 "nbformat": 4,
 "nbformat_minor": 5
}
